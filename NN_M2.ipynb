{
  "nbformat": 4,
  "nbformat_minor": 0,
  "metadata": {
    "colab": {
      "provenance": []
    },
    "kernelspec": {
      "name": "python3",
      "display_name": "Python 3"
    },
    "language_info": {
      "name": "python"
    }
  },
  "cells": [
    {
      "cell_type": "code",
      "execution_count": null,
      "metadata": {
        "id": "wJWFk6Y4MhG8"
      },
      "outputs": [],
      "source": [
        "import pandas as pd\n",
        "import numpy as np\n",
        "import matplotlib.pyplot as plt\n",
        "import tensorflow as tf\n",
        "#!pip install fancyimpute\n",
        "#from fancyimpute import KNN\n",
        "from sklearn.model_selection import train_test_split"
      ]
    },
    {
      "cell_type": "code",
      "source": [
        "df=pd.read_csv('/content/train.csv')\n",
        "df.columns"
      ],
      "metadata": {
        "id": "SgbfQ3ZYMjrP",
        "outputId": "e18fb9c4-3f9e-40a1-8539-b65afc6f8c25",
        "colab": {
          "base_uri": "https://localhost:8080/",
          "height": 187
        }
      },
      "execution_count": null,
      "outputs": [
        {
          "output_type": "error",
          "ename": "NameError",
          "evalue": "ignored",
          "traceback": [
            "\u001b[0;31m---------------------------------------------------------------------------\u001b[0m",
            "\u001b[0;31mNameError\u001b[0m                                 Traceback (most recent call last)",
            "\u001b[0;32m<ipython-input-1-37a8f8cbf931>\u001b[0m in \u001b[0;36m<module>\u001b[0;34m\u001b[0m\n\u001b[0;32m----> 1\u001b[0;31m \u001b[0mdf\u001b[0m\u001b[0;34m=\u001b[0m\u001b[0mpd\u001b[0m\u001b[0;34m.\u001b[0m\u001b[0mread_csv\u001b[0m\u001b[0;34m(\u001b[0m\u001b[0;34m'/content/train.csv'\u001b[0m\u001b[0;34m)\u001b[0m\u001b[0;34m\u001b[0m\u001b[0;34m\u001b[0m\u001b[0m\n\u001b[0m\u001b[1;32m      2\u001b[0m \u001b[0mdf\u001b[0m\u001b[0;34m.\u001b[0m\u001b[0mcolumns\u001b[0m\u001b[0;34m\u001b[0m\u001b[0;34m\u001b[0m\u001b[0m\n",
            "\u001b[0;31mNameError\u001b[0m: name 'pd' is not defined"
          ]
        }
      ]
    },
    {
      "cell_type": "code",
      "source": [
        "dataset_cols=['BI DS S2','Adm BD TP S2','Adm BD DS S2','Tech Index TP S2','Tech Index DS S2','Prog web TP S2','Prog web DS S2', 'Test log TP S2', 'Test log TP S2','Test DS S2','Compilation TP S2','Compilation DS S2','IA TP S2','IA DS S2','Droit Inf DS S2','Proj federe DS S2', 'Anglais DS S2','Vision Ord TP S2', 'Vision Ord DS S2','ERP TP S2','ERP DS S2','Proba TP S1','Proba DS S1','Proba EX S1','Proba M S1','Proba C S1','TLA DS S1','TLA EX S1','TLA M S1','TLA C S1','Graphe DS S1','Graphe EX S1','Graphe M S1', 'Graphe C S1','sem1_M_module_Automates et optimisation','sem1_C_module_Automates et optimisation','Ing BD TP S1','Ing BD DS S1','Ing BD EX S1','Ing BD M S1','Ing BD Cr S1','Réseaux TP S1','Réseaux DS S1','Réseaux EX S1','Réseaux M S1','Réseaux Cr S1','sem1_M_module_Bases de données et réseaux','sem1_C_module_Bases de données et réseaux','Gestion entreprise DS S1','Gestion entreprise EX S1','Gestion entreprise M S1','Gestion entreprise Cr S1','Anglais DS S1','Anglais EX S1','Anglais M S1','Anglais Cr S1','sem1_M_module_Langue et culture','sem1_C_module_Langue et culture','UML DS S1','UML EX S1','UML M S1','UML Cr S1','Java TP S1','Java DS S1','Java EX S1','Java M S1','Java Cr S1', 'sem1_M_module_CPOO', 'sem1_C_module_CPOO','SIRS TP S1','SIRS DS S1','SIRS EX S1','SIRS M S','SIRS Cr S1','OTC TP S2','OTC DS S2','OTC EX S2','OTC M S2','OTC Cr S2', 'final_Moy S1','final_credit S1','final_Moyenne générale']\n",
        "df.columns = dataset_cols"
      ],
      "metadata": {
        "id": "MzcPeJVFEwHw"
      },
      "execution_count": null,
      "outputs": []
    },
    {
      "cell_type": "code",
      "source": [
        "'''df[df == -1]= np.nan\n",
        "knn_imputer = KNN(k=5)\n",
        "df= knn_imputer.fit_transform(df)\n",
        "df = pd.DataFrame(df, columns= dataset_cols)'''"
      ],
      "metadata": {
        "colab": {
          "base_uri": "https://localhost:8080/",
          "height": 53
        },
        "id": "8O27RQ9yMnez",
        "outputId": "5c5b4f6b-e01e-44ec-c9c2-2cb2cd6a513d"
      },
      "execution_count": null,
      "outputs": [
        {
          "output_type": "execute_result",
          "data": {
            "text/plain": [
              "'df[df == -1]= np.nan\\nknn_imputer = KNN(k=5)\\ndf= knn_imputer.fit_transform(df)\\ndf = pd.DataFrame(df, columns= dataset_cols)'"
            ],
            "application/vnd.google.colaboratory.intrinsic+json": {
              "type": "string"
            }
          },
          "metadata": {},
          "execution_count": 33
        }
      ]
    },
    {
      "cell_type": "code",
      "source": [
        "train, validate =train_test_split(df, test_size=0.2, train_size=0.8, random_state=45, shuffle=False)"
      ],
      "metadata": {
        "id": "y94uPR1WMqsm"
      },
      "execution_count": null,
      "outputs": []
    },
    {
      "cell_type": "code",
      "source": [
        "X_train, y_train = train.iloc[:,:-1], train.iloc[:, -1].values.reshape(-1, 1)\n",
        "X_validate, y_validate = validate.iloc[:,:-1], validate.iloc[:, -1].values.reshape(-1,1)"
      ],
      "metadata": {
        "id": "4OwDCMueMufj"
      },
      "execution_count": null,
      "outputs": []
    },
    {
      "cell_type": "code",
      "source": [
        "normalizer = tf.keras.layers.Normalization(input_shape=df.shape, axis= None)\n",
        "normalizer.adapt(X_train)"
      ],
      "metadata": {
        "id": "LS5MtQtyM5aD"
      },
      "execution_count": null,
      "outputs": []
    },
    {
      "cell_type": "code",
      "source": [
        "def train_model(X_train, y_train, node_nbr_l1, node_nbr_l2, node_nbr_l3, node_nbr_l4, node_nbr_l5, dropout_prob, alpha):\n",
        "    nn_model = tf.keras.Sequential([\n",
        "          tf.keras.layers.Dense(node_nbr_l1, input_shape=(81,)),\n",
        "          tf.keras.layers.Dense(node_nbr_l2, activation),\n",
        "          tf.keras.layers.Dense(node_nbr_l3),\n",
        "          tf.keras.layers.Dropout(dropout_prob),\n",
        "          tf.keras.layers.Dense(node_nbr_l4),\n",
        "          tf.keras.layers.Dense(node_nbr_l5),\n",
        "          tf.keras.layers.Dense(1)])\n",
        "    nn_model.compile(optimizer = tf.keras.optimizers.Adam(alpha), loss= \"mean_squared_error\", metrics = [\"mean_absolute_error\"])\n",
        "\n",
        "    history = nn_model.fit(\n",
        "    X_train, y_train, epochs = 1000, batch_size = 200 )\n",
        "    return nn_model, history"
      ],
      "metadata": {
        "id": "cWDfhOhFM6GR"
      },
      "execution_count": null,
      "outputs": []
    },
    {
      "cell_type": "code",
      "source": [
        "#epochs = 10\n",
        "node_nbr_l1 = 1024\n",
        "node_nbr_l2 = 1024\n",
        "node_nbr_l3 = 1024\n",
        "node_nbr_l4 = 500\n",
        "node_nbr_l5 = 500\n",
        "alpha =0.00001\n",
        "dropout_prob = 0.1\n",
        "nn_model, history = train_model(X_train, y_train, node_nbr_l1, node_nbr_l2, node_nbr_l3, node_nbr_l4, node_nbr_l5, dropout_prob, alpha)\n",
        "y_pred_ = nn_model.predict(X_validate)\n",
        "#plot_history(history)"
      ],
      "metadata": {
        "colab": {
          "base_uri": "https://localhost:8080/"
        },
        "id": "s7HElyCQM9Ia",
        "outputId": "3c0613d5-c3e1-424d-f825-efdd7f6fd5b9"
      },
      "execution_count": null,
      "outputs": [
        {
          "output_type": "stream",
          "name": "stdout",
          "text": [
            "6/6 [==============================] - 0s 15ms/step\n"
          ]
        }
      ]
    },
    {
      "cell_type": "code",
      "source": [
        "y_pred_t = nn_model.predict(X_train)\n",
        "loss_t = np.mean(abs((y_train-y_pred_t)))\n",
        "loss_t"
      ],
      "metadata": {
        "colab": {
          "base_uri": "https://localhost:8080/"
        },
        "id": "gydRhaPjNAat",
        "outputId": "43c57ec4-898b-4c9a-b17d-e2e3e3130fa6"
      },
      "execution_count": null,
      "outputs": [
        {
          "output_type": "stream",
          "name": "stdout",
          "text": [
            "5/5 [==============================] - 0s 9ms/step\n"
          ]
        },
        {
          "output_type": "execute_result",
          "data": {
            "text/plain": [
              "0.4690272478654351"
            ]
          },
          "metadata": {},
          "execution_count": 44
        }
      ]
    },
    {
      "cell_type": "code",
      "source": [
        "loss_v=np.mean(abs((y_validate-y_pred_v)))\n",
        "loss_v"
      ],
      "metadata": {
        "colab": {
          "base_uri": "https://localhost:8080/"
        },
        "id": "DeDQP-NNNFmH",
        "outputId": "c7e62b81-4f70-4903-d768-e8794780608c"
      },
      "execution_count": null,
      "outputs": [
        {
          "output_type": "execute_result",
          "data": {
            "text/plain": [
              "0.7582647599114313"
            ]
          },
          "metadata": {},
          "execution_count": 45
        }
      ]
    },
    {
      "cell_type": "code",
      "source": [
        "#test_cols=['BI DS S2','Adm BD TP S2','Adm BD DS S2','Tech Index TP S2','Tech Index DS S2','Prog web TP S2','Prog web DS S2', 'Test log TP S2', 'Test log TP S2','Test DS S2','Compilation TP S2','Compilation DS S2','IA TP S2','IA DS S2','Droit Inf DS S2','Proj federe DS S2', 'Anglais DS S2','Vision Ord TP S2', 'Vision Ord DS S2','ERP TP S2','ERP DS S2','Proba TP S1','Proba DS S1','Proba EX S1','Proba M S1','Proba C S1','TLA DS S1','TLA EX S1','TLA M S1','TLA C S1','Graphe DS S1','Graphe EX S1','Graphe M S1', 'Graphe C S1','sem1_M_module_Automates et optimisation','sem1_C_module_Automates et optimisation','Ing BD TP S1','Ing BD DS S1','Ing BD EX S1','Ing BD M S1','Ing BD Cr S1','Réseaux TP S1','Réseaux DS S1','Réseaux EX S1','Réseaux M S1','Réseaux Cr S1','sem1_M_module_Bases de données et réseaux','sem1_C_module_Bases de données et réseaux','Gestion entreprise DS S1','Gestion entreprise EX S1','Gestion entreprise M S1','Gestion entreprise Cr S1','Anglais DS S1','Anglais EX S1','Anglais M S1','Anglais Cr S1','sem1_M_module_Langue et culture','sem1_C_module_Langue et culture','UML DS S1','UML EX S1','UML M S1','UML Cr S1','Java TP S1','Java DS S1','Java EX S1','Java M S1','Java Cr S1', 'sem1_M_module_CPOO', 'sem1_C_module_CPOO','SIRS TP S1','SIRS DS S1','SIRS EX S1','SIRS M S','SIRS Cr S1','OTC TP S2','OTC DS S2','OTC EX S2','OTC M S2','OTC Cr S2', 'final_Moy S1','final_credit S1']\n",
        "test_data = pd.read_csv('/content/test.csv')\n",
        "test_data.columns = dataset_cols[:-1]\n",
        "#test_data=test_data.drop(['Gestion entreprise DS S1','Gestion entreprise M S1','Anglais DS S1','Anglais EX S1','Adm BD TP S2','Tech Index TP S2','Prog web TP S2','Test log TP S2','Compilation TP S2','IA TP S2','Droit Inf DS S2','Anglais DS S2','Vision Ord TP S2','ERP TP S2','Proba TP S1','Proba C S1','TLA C S1','Graphe C S1','sem1_C_module_Automates et optimisation','Ing BD TP S1','Réseaux TP S1','Réseaux Cr S1','sem1_C_module_Bases de données et réseaux','Gestion entreprise Cr S1','Anglais Cr S1','sem1_C_module_Langue et culture','UML Cr S1','Java TP S1','Java Cr S1','sem1_C_module_CPOO','SIRS TP S1','SIRS Cr S1','OTC TP S2','OTC Cr S2'], axis=1)\n",
        "preds = nn_model.predict(test_data)\n",
        "sub = pd.read_csv('/content/Sample Submission.csv')\n",
        "sub[\"final_Moyenne générale\"] = preds\n",
        "sub.to_csv(\"submission.csv\", index= False)"
      ],
      "metadata": {
        "colab": {
          "base_uri": "https://localhost:8080/"
        },
        "id": "NwZawk4MNMZp",
        "outputId": "b2f550e4-ffb6-4b54-94de-02c3934c6349"
      },
      "execution_count": null,
      "outputs": [
        {
          "output_type": "stream",
          "name": "stdout",
          "text": [
            "3/3 [==============================] - 0s 17ms/step\n"
          ]
        }
      ]
    }
  ]
}