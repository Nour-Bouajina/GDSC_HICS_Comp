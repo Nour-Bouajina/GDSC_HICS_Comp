{
 "cells": [
  {
   "cell_type": "code",
   "execution_count": 1,
   "id": "c693b8b6",
   "metadata": {
    "_cell_guid": "b1076dfc-b9ad-4769-8c92-a6c4dae69d19",
    "_uuid": "8f2839f25d086af736a60e9eeb907d3b93b6e0e5",
    "execution": {
     "iopub.execute_input": "2023-02-20T21:08:06.814336Z",
     "iopub.status.busy": "2023-02-20T21:08:06.813863Z",
     "iopub.status.idle": "2023-02-20T21:08:13.601462Z",
     "shell.execute_reply": "2023-02-20T21:08:13.600404Z"
    },
    "papermill": {
     "duration": 6.794646,
     "end_time": "2023-02-20T21:08:13.604241",
     "exception": false,
     "start_time": "2023-02-20T21:08:06.809595",
     "status": "completed"
    },
    "tags": []
   },
   "outputs": [],
   "source": [
    "import pandas as pd\n",
    "import numpy as np\n",
    "import matplotlib.pyplot as plt\n",
    "import tensorflow as tf\n",
    "from sklearn.neighbors import KNeighborsRegressor\n",
    "from sklearn.model_selection import train_test_split"
   ]
  },
  {
   "cell_type": "code",
   "execution_count": 2,
   "id": "51478169",
   "metadata": {
    "execution": {
     "iopub.execute_input": "2023-02-20T21:08:13.609821Z",
     "iopub.status.busy": "2023-02-20T21:08:13.609292Z",
     "iopub.status.idle": "2023-02-20T21:08:13.637531Z",
     "shell.execute_reply": "2023-02-20T21:08:13.636500Z"
    },
    "papermill": {
     "duration": 0.033317,
     "end_time": "2023-02-20T21:08:13.639737",
     "exception": false,
     "start_time": "2023-02-20T21:08:13.606420",
     "status": "completed"
    },
    "tags": []
   },
   "outputs": [],
   "source": [
    "df=pd.read_csv('/kaggle/input/lou-comp-dataset/train.csv')\n",
    "dataset_cols=['BI DS S2','Adm BD TP S2','Adm BD DS S2','Tech Index TP S2','Tech Index DS S2','Prog web TP S2','Prog web DS S2', 'Test log TP S2', 'Test log TP S2','Test DS S2','Compilation TP S2','Compilation DS S2','IA TP S2','IA DS S2','Droit Inf DS S2','Proj federe DS S2', 'Anglais DS S2','Vision Ord TP S2', 'Vision Ord DS S2','ERP TP S2','ERP DS S2','Proba TP S1','Proba DS S1','Proba EX S1','Proba M S1','Proba C S1','TLA DS S1','TLA EX S1','TLA M S1','TLA C S1','Graphe DS S1','Graphe EX S1','Graphe M S1', 'Graphe C S1','sem1_M_module_Automates et optimisation','sem1_C_module_Automates et optimisation','Ing BD TP S1','Ing BD DS S1','Ing BD EX S1','Ing BD M S1','Ing BD Cr S1','Réseaux TP S1','Réseaux DS S1','Réseaux EX S1','Réseaux M S1','Réseaux Cr S1','sem1_M_module_Bases de données et réseaux','sem1_C_module_Bases de données et réseaux','Gestion entreprise DS S1','Gestion entreprise EX S1','Gestion entreprise M S1','Gestion entreprise Cr S1','Anglais DS S1','Anglais EX S1','Anglais M S1','Anglais Cr S1','sem1_M_module_Langue et culture','sem1_C_module_Langue et culture','UML DS S1','UML EX S1','UML M S1','UML Cr S1','Java TP S1','Java DS S1','Java EX S1','Java M S1','Java Cr S1', 'sem1_M_module_CPOO', 'sem1_C_module_CPOO','SIRS TP S1','SIRS DS S1','SIRS EX S1','SIRS M S','SIRS Cr S1','OTC TP S2','OTC DS S2','OTC EX S2','OTC M S2','OTC Cr S2', 'final_Moy S1','final_credit S1','final_Moyenne générale']\n",
    "df.columns = dataset_cols"
   ]
  },
  {
   "cell_type": "code",
   "execution_count": 3,
   "id": "40ea4cee",
   "metadata": {
    "execution": {
     "iopub.execute_input": "2023-02-20T21:08:13.644416Z",
     "iopub.status.busy": "2023-02-20T21:08:13.644154Z",
     "iopub.status.idle": "2023-02-20T21:08:16.343231Z",
     "shell.execute_reply": "2023-02-20T21:08:16.342189Z"
    },
    "papermill": {
     "duration": 2.704726,
     "end_time": "2023-02-20T21:08:16.346268",
     "exception": false,
     "start_time": "2023-02-20T21:08:13.641542",
     "status": "completed"
    },
    "tags": []
   },
   "outputs": [],
   "source": [
    "train, validate = train_test_split(df, test_size=0.2, random_state=42)\n",
    "X_train, y_train = train.iloc[:,:-1], train.iloc[:, -1].values.reshape(-1, 1)\n",
    "X_validate, y_validate = validate.iloc[:,:-1], validate.iloc[:, -1].values.reshape(-1,1)\n",
    "normalizer = tf.keras.layers.Normalization(input_shape=df.shape, axis= None)\n",
    "normalizer.adapt(X_train)"
   ]
  },
  {
   "cell_type": "code",
   "execution_count": 4,
   "id": "7bf18640",
   "metadata": {
    "execution": {
     "iopub.execute_input": "2023-02-20T21:08:16.358642Z",
     "iopub.status.busy": "2023-02-20T21:08:16.357731Z",
     "iopub.status.idle": "2023-02-20T21:08:16.380676Z",
     "shell.execute_reply": "2023-02-20T21:08:16.379836Z"
    },
    "papermill": {
     "duration": 0.031119,
     "end_time": "2023-02-20T21:08:16.383227",
     "exception": false,
     "start_time": "2023-02-20T21:08:16.352108",
     "status": "completed"
    },
    "tags": []
   },
   "outputs": [
    {
     "data": {
      "text/plain": [
       "0.7927777777777776"
      ]
     },
     "execution_count": 4,
     "metadata": {},
     "output_type": "execute_result"
    }
   ],
   "source": [
    "knn = KNeighborsRegressor(n_neighbors=3)\n",
    "knn.fit(X_train, y_train)\n",
    "y_pred = knn.predict(X_validate)\n",
    "loss_v=np.mean(abs((y_validate-y_pred)))\n",
    "loss_v"
   ]
  },
  {
   "cell_type": "code",
   "execution_count": 5,
   "id": "f933ec24",
   "metadata": {
    "execution": {
     "iopub.execute_input": "2023-02-20T21:08:16.390103Z",
     "iopub.status.busy": "2023-02-20T21:08:16.389625Z",
     "iopub.status.idle": "2023-02-20T21:08:16.445577Z",
     "shell.execute_reply": "2023-02-20T21:08:16.444651Z"
    },
    "papermill": {
     "duration": 0.062508,
     "end_time": "2023-02-20T21:08:16.448492",
     "exception": false,
     "start_time": "2023-02-20T21:08:16.385984",
     "status": "completed"
    },
    "tags": []
   },
   "outputs": [],
   "source": [
    "dataset_cols=['BI DS S2','Adm BD TP S2','Adm BD DS S2','Tech Index TP S2','Tech Index DS S2','Prog web TP S2','Prog web DS S2', 'Test log TP S2', 'Test log TP S2','Test DS S2','Compilation TP S2','Compilation DS S2','IA TP S2','IA DS S2','Droit Inf DS S2','Proj federe DS S2', 'Anglais DS S2','Vision Ord TP S2', 'Vision Ord DS S2','ERP TP S2','ERP DS S2','Proba TP S1','Proba DS S1','Proba EX S1','Proba M S1','Proba C S1','TLA DS S1','TLA EX S1','TLA M S1','TLA C S1','Graphe DS S1','Graphe EX S1','Graphe M S1', 'Graphe C S1','sem1_M_module_Automates et optimisation','sem1_C_module_Automates et optimisation','Ing BD TP S1','Ing BD DS S1','Ing BD EX S1','Ing BD M S1','Ing BD Cr S1','Réseaux TP S1','Réseaux DS S1','Réseaux EX S1','Réseaux M S1','Réseaux Cr S1','sem1_M_module_Bases de données et réseaux','sem1_C_module_Bases de données et réseaux','Gestion entreprise DS S1','Gestion entreprise EX S1','Gestion entreprise M S1','Gestion entreprise Cr S1','Anglais DS S1','Anglais EX S1','Anglais M S1','Anglais Cr S1','sem1_M_module_Langue et culture','sem1_C_module_Langue et culture','UML DS S1','UML EX S1','UML M S1','UML Cr S1','Java TP S1','Java DS S1','Java EX S1','Java M S1','Java Cr S1', 'sem1_M_module_CPOO', 'sem1_C_module_CPOO','SIRS TP S1','SIRS DS S1','SIRS EX S1','SIRS M S','SIRS Cr S1','OTC TP S2','OTC DS S2','OTC EX S2','OTC M S2','OTC Cr S2', 'final_Moy S1','final_credit S1']\n",
    "test_data = pd.read_csv('/kaggle/input/lou-comp-dataset/test.csv')\n",
    "test_data.columns = dataset_cols\n",
    "#test_data=test_data.drop(['Gestion entreprise DS S1','Gestion entreprise M S1','Anglais DS S1','Anglais EX S1','Adm BD TP S2','Tech Index TP S2','Prog web TP S2','Test log TP S2','Compilation TP S2','IA TP S2','Droit Inf DS S2','Anglais DS S2','Vision Ord TP S2','ERP TP S2','Proba TP S1','Proba C S1','TLA C S1','Graphe C S1','sem1_C_module_Automates et optimisation','Ing BD TP S1','Réseaux TP S1','Réseaux Cr S1','sem1_C_module_Bases de données et réseaux','Gestion entreprise Cr S1','Anglais Cr S1','sem1_C_module_Langue et culture','UML Cr S1','Java TP S1','Java Cr S1','sem1_C_module_CPOO','SIRS TP S1','SIRS Cr S1','OTC TP S2','OTC Cr S2'], axis=1)\n",
    "preds = knn.predict(test_data)\n",
    "sub = pd.read_csv('/kaggle/input/lou-comp-dataset/Sample Submission.csv')\n",
    "sub[\"final_Moyenne générale\"] = preds\n",
    "sub.to_csv(\"submission.csv\", index= False)"
   ]
  }
 ],
 "metadata": {
  "kernelspec": {
   "display_name": "Python 3",
   "language": "python",
   "name": "python3"
  },
  "language_info": {
   "codemirror_mode": {
    "name": "ipython",
    "version": 3
   },
   "file_extension": ".py",
   "mimetype": "text/x-python",
   "name": "python",
   "nbconvert_exporter": "python",
   "pygments_lexer": "ipython3",
   "version": "3.7.12"
  },
  "papermill": {
   "default_parameters": {},
   "duration": 20.385475,
   "end_time": "2023-02-20T21:08:19.594143",
   "environment_variables": {},
   "exception": null,
   "input_path": "__notebook__.ipynb",
   "output_path": "__notebook__.ipynb",
   "parameters": {},
   "start_time": "2023-02-20T21:07:59.208668",
   "version": "2.3.4"
  }
 },
 "nbformat": 4,
 "nbformat_minor": 5
}
