{
 "cells": [
  {
   "cell_type": "code",
   "execution_count": 1,
   "id": "cb38f017",
   "metadata": {
    "execution": {
     "iopub.execute_input": "2023-02-17T22:34:09.509643Z",
     "iopub.status.busy": "2023-02-17T22:34:09.508687Z",
     "iopub.status.idle": "2023-02-17T22:34:34.594962Z",
     "shell.execute_reply": "2023-02-17T22:34:34.593972Z"
    },
    "id": "Z9izlA3SlaAk",
    "papermill": {
     "duration": 25.099737,
     "end_time": "2023-02-17T22:34:34.597461",
     "exception": false,
     "start_time": "2023-02-17T22:34:09.497724",
     "status": "completed"
    },
    "tags": []
   },
   "outputs": [
    {
     "name": "stdout",
     "output_type": "stream",
     "text": [
      "/bin/bash: /opt/conda/lib/libtinfo.so.6: no version information available (required by /bin/bash)\r\n",
      "Collecting fancyimpute\r\n",
      "  Downloading fancyimpute-0.7.0.tar.gz (25 kB)\r\n",
      "  Preparing metadata (setup.py) ... \u001b[?25l-\b \bdone\r\n",
      "\u001b[?25hCollecting knnimpute>=0.1.0\r\n",
      "  Downloading knnimpute-0.1.0.tar.gz (8.3 kB)\r\n",
      "  Preparing metadata (setup.py) ... \u001b[?25l-\b \bdone\r\n",
      "\u001b[?25hRequirement already satisfied: scikit-learn>=0.24.2 in /opt/conda/lib/python3.7/site-packages (from fancyimpute) (1.0.2)\r\n",
      "Collecting cvxpy\r\n",
      "  Downloading cvxpy-1.3.0-cp37-cp37m-manylinux_2_17_x86_64.manylinux2014_x86_64.whl (4.0 MB)\r\n",
      "\u001b[2K     \u001b[90m━━━━━━━━━━━━━━━━━━━━━━━━━━━━━━━━━━━━━━━━\u001b[0m \u001b[32m4.0/4.0 MB\u001b[0m \u001b[31m10.9 MB/s\u001b[0m eta \u001b[36m0:00:00\u001b[0m\r\n",
      "\u001b[?25hCollecting cvxopt\r\n",
      "  Downloading cvxopt-1.3.0-cp37-cp37m-manylinux_2_17_x86_64.manylinux2014_x86_64.whl (12.7 MB)\r\n",
      "\u001b[2K     \u001b[90m━━━━━━━━━━━━━━━━━━━━━━━━━━━━━━━━━━━━━━━━\u001b[0m \u001b[32m12.7/12.7 MB\u001b[0m \u001b[31m36.7 MB/s\u001b[0m eta \u001b[36m0:00:00\u001b[0m\r\n",
      "\u001b[?25hRequirement already satisfied: pytest in /opt/conda/lib/python3.7/site-packages (from fancyimpute) (7.2.1)\r\n",
      "Requirement already satisfied: nose in /opt/conda/lib/python3.7/site-packages (from fancyimpute) (1.3.7)\r\n",
      "Requirement already satisfied: six in /opt/conda/lib/python3.7/site-packages (from knnimpute>=0.1.0->fancyimpute) (1.16.0)\r\n",
      "Requirement already satisfied: numpy>=1.10 in /opt/conda/lib/python3.7/site-packages (from knnimpute>=0.1.0->fancyimpute) (1.21.6)\r\n",
      "Requirement already satisfied: joblib>=0.11 in /opt/conda/lib/python3.7/site-packages (from scikit-learn>=0.24.2->fancyimpute) (1.0.1)\r\n",
      "Requirement already satisfied: threadpoolctl>=2.0.0 in /opt/conda/lib/python3.7/site-packages (from scikit-learn>=0.24.2->fancyimpute) (3.1.0)\r\n",
      "Requirement already satisfied: scipy>=1.1.0 in /opt/conda/lib/python3.7/site-packages (from scikit-learn>=0.24.2->fancyimpute) (1.7.3)\r\n",
      "Requirement already satisfied: ecos>=2 in /opt/conda/lib/python3.7/site-packages (from cvxpy->fancyimpute) (2.0.12)\r\n",
      "Requirement already satisfied: setuptools<=64.0.2 in /opt/conda/lib/python3.7/site-packages (from cvxpy->fancyimpute) (59.8.0)\r\n",
      "Collecting scs>=1.1.6\r\n",
      "  Downloading scs-3.2.2-cp37-cp37m-manylinux_2_17_x86_64.manylinux2014_x86_64.whl (10.7 MB)\r\n",
      "\u001b[2K     \u001b[90m━━━━━━━━━━━━━━━━━━━━━━━━━━━━━━━━━━━━━━━━\u001b[0m \u001b[32m10.7/10.7 MB\u001b[0m \u001b[31m37.8 MB/s\u001b[0m eta \u001b[36m0:00:00\u001b[0m\r\n",
      "\u001b[?25hCollecting osqp>=0.4.1\r\n",
      "  Downloading osqp-0.6.2.post8-cp37-cp37m-manylinux_2_5_x86_64.manylinux1_x86_64.manylinux_2_17_x86_64.manylinux2014_x86_64.whl (296 kB)\r\n",
      "\u001b[2K     \u001b[90m━━━━━━━━━━━━━━━━━━━━━━━━━━━━━━━━━━━━━━\u001b[0m \u001b[32m296.2/296.2 kB\u001b[0m \u001b[31m16.6 MB/s\u001b[0m eta \u001b[36m0:00:00\u001b[0m\r\n",
      "\u001b[?25hRequirement already satisfied: exceptiongroup>=1.0.0rc8 in /opt/conda/lib/python3.7/site-packages (from pytest->fancyimpute) (1.1.0)\r\n",
      "Requirement already satisfied: importlib-metadata>=0.12 in /opt/conda/lib/python3.7/site-packages (from pytest->fancyimpute) (6.0.0)\r\n",
      "Requirement already satisfied: pluggy<2.0,>=0.12 in /opt/conda/lib/python3.7/site-packages (from pytest->fancyimpute) (1.0.0)\r\n",
      "Requirement already satisfied: tomli>=1.0.0 in /opt/conda/lib/python3.7/site-packages (from pytest->fancyimpute) (2.0.1)\r\n",
      "Requirement already satisfied: packaging in /opt/conda/lib/python3.7/site-packages (from pytest->fancyimpute) (23.0)\r\n",
      "Requirement already satisfied: iniconfig in /opt/conda/lib/python3.7/site-packages (from pytest->fancyimpute) (2.0.0)\r\n",
      "Requirement already satisfied: attrs>=19.2.0 in /opt/conda/lib/python3.7/site-packages (from pytest->fancyimpute) (22.1.0)\r\n",
      "Requirement already satisfied: typing-extensions>=3.6.4 in /opt/conda/lib/python3.7/site-packages (from importlib-metadata>=0.12->pytest->fancyimpute) (4.1.1)\r\n",
      "Requirement already satisfied: zipp>=0.5 in /opt/conda/lib/python3.7/site-packages (from importlib-metadata>=0.12->pytest->fancyimpute) (3.8.1)\r\n",
      "Collecting qdldl\r\n",
      "  Downloading qdldl-0.1.5.post3-cp37-cp37m-manylinux_2_17_x86_64.manylinux2014_x86_64.whl (1.1 MB)\r\n",
      "\u001b[2K     \u001b[90m━━━━━━━━━━━━━━━━━━━━━━━━━━━━━━━━━━━━━━━━\u001b[0m \u001b[32m1.1/1.1 MB\u001b[0m \u001b[31m58.2 MB/s\u001b[0m eta \u001b[36m0:00:00\u001b[0m\r\n",
      "\u001b[?25hBuilding wheels for collected packages: fancyimpute, knnimpute\r\n",
      "  Building wheel for fancyimpute (setup.py) ... \u001b[?25l-\b \b\\\b \bdone\r\n",
      "\u001b[?25h  Created wheel for fancyimpute: filename=fancyimpute-0.7.0-py3-none-any.whl size=29899 sha256=46a3c41f6ac00dbb4284f633035d7569520723b39d554fda2d7af02a0fa4223e\r\n",
      "  Stored in directory: /root/.cache/pip/wheels/e3/04/06/a1a7d89ef4e631ce6268ea2d8cde04f7290651c1ff1025ce68\r\n",
      "  Building wheel for knnimpute (setup.py) ... \u001b[?25l-\b \b\\\b \bdone\r\n",
      "\u001b[?25h  Created wheel for knnimpute: filename=knnimpute-0.1.0-py3-none-any.whl size=11353 sha256=cea76e9a3e8433f1627aa3ad4f658d89f5d7048593ca2f77eee2909f340a5e3d\r\n",
      "  Stored in directory: /root/.cache/pip/wheels/72/21/a8/a045cacd9838abd5643f6bfa852c0796a99d6b1494760494e0\r\n",
      "Successfully built fancyimpute knnimpute\r\n",
      "Installing collected packages: knnimpute, cvxopt, scs, qdldl, osqp, cvxpy, fancyimpute\r\n",
      "Successfully installed cvxopt-1.3.0 cvxpy-1.3.0 fancyimpute-0.7.0 knnimpute-0.1.0 osqp-0.6.2.post8 qdldl-0.1.5.post3 scs-3.2.2\r\n",
      "\u001b[33mWARNING: Running pip as the 'root' user can result in broken permissions and conflicting behaviour with the system package manager. It is recommended to use a virtual environment instead: https://pip.pypa.io/warnings/venv\u001b[0m\u001b[33m\r\n",
      "\u001b[0m(CVXPY) Feb 17 10:34:28 PM: Encountered unexpected exception importing solver GLOP:\n",
      "RuntimeError('Unrecognized new version of ortools (9.5.2237). Expected < 9.5.0.Please open a feature request on cvxpy to enable support for this version.')\n",
      "(CVXPY) Feb 17 10:34:28 PM: Encountered unexpected exception importing solver PDLP:\n",
      "RuntimeError('Unrecognized new version of ortools (9.5.2237). Expected < 9.5.0.Please open a feature request on cvxpy to enable support for this version.')\n"
     ]
    }
   ],
   "source": [
    "import pandas as pd\n",
    "import numpy as np\n",
    "import matplotlib.pyplot as plt\n",
    "from sklearn.linear_model import LinearRegression\n",
    "from sklearn.impute import SimpleImputer\n",
    "!pip install fancyimpute\n",
    "from fancyimpute import KNN\n",
    "from sklearn.linear_model import LinearRegression\n",
    "import tensorflow as tf"
   ]
  },
  {
   "cell_type": "code",
   "execution_count": 2,
   "id": "008a5928",
   "metadata": {
    "execution": {
     "iopub.execute_input": "2023-02-17T22:34:34.620318Z",
     "iopub.status.busy": "2023-02-17T22:34:34.619767Z",
     "iopub.status.idle": "2023-02-17T22:34:34.697019Z",
     "shell.execute_reply": "2023-02-17T22:34:34.695725Z"
    },
    "executionInfo": {
     "elapsed": 40,
     "status": "ok",
     "timestamp": 1676478932918,
     "user": {
      "displayName": "Nour Bouajina",
      "userId": "06411185987711433657"
     },
     "user_tz": -60
    },
    "id": "vVTymaiBnTbc",
    "papermill": {
     "duration": 0.090555,
     "end_time": "2023-02-17T22:34:34.698982",
     "exception": false,
     "start_time": "2023-02-17T22:34:34.608427",
     "status": "completed"
    },
    "tags": []
   },
   "outputs": [
    {
     "name": "stdout",
     "output_type": "stream",
     "text": [
      "Imputing row 1/178 with 14 missing, elapsed time: 0.017\n",
      "Imputing row 101/178 with 0 missing, elapsed time: 0.031\n"
     ]
    }
   ],
   "source": [
    "df_lou = pd.read_csv('/kaggle/input/lou-comp-dataset/train.csv')\n",
    "dataset_cols=['BI DS S2','Adm BD TP S2','Adm BD DS S2','Tech Index TP S2','Tech Index DS S2','Prog web TP S2','Prog web DS S2', 'Test log TP S2', 'Test log TP S2','Test DS S2','Compilation TP S2','Compilation DS S2','IA TP S2','IA DS S2','Droit Inf DS S2','Proj federe DS S2', 'Anglais DS S2','Vision Ord TP S2', 'Vision Ord DS S2','ERP TP S2','ERP DS S2','Proba TP S1','Proba DS S1','Proba EX S1','Proba M S1','Proba C S1','TLA DS S1','TLA EX S1','TLA M S1','TLA C S1','Graphe DS S1','Graphe EX S1','Graphe M S1', 'Graphe C S1','sem1_M_module_Automates et optimisation','sem1_C_module_Automates et optimisation','Ing BD TP S1','Ing BD DS S1','Ing BD EX S1','Ing BD M S1','Ing BD Cr S1','Réseaux TP S1','Réseaux DS S1','Réseaux EX S1','Réseaux M S1','Réseaux Cr S1','sem1_M_module_Bases de données et réseaux','sem1_C_module_Bases de données et réseaux','Gestion entreprise DS S1','Gestion entreprise EX S1','Gestion entreprise M S1','Gestion entreprise Cr S1','Anglais DS S1','Anglais EX S1','Anglais M S1','Anglais Cr S1','sem1_M_module_Langue et culture','sem1_C_module_Langue et culture','UML DS S1','UML EX S1','UML M S1','UML Cr S1','Java TP S1','Java DS S1','Java EX S1','Java M S1','Java Cr S1', 'sem1_M_module_CPOO', 'sem1_C_module_CPOO','SIRS TP S1','SIRS DS S1','SIRS EX S1','SIRS M S','SIRS Cr S1','OTC TP S2','OTC DS S2','OTC EX S2','OTC M S2','OTC Cr S2', 'final_Moy S1','final_credit S1','final_Moyenne générale']\n",
    "df_lou.columns = dataset_cols\n",
    "df = df_lou\n",
    "df[df == -1]= np.nan\n",
    "knn_imputer = KNN(k=20)\n",
    "df= knn_imputer.fit_transform(df)\n",
    "df = pd.DataFrame(df, columns= df_lou.columns)\n",
    "sub_df = df[df['final_Moyenne générale']<= 10]\n",
    "df2 = sub_df\n",
    "df2=df2.drop(['Gestion entreprise DS S1','Gestion entreprise M S1','Anglais DS S1','Anglais EX S1','Adm BD TP S2','Tech Index TP S2','Prog web TP S2','Test log TP S2','Compilation TP S2','IA TP S2','Droit Inf DS S2','Anglais DS S2','Vision Ord TP S2','ERP TP S2','Proba TP S1','Proba C S1','TLA C S1','Graphe C S1','sem1_C_module_Automates et optimisation','Ing BD TP S1','Réseaux TP S1','Réseaux Cr S1','sem1_C_module_Bases de données et réseaux','Gestion entreprise Cr S1','Anglais Cr S1','sem1_C_module_Langue et culture','UML Cr S1','Java TP S1','Java Cr S1','sem1_C_module_CPOO','SIRS TP S1','SIRS Cr S1','OTC TP S2','OTC Cr S2'], axis=1)\n"
   ]
  },
  {
   "cell_type": "code",
   "execution_count": 3,
   "id": "a1f04c29",
   "metadata": {
    "execution": {
     "iopub.execute_input": "2023-02-17T22:34:34.721955Z",
     "iopub.status.busy": "2023-02-17T22:34:34.720390Z",
     "iopub.status.idle": "2023-02-17T22:34:34.726508Z",
     "shell.execute_reply": "2023-02-17T22:34:34.725656Z"
    },
    "executionInfo": {
     "elapsed": 42,
     "status": "ok",
     "timestamp": 1676478932923,
     "user": {
      "displayName": "Nour Bouajina",
      "userId": "06411185987711433657"
     },
     "user_tz": -60
    },
    "id": "AcGX4KhypINu",
    "papermill": {
     "duration": 0.019195,
     "end_time": "2023-02-17T22:34:34.728414",
     "exception": false,
     "start_time": "2023-02-17T22:34:34.709219",
     "status": "completed"
    },
    "tags": []
   },
   "outputs": [],
   "source": [
    "#dataset_cols=['BI DS S2','Adm BD TP S2','Adm BD DS S2','Tech Index TP S2','Tech Index DS S2','Prog web TP S2','Prog web DS S2', 'Test log TP S2', 'Test log TP S2','Test DS S2','Compilation TP S2','Compilation DS S2','IA TP S2','IA DS S2','Droit Inf DS S2','Proj federe DS S2', 'Anglais DS S2','Vision Ord TP S2', 'Vision Ord DS S2','ERP TP S2','ERP DS S2','Proba TP S1','Proba DS S1','Proba EX S1','Proba M S1','Proba C S1','TLA DS S1','TLA EX S1','TLA M S1','TLA C S1','Graphe DS S1','Graphe EX S1','Graphe M S1', 'Graphe C S1','sem1_M_module_Automates et optimisation','sem1_C_module_Automates et optimisation','Ing BD TP S1','Ing BD DS S1','Ing BD EX S1','Ing BD M S1','Ing BD Cr S1','Réseaux TP S1','Réseaux DS S1','Réseaux EX S1','Réseaux M S1','Réseaux Cr S1','sem1_M_module_Bases de données et réseaux','sem1_C_module_Bases de données et réseaux','Gestion entreprise DS S1','Gestion entreprise EX S1','Gestion entreprise M S1','Gestion entreprise Cr S1','Anglais DS S1','Anglais EX S1','Anglais M S1','Anglais Cr S1','sem1_M_module_Langue et culture','sem1_C_module_Langue et culture','UML DS S1','UML EX S1','UML M S1','UML Cr S1','Java TP S1','Java DS S1','Java EX S1','Java M S1','Java Cr S1', 'sem1_M_module_CPOO', 'sem1_C_module_CPOO','SIRS TP S1','SIRS DS S1','SIRS EX S1','SIRS M S','SIRS Cr S1','OTC TP S2','OTC DS S2','OTC EX S2','OTC M S2','OTC Cr S2', 'final_Moy S1','final_credit S1','final_Moyenne générale']"
   ]
  },
  {
   "cell_type": "code",
   "execution_count": 4,
   "id": "00ede3d1",
   "metadata": {
    "execution": {
     "iopub.execute_input": "2023-02-17T22:34:34.750097Z",
     "iopub.status.busy": "2023-02-17T22:34:34.749817Z",
     "iopub.status.idle": "2023-02-17T22:34:34.754641Z",
     "shell.execute_reply": "2023-02-17T22:34:34.753819Z"
    },
    "executionInfo": {
     "elapsed": 324,
     "status": "ok",
     "timestamp": 1676501350395,
     "user": {
      "displayName": "Nour Bouajina",
      "userId": "06411185987711433657"
     },
     "user_tz": -60
    },
    "id": "H-L51DHV0Zk1",
    "outputId": "bf58c9ab-c425-494d-a90a-ff5703a79a58",
    "papermill": {
     "duration": 0.018057,
     "end_time": "2023-02-17T22:34:34.756762",
     "exception": false,
     "start_time": "2023-02-17T22:34:34.738705",
     "status": "completed"
    },
    "tags": []
   },
   "outputs": [],
   "source": [
    "#df_lou.columns = dataset_cols\n",
    "#dataset_cols"
   ]
  },
  {
   "cell_type": "code",
   "execution_count": 5,
   "id": "3e29b157",
   "metadata": {
    "execution": {
     "iopub.execute_input": "2023-02-17T22:34:34.778042Z",
     "iopub.status.busy": "2023-02-17T22:34:34.777762Z",
     "iopub.status.idle": "2023-02-17T22:34:34.781370Z",
     "shell.execute_reply": "2023-02-17T22:34:34.780444Z"
    },
    "executionInfo": {
     "elapsed": 504,
     "status": "ok",
     "timestamp": 1676478933396,
     "user": {
      "displayName": "Nour Bouajina",
      "userId": "06411185987711433657"
     },
     "user_tz": -60
    },
    "id": "yy0YlEzVNJer",
    "outputId": "de2585b8-e6b6-44f7-e3d9-25d0dd60716b",
    "papermill": {
     "duration": 0.016404,
     "end_time": "2023-02-17T22:34:34.783376",
     "exception": false,
     "start_time": "2023-02-17T22:34:34.766972",
     "status": "completed"
    },
    "tags": []
   },
   "outputs": [],
   "source": [
    "\n",
    "#df = df_lou\n",
    "#df[df == -1]= np.nan\n",
    "#knn_imputer = KNN(k=20)\n",
    "#df= knn_imputer.fit_transform(df)\n",
    "#df = pd.DataFrame(df, columns= df_lou.columns)\n"
   ]
  },
  {
   "cell_type": "code",
   "execution_count": 6,
   "id": "091f2b3c",
   "metadata": {
    "execution": {
     "iopub.execute_input": "2023-02-17T22:34:34.804551Z",
     "iopub.status.busy": "2023-02-17T22:34:34.804304Z",
     "iopub.status.idle": "2023-02-17T22:34:34.808994Z",
     "shell.execute_reply": "2023-02-17T22:34:34.808191Z"
    },
    "id": "BPLPP26181gF",
    "papermill": {
     "duration": 0.017411,
     "end_time": "2023-02-17T22:34:34.810853",
     "exception": false,
     "start_time": "2023-02-17T22:34:34.793442",
     "status": "completed"
    },
    "tags": []
   },
   "outputs": [],
   "source": [
    "# sub_df for moy < 10\n",
    "#sub_df = df[df['final_Moyenne générale']<= 10]"
   ]
  },
  {
   "cell_type": "markdown",
   "id": "4f949d96",
   "metadata": {
    "id": "V_ibN8qZCNdK",
    "papermill": {
     "duration": 0.009883,
     "end_time": "2023-02-17T22:34:34.830701",
     "exception": false,
     "start_time": "2023-02-17T22:34:34.820818",
     "status": "completed"
    },
    "tags": []
   },
   "source": [
    "#KNN imputation"
   ]
  },
  {
   "cell_type": "code",
   "execution_count": 7,
   "id": "82110c43",
   "metadata": {
    "execution": {
     "iopub.execute_input": "2023-02-17T22:34:34.852184Z",
     "iopub.status.busy": "2023-02-17T22:34:34.851932Z",
     "iopub.status.idle": "2023-02-17T22:34:34.855505Z",
     "shell.execute_reply": "2023-02-17T22:34:34.854559Z"
    },
    "executionInfo": {
     "elapsed": 45,
     "status": "ok",
     "timestamp": 1676478933400,
     "user": {
      "displayName": "Nour Bouajina",
      "userId": "06411185987711433657"
     },
     "user_tz": -60
    },
    "id": "5jMwtQFu2o5e",
    "papermill": {
     "duration": 0.016629,
     "end_time": "2023-02-17T22:34:34.857380",
     "exception": false,
     "start_time": "2023-02-17T22:34:34.840751",
     "status": "completed"
    },
    "tags": []
   },
   "outputs": [],
   "source": [
    "#df2 = sub_df"
   ]
  },
  {
   "cell_type": "markdown",
   "id": "afdd4599",
   "metadata": {
    "execution": {
     "iopub.execute_input": "2023-02-16T17:31:04.753998Z",
     "iopub.status.busy": "2023-02-16T17:31:04.753685Z",
     "iopub.status.idle": "2023-02-16T17:31:05.225230Z",
     "shell.execute_reply": "2023-02-16T17:31:05.224077Z",
     "shell.execute_reply.started": "2023-02-16T17:31:04.753971Z"
    },
    "id": "4eRTcNKNFNZc",
    "papermill": {
     "duration": 0.009881,
     "end_time": "2023-02-17T22:34:34.877227",
     "exception": false,
     "start_time": "2023-02-17T22:34:34.867346",
     "status": "completed"
    },
    "tags": []
   },
   "source": [
    "### '''\n",
    "for label in ['Gestion entreprise EX S1','Gestion entreprise M S1','Gestion entreprise DS S1','Anglais DS S1','Anglais EX S1','Anglais M S1','OTC DS S2', 'OTC EX S2','OTC M S2','TLA DS S1','TLA EX S1','TLA M S1','UML EX S1','UML M S1','final_Moy S1']:\n",
    "    plt.scatter(df2['final_Moy S1'],df2['final_Moyenne générale'])\n",
    "    plt.xlabel(label)\n",
    "    plt.ylabel('moyenne finale')\n",
    "  #plt.show()\n",
    "  '''"
   ]
  },
  {
   "cell_type": "code",
   "execution_count": 8,
   "id": "dec366ef",
   "metadata": {
    "execution": {
     "iopub.execute_input": "2023-02-17T22:34:34.898863Z",
     "iopub.status.busy": "2023-02-17T22:34:34.898043Z",
     "iopub.status.idle": "2023-02-17T22:34:34.902516Z",
     "shell.execute_reply": "2023-02-17T22:34:34.901671Z"
    },
    "executionInfo": {
     "elapsed": 73,
     "status": "ok",
     "timestamp": 1676478936266,
     "user": {
      "displayName": "Nour Bouajina",
      "userId": "06411185987711433657"
     },
     "user_tz": -60
    },
    "id": "l5V5Zta2yB53",
    "papermill": {
     "duration": 0.017212,
     "end_time": "2023-02-17T22:34:34.904473",
     "exception": false,
     "start_time": "2023-02-17T22:34:34.887261",
     "status": "completed"
    },
    "tags": []
   },
   "outputs": [],
   "source": [
    "#df2=df2.drop(['Gestion entreprise DS S1','Gestion entreprise M S1','Anglais DS S1','Anglais EX S1','Adm BD TP S2','Tech Index TP S2','Prog web TP S2','Test log TP S2','Compilation TP S2','IA TP S2','Droit Inf DS S2','Anglais DS S2','Vision Ord TP S2','ERP TP S2','Proba TP S1','Proba C S1','TLA C S1','Graphe C S1','sem1_C_module_Automates et optimisation','Ing BD TP S1','Réseaux TP S1','Réseaux Cr S1','sem1_C_module_Bases de données et réseaux','Gestion entreprise Cr S1','Anglais Cr S1','sem1_C_module_Langue et culture','UML Cr S1','Java TP S1','Java Cr S1','sem1_C_module_CPOO','SIRS TP S1','SIRS Cr S1','OTC TP S2','OTC Cr S2'], axis=1)\n",
    "#df=df.drop(['Proba C S1','TLA C S1','Graphe C S1','sem1_C_module_Automates et optimisation','Ing BD Cr S1','Réseaux Cr S1','sem1_C_module_Bases de données et réseaux', 'Gestion entreprise Cr S1','Anglais Cr S1','sem1_C_module_Langue et culture','UML Cr S1','Java Cr S1','sem1_C_module_CPOO','SIRS Cr S1','OTC Cr S2', 'final_credit S1'], axis=1)"
   ]
  },
  {
   "cell_type": "code",
   "execution_count": 9,
   "id": "d0ec960d",
   "metadata": {
    "execution": {
     "iopub.execute_input": "2023-02-17T22:34:34.925898Z",
     "iopub.status.busy": "2023-02-17T22:34:34.925653Z",
     "iopub.status.idle": "2023-02-17T22:34:34.929269Z",
     "shell.execute_reply": "2023-02-17T22:34:34.928399Z"
    },
    "executionInfo": {
     "elapsed": 382,
     "status": "ok",
     "timestamp": 1676501419777,
     "user": {
      "displayName": "Nour Bouajina",
      "userId": "06411185987711433657"
     },
     "user_tz": -60
    },
    "id": "wq5YUzu-EzCh",
    "outputId": "790e33c9-3a02-420e-da49-f3064c2f7f2d",
    "papermill": {
     "duration": 0.016617,
     "end_time": "2023-02-17T22:34:34.931155",
     "exception": false,
     "start_time": "2023-02-17T22:34:34.914538",
     "status": "completed"
    },
    "tags": []
   },
   "outputs": [],
   "source": [
    "#df2.columns"
   ]
  },
  {
   "cell_type": "code",
   "execution_count": 10,
   "id": "b86bae7a",
   "metadata": {
    "execution": {
     "iopub.execute_input": "2023-02-17T22:34:34.952870Z",
     "iopub.status.busy": "2023-02-17T22:34:34.952038Z",
     "iopub.status.idle": "2023-02-17T22:34:34.956056Z",
     "shell.execute_reply": "2023-02-17T22:34:34.955267Z"
    },
    "executionInfo": {
     "elapsed": 42,
     "status": "ok",
     "timestamp": 1676478936270,
     "user": {
      "displayName": "Nour Bouajina",
      "userId": "06411185987711433657"
     },
     "user_tz": -60
    },
    "id": "C0JrNOigCfj_",
    "papermill": {
     "duration": 0.016726,
     "end_time": "2023-02-17T22:34:34.957959",
     "exception": false,
     "start_time": "2023-02-17T22:34:34.941233",
     "status": "completed"
    },
    "tags": []
   },
   "outputs": [],
   "source": [
    "#shuffling the data\n",
    "#df = df.sample(frac=1).reset_index(drop=True)\n",
    "#df= df.reindex(np.random.permutation(df.index))\n",
    "#df_new = df\n",
    "#df_new.head()"
   ]
  },
  {
   "cell_type": "markdown",
   "id": "dbc3498f",
   "metadata": {
    "id": "OKr0-acp7x9A",
    "papermill": {
     "duration": 0.009851,
     "end_time": "2023-02-17T22:34:34.977748",
     "exception": false,
     "start_time": "2023-02-17T22:34:34.967897",
     "status": "completed"
    },
    "tags": []
   },
   "source": [
    "# Solving for missing values, Regression imputation, decision trees, random forests, gradient boosting"
   ]
  },
  {
   "cell_type": "markdown",
   "id": "70c3a6c2",
   "metadata": {
    "id": "kBRXvUZ392Wd",
    "papermill": {
     "duration": 0.009828,
     "end_time": "2023-02-17T22:34:34.997837",
     "exception": false,
     "start_time": "2023-02-17T22:34:34.988009",
     "status": "completed"
    },
    "tags": []
   },
   "source": [
    "# Train, validate"
   ]
  },
  {
   "cell_type": "code",
   "execution_count": 11,
   "id": "c592b403",
   "metadata": {
    "execution": {
     "iopub.execute_input": "2023-02-17T22:34:35.020079Z",
     "iopub.status.busy": "2023-02-17T22:34:35.018641Z",
     "iopub.status.idle": "2023-02-17T22:34:37.871942Z",
     "shell.execute_reply": "2023-02-17T22:34:37.870964Z"
    },
    "executionInfo": {
     "elapsed": 341,
     "status": "ok",
     "timestamp": 1676480392340,
     "user": {
      "displayName": "Nour Bouajina",
      "userId": "06411185987711433657"
     },
     "user_tz": -60
    },
    "id": "kzr7bM8u96wC",
    "papermill": {
     "duration": 2.866641,
     "end_time": "2023-02-17T22:34:37.874444",
     "exception": false,
     "start_time": "2023-02-17T22:34:35.007803",
     "status": "completed"
    },
    "tags": []
   },
   "outputs": [],
   "source": [
    "train, validate = np.split(df2.sample(frac = 1), [int(0.8*(len(df2)))])\n",
    "X_train, y_train = train.iloc[:,:-1], train.iloc[:, -1].values.reshape(-1, 1)\n",
    "X_validate, y_validate = validate.iloc[:,:-1], validate.iloc[:, -1].values.reshape(-1,1)\n",
    "normalizer = tf.keras.layers.Normalization(input_shape=(46,), axis= None)\n",
    "normalizer.adapt(X_train)"
   ]
  },
  {
   "cell_type": "code",
   "execution_count": 12,
   "id": "920b6f93",
   "metadata": {
    "execution": {
     "iopub.execute_input": "2023-02-17T22:34:37.897875Z",
     "iopub.status.busy": "2023-02-17T22:34:37.896378Z",
     "iopub.status.idle": "2023-02-17T22:34:37.901555Z",
     "shell.execute_reply": "2023-02-17T22:34:37.900733Z"
    },
    "executionInfo": {
     "elapsed": 422,
     "status": "ok",
     "timestamp": 1676480673783,
     "user": {
      "displayName": "Nour Bouajina",
      "userId": "06411185987711433657"
     },
     "user_tz": -60
    },
    "id": "m17JSo5n95yt",
    "papermill": {
     "duration": 0.018126,
     "end_time": "2023-02-17T22:34:37.903420",
     "exception": false,
     "start_time": "2023-02-17T22:34:37.885294",
     "status": "completed"
    },
    "tags": []
   },
   "outputs": [],
   "source": [
    "#X_train, y_train = train.iloc[:,:-1], train.iloc[:, -1].values.reshape(-1, 1)\n",
    "#X_validate, y_validate = validate.iloc[:,:-1], validate.iloc[:, -1].values.reshape(-1,1)"
   ]
  },
  {
   "cell_type": "markdown",
   "id": "5a513d4f",
   "metadata": {
    "id": "JOGqebXHyUbS",
    "papermill": {
     "duration": 0.010319,
     "end_time": "2023-02-17T22:34:37.923731",
     "exception": false,
     "start_time": "2023-02-17T22:34:37.913412",
     "status": "completed"
    },
    "tags": []
   },
   "source": [
    "# Good validation set using stratified k_fold"
   ]
  },
  {
   "cell_type": "markdown",
   "id": "4c54b854",
   "metadata": {
    "id": "m_qqCA7oeZx3",
    "papermill": {
     "duration": 0.010226,
     "end_time": "2023-02-17T22:34:37.944319",
     "exception": false,
     "start_time": "2023-02-17T22:34:37.934093",
     "status": "completed"
    },
    "tags": []
   },
   "source": [
    "# Linear Model:"
   ]
  },
  {
   "cell_type": "code",
   "execution_count": 13,
   "id": "526ea88e",
   "metadata": {
    "execution": {
     "iopub.execute_input": "2023-02-17T22:34:37.966829Z",
     "iopub.status.busy": "2023-02-17T22:34:37.966075Z",
     "iopub.status.idle": "2023-02-17T22:34:38.180715Z",
     "shell.execute_reply": "2023-02-17T22:34:38.179479Z"
    },
    "executionInfo": {
     "elapsed": 597,
     "status": "ok",
     "timestamp": 1676488366565,
     "user": {
      "displayName": "Nour Bouajina",
      "userId": "06411185987711433657"
     },
     "user_tz": -60
    },
    "id": "wVGwYuIzfJoE",
    "papermill": {
     "duration": 0.228404,
     "end_time": "2023-02-17T22:34:38.183373",
     "exception": false,
     "start_time": "2023-02-17T22:34:37.954969",
     "status": "completed"
    },
    "tags": []
   },
   "outputs": [],
   "source": [
    "x_train_lr, y_train_lr = train['final_Moy S1'].values.reshape(-1, 1) , train['final_Moyenne générale']\n",
    "x_validate_lr, y_validate_lr = validate['final_Moy S1'].values.reshape(-1, 1) , validate['final_Moyenne générale']\n",
    "normalizer = tf.keras.layers.Normalization(input_shape=(46,), axis= None)\n",
    "normalizer.adapt(X_train)\n",
    "reg_model = LinearRegression()\n",
    "reg_model.fit(x_train_lr, y_train_lr)\n",
    "y_pred = reg_model.predict(x_validate_lr)"
   ]
  },
  {
   "cell_type": "code",
   "execution_count": 14,
   "id": "d6a60eeb",
   "metadata": {
    "execution": {
     "iopub.execute_input": "2023-02-17T22:34:38.207273Z",
     "iopub.status.busy": "2023-02-17T22:34:38.206487Z",
     "iopub.status.idle": "2023-02-17T22:34:38.210647Z",
     "shell.execute_reply": "2023-02-17T22:34:38.209727Z"
    },
    "executionInfo": {
     "elapsed": 282,
     "status": "ok",
     "timestamp": 1676488367929,
     "user": {
      "displayName": "Nour Bouajina",
      "userId": "06411185987711433657"
     },
     "user_tz": -60
    },
    "id": "nf7KMO9nedMJ",
    "papermill": {
     "duration": 0.017371,
     "end_time": "2023-02-17T22:34:38.212659",
     "exception": false,
     "start_time": "2023-02-17T22:34:38.195288",
     "status": "completed"
    },
    "tags": []
   },
   "outputs": [],
   "source": [
    "\n",
    "#reg_model = LinearRegression()\n",
    "#reg_model.fit(x_train_lr, y_train_lr)\n",
    "#y_pred = reg_model.predict(x_validate_lr)\n"
   ]
  },
  {
   "cell_type": "markdown",
   "id": "6012c1ce",
   "metadata": {
    "id": "rr58AAB-OLGk",
    "papermill": {
     "duration": 0.010784,
     "end_time": "2023-02-17T22:34:38.233718",
     "exception": false,
     "start_time": "2023-02-17T22:34:38.222934",
     "status": "completed"
    },
    "tags": []
   },
   "source": [
    "# Generating Synthetic data"
   ]
  },
  {
   "cell_type": "markdown",
   "id": "7aea588b",
   "metadata": {
    "id": "_i7Jw-zAE7Wu",
    "papermill": {
     "duration": 0.00986,
     "end_time": "2023-02-17T22:34:38.253600",
     "exception": false,
     "start_time": "2023-02-17T22:34:38.243740",
     "status": "completed"
    },
    "tags": []
   },
   "source": [
    "# Neural Net"
   ]
  },
  {
   "cell_type": "code",
   "execution_count": 15,
   "id": "581c94ac",
   "metadata": {
    "execution": {
     "iopub.execute_input": "2023-02-17T22:34:38.275166Z",
     "iopub.status.busy": "2023-02-17T22:34:38.274343Z",
     "iopub.status.idle": "2023-02-17T22:34:38.278492Z",
     "shell.execute_reply": "2023-02-17T22:34:38.277658Z"
    },
    "executionInfo": {
     "elapsed": 5773,
     "status": "ok",
     "timestamp": 1676482173647,
     "user": {
      "displayName": "Nour Bouajina",
      "userId": "06411185987711433657"
     },
     "user_tz": -60
    },
    "id": "wdK1LfoEH21o",
    "papermill": {
     "duration": 0.016997,
     "end_time": "2023-02-17T22:34:38.280558",
     "exception": false,
     "start_time": "2023-02-17T22:34:38.263561",
     "status": "completed"
    },
    "tags": []
   },
   "outputs": [],
   "source": [
    "#import tensorflow as tf"
   ]
  },
  {
   "cell_type": "code",
   "execution_count": 16,
   "id": "c6eeea7b",
   "metadata": {
    "execution": {
     "iopub.execute_input": "2023-02-17T22:34:38.301682Z",
     "iopub.status.busy": "2023-02-17T22:34:38.301425Z",
     "iopub.status.idle": "2023-02-17T22:34:38.305408Z",
     "shell.execute_reply": "2023-02-17T22:34:38.304422Z"
    },
    "executionInfo": {
     "elapsed": 33,
     "status": "ok",
     "timestamp": 1676483826775,
     "user": {
      "displayName": "Nour Bouajina",
      "userId": "06411185987711433657"
     },
     "user_tz": -60
    },
    "id": "41RG5_OaK2uk",
    "papermill": {
     "duration": 0.017099,
     "end_time": "2023-02-17T22:34:38.307652",
     "exception": false,
     "start_time": "2023-02-17T22:34:38.290553",
     "status": "completed"
    },
    "tags": []
   },
   "outputs": [],
   "source": [
    "\n",
    "#def plot_history(history):\n",
    " #   fix, (ax1, ax2) = plt.subplots(1, 2, figsize= (12, 4))\n",
    "  #  ax1.plot(history.history['loss'],label = 'loss')\n",
    "   # ax1.plot(history.history['val_loss'],label = 'val_loss')\n",
    "    #ax1.set_xlabel('Epoch')\n",
    "#    ax1.set_ylabel(\"MAE\")\n",
    " #   ax1.legend()\n",
    "  #  ax2.plot(history.history['accuracy'],label = 'loss')\n",
    "   # ax2.plot(history.history['val_accuracy'],label = 'val_accuracy')\n",
    "    #ax2.set_xlabel('Epoch')\n",
    "#    ax2.set_ylabel(\"accuracy\")\n",
    " #   ax2.legend()\n",
    "  #  ax1.grid(True)\n",
    "  #  plt.show()\n",
    "   "
   ]
  },
  {
   "cell_type": "code",
   "execution_count": 17,
   "id": "2a9e51a3",
   "metadata": {
    "execution": {
     "iopub.execute_input": "2023-02-17T22:34:38.328616Z",
     "iopub.status.busy": "2023-02-17T22:34:38.328368Z",
     "iopub.status.idle": "2023-02-17T22:34:38.331991Z",
     "shell.execute_reply": "2023-02-17T22:34:38.331072Z"
    },
    "executionInfo": {
     "elapsed": 968,
     "status": "ok",
     "timestamp": 1676482177975,
     "user": {
      "displayName": "Nour Bouajina",
      "userId": "06411185987711433657"
     },
     "user_tz": -60
    },
    "id": "xYyIIgR6E_hd",
    "papermill": {
     "duration": 0.016194,
     "end_time": "2023-02-17T22:34:38.333826",
     "exception": false,
     "start_time": "2023-02-17T22:34:38.317632",
     "status": "completed"
    },
    "tags": []
   },
   "outputs": [],
   "source": [
    "#normalizer = tf.keras.layers.Normalization(input_shape=(46,), axis= None)\n",
    "#normalizer.adapt(X_train)'''"
   ]
  },
  {
   "cell_type": "code",
   "execution_count": 18,
   "id": "a9f246e0",
   "metadata": {
    "execution": {
     "iopub.execute_input": "2023-02-17T22:34:38.355968Z",
     "iopub.status.busy": "2023-02-17T22:34:38.354619Z",
     "iopub.status.idle": "2023-02-17T22:34:38.362059Z",
     "shell.execute_reply": "2023-02-17T22:34:38.361230Z"
    },
    "papermill": {
     "duration": 0.020204,
     "end_time": "2023-02-17T22:34:38.363975",
     "exception": false,
     "start_time": "2023-02-17T22:34:38.343771",
     "status": "completed"
    },
    "tags": []
   },
   "outputs": [],
   "source": [
    "def train_model(X_train, y_train, node_nbr_l1, node_nbr_l2, node_nbr_l3, batch_size, dropout_prob, alpha, epochs):\n",
    "    nn_model = tf.keras.Sequential([\n",
    "          tf.keras.layers.Dense(node_nbr_l1, activation=\"relu\", input_shape=(46,)),\n",
    "          tf.keras.layers.Dropout(dropout_prob),\n",
    "          tf.keras.layers.Dense(node_nbr_l2, activation=\"relu\"),\n",
    "          tf.keras.layers.Dropout(dropout_prob),\n",
    "          tf.keras.layers.Dense(node_nbr_l3, activation=\"relu\"),\n",
    "          tf.keras.layers.Dropout(dropout_prob),\n",
    "          tf.keras.layers.Dense(1, activation =\"relu\"),])\n",
    "    nn_model.compile(optimizer = tf.keras.optimizers.Adam(alpha), loss= \"mean_absolute_error\", metrics = [\"accuracy\"])\n",
    "\n",
    "    history = nn_model.fit(\n",
    "    X_train, y_train, epochs = epochs, batch_size = batch_size, validation_split = 0.2, verbose =0\n",
    "      )\n",
    "    return nn_model, history"
   ]
  },
  {
   "cell_type": "code",
   "execution_count": 19,
   "id": "3c67faea",
   "metadata": {
    "execution": {
     "iopub.execute_input": "2023-02-17T22:34:38.385685Z",
     "iopub.status.busy": "2023-02-17T22:34:38.384830Z",
     "iopub.status.idle": "2023-02-18T01:54:07.443497Z",
     "shell.execute_reply": "2023-02-18T01:54:07.442567Z"
    },
    "executionInfo": {
     "elapsed": 6886451,
     "status": "error",
     "timestamp": 1676501059009,
     "user": {
      "displayName": "Nour Bouajina",
      "userId": "06411185987711433657"
     },
     "user_tz": -60
    },
    "id": "7a4-Ld7pGcDH",
    "outputId": "120e5b10-8156-4de6-e7ca-18e5a402930f",
    "papermill": {
     "duration": 11969.148887,
     "end_time": "2023-02-18T01:54:07.522861",
     "exception": false,
     "start_time": "2023-02-17T22:34:38.373974",
     "status": "completed"
    },
    "tags": []
   },
   "outputs": [
    {
     "name": "stdout",
     "output_type": "stream",
     "text": [
      " node_nbr_l1= 32 node_nbr_l2= 16 node_nbr_l3= 16 batch size= 32 learning rate = 0.001 dropout prob = 0 \n",
      "1/1 [==============================] - 0s 19ms/step - loss: 7.5173 - accuracy: 0.0000e+00\n",
      " node_nbr_l1= 32 node_nbr_l2= 16 node_nbr_l3= 16 batch size= 32 learning rate = 0.001 dropout prob = 0.1 \n",
      "1/1 [==============================] - 0s 20ms/step - loss: 2.0784 - accuracy: 0.0000e+00\n",
      " node_nbr_l1= 32 node_nbr_l2= 16 node_nbr_l3= 16 batch size= 32 learning rate = 0.001 dropout prob = 0.2 \n",
      "1/1 [==============================] - 0s 19ms/step - loss: 2.7333 - accuracy: 0.0000e+00\n",
      " node_nbr_l1= 32 node_nbr_l2= 16 node_nbr_l3= 16 batch size= 32 learning rate = 5e-05 dropout prob = 0 \n",
      "1/1 [==============================] - 0s 19ms/step - loss: 1.4031 - accuracy: 0.0000e+00\n",
      " node_nbr_l1= 32 node_nbr_l2= 16 node_nbr_l3= 16 batch size= 32 learning rate = 5e-05 dropout prob = 0.1 \n",
      "1/1 [==============================] - 0s 21ms/step - loss: 2.0319 - accuracy: 0.0000e+00\n",
      " node_nbr_l1= 32 node_nbr_l2= 16 node_nbr_l3= 16 batch size= 32 learning rate = 5e-05 dropout prob = 0.2 \n",
      "1/1 [==============================] - 0s 20ms/step - loss: 2.6294 - accuracy: 0.0000e+00\n",
      " node_nbr_l1= 32 node_nbr_l2= 16 node_nbr_l3= 16 batch size= 32 learning rate = 0.0001 dropout prob = 0 \n"
     ]
    },
    {
     "name": "stderr",
     "output_type": "stream",
     "text": [
      "2023-02-17 22:37:40.689953: W tensorflow/core/data/root_dataset.cc:247] Optimization loop failed: CANCELLED: Operation was cancelled\n"
     ]
    },
    {
     "name": "stdout",
     "output_type": "stream",
     "text": [
      "1/1 [==============================] - 0s 18ms/step - loss: 7.5173 - accuracy: 0.0000e+00\n",
      " node_nbr_l1= 32 node_nbr_l2= 16 node_nbr_l3= 16 batch size= 32 learning rate = 0.0001 dropout prob = 0.1 \n",
      "1/1 [==============================] - 0s 19ms/step - loss: 1.5499 - accuracy: 0.0000e+00\n",
      " node_nbr_l1= 32 node_nbr_l2= 16 node_nbr_l3= 16 batch size= 32 learning rate = 0.0001 dropout prob = 0.2 \n",
      "1/1 [==============================] - 0s 20ms/step - loss: 4.3097 - accuracy: 0.0000e+00\n",
      " node_nbr_l1= 32 node_nbr_l2= 16 node_nbr_l3= 16 batch size= 64 learning rate = 0.001 dropout prob = 0 \n",
      "1/1 [==============================] - 0s 19ms/step - loss: 0.7490 - accuracy: 0.0000e+00\n",
      " node_nbr_l1= 32 node_nbr_l2= 16 node_nbr_l3= 16 batch size= 64 learning rate = 0.001 dropout prob = 0.1 \n",
      "1/1 [==============================] - 0s 20ms/step - loss: 1.7611 - accuracy: 0.0000e+00\n",
      " node_nbr_l1= 32 node_nbr_l2= 16 node_nbr_l3= 16 batch size= 64 learning rate = 0.001 dropout prob = 0.2 \n",
      "1/1 [==============================] - 0s 18ms/step - loss: 2.3506 - accuracy: 0.0000e+00\n",
      " node_nbr_l1= 32 node_nbr_l2= 16 node_nbr_l3= 16 batch size= 64 learning rate = 5e-05 dropout prob = 0 \n",
      "1/1 [==============================] - 0s 20ms/step - loss: 1.7006 - accuracy: 0.0000e+00\n",
      " node_nbr_l1= 32 node_nbr_l2= 16 node_nbr_l3= 16 batch size= 64 learning rate = 5e-05 dropout prob = 0.1 \n",
      "1/1 [==============================] - 0s 20ms/step - loss: 3.0446 - accuracy: 0.0000e+00\n",
      " node_nbr_l1= 32 node_nbr_l2= 16 node_nbr_l3= 16 batch size= 64 learning rate = 5e-05 dropout prob = 0.2 \n",
      "1/1 [==============================] - 0s 20ms/step - loss: 2.6381 - accuracy: 0.0000e+00\n",
      " node_nbr_l1= 32 node_nbr_l2= 16 node_nbr_l3= 16 batch size= 64 learning rate = 0.0001 dropout prob = 0 \n",
      "1/1 [==============================] - 0s 20ms/step - loss: 1.1951 - accuracy: 0.0000e+00\n",
      " node_nbr_l1= 32 node_nbr_l2= 16 node_nbr_l3= 16 batch size= 64 learning rate = 0.0001 dropout prob = 0.1 \n",
      "1/1 [==============================] - 0s 19ms/step - loss: 2.2757 - accuracy: 0.0000e+00\n",
      " node_nbr_l1= 32 node_nbr_l2= 16 node_nbr_l3= 16 batch size= 64 learning rate = 0.0001 dropout prob = 0.2 \n",
      "1/1 [==============================] - 0s 19ms/step - loss: 3.4677 - accuracy: 0.0000e+00\n",
      " node_nbr_l1= 32 node_nbr_l2= 16 node_nbr_l3= 16 batch size= 128 learning rate = 0.001 dropout prob = 0 \n",
      "1/1 [==============================] - 0s 21ms/step - loss: 1.4755 - accuracy: 0.0000e+00\n",
      " node_nbr_l1= 32 node_nbr_l2= 16 node_nbr_l3= 16 batch size= 128 learning rate = 0.001 dropout prob = 0.1 \n",
      "1/1 [==============================] - 0s 18ms/step - loss: 2.0577 - accuracy: 0.0000e+00\n",
      " node_nbr_l1= 32 node_nbr_l2= 16 node_nbr_l3= 16 batch size= 128 learning rate = 0.001 dropout prob = 0.2 \n",
      "1/1 [==============================] - 0s 18ms/step - loss: 2.1497 - accuracy: 0.0000e+00\n",
      " node_nbr_l1= 32 node_nbr_l2= 16 node_nbr_l3= 16 batch size= 128 learning rate = 5e-05 dropout prob = 0 \n",
      "1/1 [==============================] - 0s 18ms/step - loss: 1.2156 - accuracy: 0.0000e+00\n",
      " node_nbr_l1= 32 node_nbr_l2= 16 node_nbr_l3= 16 batch size= 128 learning rate = 5e-05 dropout prob = 0.1 \n",
      "1/1 [==============================] - 0s 19ms/step - loss: 1.9564 - accuracy: 0.0000e+00\n",
      " node_nbr_l1= 32 node_nbr_l2= 16 node_nbr_l3= 16 batch size= 128 learning rate = 5e-05 dropout prob = 0.2 \n",
      "1/1 [==============================] - 0s 19ms/step - loss: 4.4726 - accuracy: 0.0000e+00\n",
      " node_nbr_l1= 32 node_nbr_l2= 16 node_nbr_l3= 16 batch size= 128 learning rate = 0.0001 dropout prob = 0 \n",
      "1/1 [==============================] - 0s 18ms/step - loss: 7.5173 - accuracy: 0.0000e+00\n",
      " node_nbr_l1= 32 node_nbr_l2= 16 node_nbr_l3= 16 batch size= 128 learning rate = 0.0001 dropout prob = 0.1 \n",
      "1/1 [==============================] - 0s 21ms/step - loss: 2.2045 - accuracy: 0.0000e+00\n",
      " node_nbr_l1= 32 node_nbr_l2= 16 node_nbr_l3= 16 batch size= 128 learning rate = 0.0001 dropout prob = 0.2 \n",
      "1/1 [==============================] - 0s 18ms/step - loss: 2.5818 - accuracy: 0.0000e+00\n",
      " node_nbr_l1= 32 node_nbr_l2= 16 node_nbr_l3= 32 batch size= 32 learning rate = 0.001 dropout prob = 0 \n",
      "1/1 [==============================] - 0s 23ms/step - loss: 1.2047 - accuracy: 0.0000e+00\n",
      " node_nbr_l1= 32 node_nbr_l2= 16 node_nbr_l3= 32 batch size= 32 learning rate = 0.001 dropout prob = 0.1 \n",
      "1/1 [==============================] - 0s 20ms/step - loss: 1.9754 - accuracy: 0.0000e+00\n",
      " node_nbr_l1= 32 node_nbr_l2= 16 node_nbr_l3= 32 batch size= 32 learning rate = 0.001 dropout prob = 0.2 \n",
      "1/1 [==============================] - 0s 19ms/step - loss: 2.3321 - accuracy: 0.0000e+00\n",
      " node_nbr_l1= 32 node_nbr_l2= 16 node_nbr_l3= 32 batch size= 32 learning rate = 5e-05 dropout prob = 0 \n",
      "1/1 [==============================] - 0s 22ms/step - loss: 7.5173 - accuracy: 0.0000e+00\n",
      " node_nbr_l1= 32 node_nbr_l2= 16 node_nbr_l3= 32 batch size= 32 learning rate = 5e-05 dropout prob = 0.1 \n",
      "1/1 [==============================] - 0s 20ms/step - loss: 2.1549 - accuracy: 0.0000e+00\n",
      " node_nbr_l1= 32 node_nbr_l2= 16 node_nbr_l3= 32 batch size= 32 learning rate = 5e-05 dropout prob = 0.2 \n",
      "1/1 [==============================] - 0s 26ms/step - loss: 4.5185 - accuracy: 0.0000e+00\n",
      " node_nbr_l1= 32 node_nbr_l2= 16 node_nbr_l3= 32 batch size= 32 learning rate = 0.0001 dropout prob = 0 \n",
      "1/1 [==============================] - 0s 23ms/step - loss: 0.7962 - accuracy: 0.0000e+00\n",
      " node_nbr_l1= 32 node_nbr_l2= 16 node_nbr_l3= 32 batch size= 32 learning rate = 0.0001 dropout prob = 0.1 \n",
      "1/1 [==============================] - 0s 20ms/step - loss: 2.2798 - accuracy: 0.0000e+00\n",
      " node_nbr_l1= 32 node_nbr_l2= 16 node_nbr_l3= 32 batch size= 32 learning rate = 0.0001 dropout prob = 0.2 \n",
      "1/1 [==============================] - 0s 19ms/step - loss: 2.6858 - accuracy: 0.0000e+00\n",
      " node_nbr_l1= 32 node_nbr_l2= 16 node_nbr_l3= 32 batch size= 64 learning rate = 0.001 dropout prob = 0 \n",
      "1/1 [==============================] - 0s 21ms/step - loss: 1.3441 - accuracy: 0.0000e+00\n",
      " node_nbr_l1= 32 node_nbr_l2= 16 node_nbr_l3= 32 batch size= 64 learning rate = 0.001 dropout prob = 0.1 \n",
      "1/1 [==============================] - 0s 18ms/step - loss: 2.0838 - accuracy: 0.0000e+00\n",
      " node_nbr_l1= 32 node_nbr_l2= 16 node_nbr_l3= 32 batch size= 64 learning rate = 0.001 dropout prob = 0.2 \n",
      "1/1 [==============================] - 0s 19ms/step - loss: 2.9347 - accuracy: 0.0000e+00\n",
      " node_nbr_l1= 32 node_nbr_l2= 16 node_nbr_l3= 32 batch size= 64 learning rate = 5e-05 dropout prob = 0 \n",
      "1/1 [==============================] - 0s 18ms/step - loss: 1.1696 - accuracy: 0.0000e+00\n",
      " node_nbr_l1= 32 node_nbr_l2= 16 node_nbr_l3= 32 batch size= 64 learning rate = 5e-05 dropout prob = 0.1 \n",
      "1/1 [==============================] - 0s 18ms/step - loss: 2.5334 - accuracy: 0.0000e+00\n",
      " node_nbr_l1= 32 node_nbr_l2= 16 node_nbr_l3= 32 batch size= 64 learning rate = 5e-05 dropout prob = 0.2 \n",
      "1/1 [==============================] - 0s 19ms/step - loss: 2.7175 - accuracy: 0.0000e+00\n",
      " node_nbr_l1= 32 node_nbr_l2= 16 node_nbr_l3= 32 batch size= 64 learning rate = 0.0001 dropout prob = 0 \n",
      "1/1 [==============================] - 0s 17ms/step - loss: 1.1848 - accuracy: 0.0000e+00\n",
      " node_nbr_l1= 32 node_nbr_l2= 16 node_nbr_l3= 32 batch size= 64 learning rate = 0.0001 dropout prob = 0.1 \n",
      "1/1 [==============================] - 0s 20ms/step - loss: 1.9720 - accuracy: 0.0000e+00\n",
      " node_nbr_l1= 32 node_nbr_l2= 16 node_nbr_l3= 32 batch size= 64 learning rate = 0.0001 dropout prob = 0.2 \n",
      "1/1 [==============================] - 0s 33ms/step - loss: 2.6946 - accuracy: 0.0000e+00\n",
      " node_nbr_l1= 32 node_nbr_l2= 16 node_nbr_l3= 32 batch size= 128 learning rate = 0.001 dropout prob = 0 \n",
      "1/1 [==============================] - 0s 19ms/step - loss: 1.4960 - accuracy: 0.0000e+00\n",
      " node_nbr_l1= 32 node_nbr_l2= 16 node_nbr_l3= 32 batch size= 128 learning rate = 0.001 dropout prob = 0.1 \n",
      "1/1 [==============================] - 0s 23ms/step - loss: 1.8034 - accuracy: 0.0000e+00\n",
      " node_nbr_l1= 32 node_nbr_l2= 16 node_nbr_l3= 32 batch size= 128 learning rate = 0.001 dropout prob = 0.2 \n",
      "1/1 [==============================] - 0s 20ms/step - loss: 2.4849 - accuracy: 0.0000e+00\n",
      " node_nbr_l1= 32 node_nbr_l2= 16 node_nbr_l3= 32 batch size= 128 learning rate = 5e-05 dropout prob = 0 \n",
      "1/1 [==============================] - 0s 20ms/step - loss: 1.4054 - accuracy: 0.0000e+00\n",
      " node_nbr_l1= 32 node_nbr_l2= 16 node_nbr_l3= 32 batch size= 128 learning rate = 5e-05 dropout prob = 0.1 \n",
      "1/1 [==============================] - 0s 20ms/step - loss: 2.0502 - accuracy: 0.0000e+00\n",
      " node_nbr_l1= 32 node_nbr_l2= 16 node_nbr_l3= 32 batch size= 128 learning rate = 5e-05 dropout prob = 0.2 \n",
      "1/1 [==============================] - 0s 24ms/step - loss: 2.9706 - accuracy: 0.0000e+00\n",
      " node_nbr_l1= 32 node_nbr_l2= 16 node_nbr_l3= 32 batch size= 128 learning rate = 0.0001 dropout prob = 0 \n",
      "1/1 [==============================] - 0s 20ms/step - loss: 1.3703 - accuracy: 0.0000e+00\n",
      " node_nbr_l1= 32 node_nbr_l2= 16 node_nbr_l3= 32 batch size= 128 learning rate = 0.0001 dropout prob = 0.1 \n",
      "1/1 [==============================] - 0s 21ms/step - loss: 2.3866 - accuracy: 0.0000e+00\n",
      " node_nbr_l1= 32 node_nbr_l2= 16 node_nbr_l3= 32 batch size= 128 learning rate = 0.0001 dropout prob = 0.2 \n",
      "1/1 [==============================] - 0s 21ms/step - loss: 3.1117 - accuracy: 0.0000e+00\n",
      " node_nbr_l1= 32 node_nbr_l2= 16 node_nbr_l3= 64 batch size= 32 learning rate = 0.001 dropout prob = 0 \n",
      "1/1 [==============================] - 0s 19ms/step - loss: 7.5173 - accuracy: 0.0000e+00\n",
      " node_nbr_l1= 32 node_nbr_l2= 16 node_nbr_l3= 64 batch size= 32 learning rate = 0.001 dropout prob = 0.1 \n",
      "1/1 [==============================] - 0s 21ms/step - loss: 2.3366 - accuracy: 0.0000e+00\n",
      " node_nbr_l1= 32 node_nbr_l2= 16 node_nbr_l3= 64 batch size= 32 learning rate = 0.001 dropout prob = 0.2 \n",
      "1/1 [==============================] - 0s 18ms/step - loss: 2.9463 - accuracy: 0.0000e+00\n",
      " node_nbr_l1= 32 node_nbr_l2= 16 node_nbr_l3= 64 batch size= 32 learning rate = 5e-05 dropout prob = 0 \n",
      "1/1 [==============================] - 0s 18ms/step - loss: 1.2581 - accuracy: 0.0000e+00\n",
      " node_nbr_l1= 32 node_nbr_l2= 16 node_nbr_l3= 64 batch size= 32 learning rate = 5e-05 dropout prob = 0.1 \n",
      "1/1 [==============================] - 0s 19ms/step - loss: 1.8504 - accuracy: 0.0000e+00\n",
      " node_nbr_l1= 32 node_nbr_l2= 16 node_nbr_l3= 64 batch size= 32 learning rate = 5e-05 dropout prob = 0.2 \n",
      "1/1 [==============================] - 0s 18ms/step - loss: 2.4524 - accuracy: 0.0000e+00\n",
      " node_nbr_l1= 32 node_nbr_l2= 16 node_nbr_l3= 64 batch size= 32 learning rate = 0.0001 dropout prob = 0 \n",
      "1/1 [==============================] - 0s 23ms/step - loss: 1.3270 - accuracy: 0.0000e+00\n",
      " node_nbr_l1= 32 node_nbr_l2= 16 node_nbr_l3= 64 batch size= 32 learning rate = 0.0001 dropout prob = 0.1 \n",
      "1/1 [==============================] - 0s 21ms/step - loss: 1.9184 - accuracy: 0.0000e+00\n",
      " node_nbr_l1= 32 node_nbr_l2= 16 node_nbr_l3= 64 batch size= 32 learning rate = 0.0001 dropout prob = 0.2 \n",
      "1/1 [==============================] - 0s 25ms/step - loss: 2.8858 - accuracy: 0.0000e+00\n",
      " node_nbr_l1= 32 node_nbr_l2= 16 node_nbr_l3= 64 batch size= 64 learning rate = 0.001 dropout prob = 0 \n",
      "1/1 [==============================] - 0s 20ms/step - loss: 7.5173 - accuracy: 0.0000e+00\n",
      " node_nbr_l1= 32 node_nbr_l2= 16 node_nbr_l3= 64 batch size= 64 learning rate = 0.001 dropout prob = 0.1 \n",
      "1/1 [==============================] - 0s 46ms/step - loss: 2.1580 - accuracy: 0.0000e+00\n",
      " node_nbr_l1= 32 node_nbr_l2= 16 node_nbr_l3= 64 batch size= 64 learning rate = 0.001 dropout prob = 0.2 \n",
      "1/1 [==============================] - 0s 21ms/step - loss: 2.7375 - accuracy: 0.0000e+00\n",
      " node_nbr_l1= 32 node_nbr_l2= 16 node_nbr_l3= 64 batch size= 64 learning rate = 5e-05 dropout prob = 0 \n",
      "1/1 [==============================] - 0s 19ms/step - loss: 7.5173 - accuracy: 0.0000e+00\n",
      " node_nbr_l1= 32 node_nbr_l2= 16 node_nbr_l3= 64 batch size= 64 learning rate = 5e-05 dropout prob = 0.1 \n",
      "1/1 [==============================] - 0s 19ms/step - loss: 1.4689 - accuracy: 0.0000e+00\n",
      " node_nbr_l1= 32 node_nbr_l2= 16 node_nbr_l3= 64 batch size= 64 learning rate = 5e-05 dropout prob = 0.2 \n",
      "1/1 [==============================] - 0s 18ms/step - loss: 2.5802 - accuracy: 0.0000e+00\n",
      " node_nbr_l1= 32 node_nbr_l2= 16 node_nbr_l3= 64 batch size= 64 learning rate = 0.0001 dropout prob = 0 \n",
      "1/1 [==============================] - 0s 20ms/step - loss: 0.7710 - accuracy: 0.0000e+00\n",
      " node_nbr_l1= 32 node_nbr_l2= 16 node_nbr_l3= 64 batch size= 64 learning rate = 0.0001 dropout prob = 0.1 \n",
      "1/1 [==============================] - 0s 19ms/step - loss: 1.7689 - accuracy: 0.0000e+00\n",
      " node_nbr_l1= 32 node_nbr_l2= 16 node_nbr_l3= 64 batch size= 64 learning rate = 0.0001 dropout prob = 0.2 \n",
      "1/1 [==============================] - 0s 18ms/step - loss: 3.3007 - accuracy: 0.0000e+00\n",
      " node_nbr_l1= 32 node_nbr_l2= 16 node_nbr_l3= 64 batch size= 128 learning rate = 0.001 dropout prob = 0 \n",
      "1/1 [==============================] - 0s 19ms/step - loss: 0.9325 - accuracy: 0.0000e+00\n",
      " node_nbr_l1= 32 node_nbr_l2= 16 node_nbr_l3= 64 batch size= 128 learning rate = 0.001 dropout prob = 0.1 \n",
      "1/1 [==============================] - 0s 18ms/step - loss: 1.8236 - accuracy: 0.0000e+00\n",
      " node_nbr_l1= 32 node_nbr_l2= 16 node_nbr_l3= 64 batch size= 128 learning rate = 0.001 dropout prob = 0.2 \n",
      "1/1 [==============================] - 0s 20ms/step - loss: 2.5537 - accuracy: 0.0000e+00\n",
      " node_nbr_l1= 32 node_nbr_l2= 16 node_nbr_l3= 64 batch size= 128 learning rate = 5e-05 dropout prob = 0 \n",
      "1/1 [==============================] - 0s 19ms/step - loss: 0.8871 - accuracy: 0.0000e+00\n",
      " node_nbr_l1= 32 node_nbr_l2= 16 node_nbr_l3= 64 batch size= 128 learning rate = 5e-05 dropout prob = 0.1 \n",
      "1/1 [==============================] - 0s 19ms/step - loss: 1.8152 - accuracy: 0.0000e+00\n",
      " node_nbr_l1= 32 node_nbr_l2= 16 node_nbr_l3= 64 batch size= 128 learning rate = 5e-05 dropout prob = 0.2 \n",
      "1/1 [==============================] - 0s 19ms/step - loss: 2.8274 - accuracy: 0.0000e+00\n",
      " node_nbr_l1= 32 node_nbr_l2= 16 node_nbr_l3= 64 batch size= 128 learning rate = 0.0001 dropout prob = 0 \n",
      "1/1 [==============================] - 0s 18ms/step - loss: 0.9580 - accuracy: 0.0000e+00\n",
      " node_nbr_l1= 32 node_nbr_l2= 16 node_nbr_l3= 64 batch size= 128 learning rate = 0.0001 dropout prob = 0.1 \n",
      "1/1 [==============================] - 0s 21ms/step - loss: 2.3991 - accuracy: 0.0000e+00\n",
      " node_nbr_l1= 32 node_nbr_l2= 16 node_nbr_l3= 64 batch size= 128 learning rate = 0.0001 dropout prob = 0.2 \n",
      "1/1 [==============================] - 0s 21ms/step - loss: 3.6665 - accuracy: 0.0000e+00\n",
      " node_nbr_l1= 32 node_nbr_l2= 16 node_nbr_l3= 128 batch size= 32 learning rate = 0.001 dropout prob = 0 \n",
      "1/1 [==============================] - 0s 19ms/step - loss: 0.8525 - accuracy: 0.0000e+00\n",
      " node_nbr_l1= 32 node_nbr_l2= 16 node_nbr_l3= 128 batch size= 32 learning rate = 0.001 dropout prob = 0.1 \n",
      "1/1 [==============================] - 0s 21ms/step - loss: 1.8392 - accuracy: 0.0000e+00\n",
      " node_nbr_l1= 32 node_nbr_l2= 16 node_nbr_l3= 128 batch size= 32 learning rate = 0.001 dropout prob = 0.2 \n",
      "1/1 [==============================] - 0s 19ms/step - loss: 3.2291 - accuracy: 0.0000e+00\n",
      " node_nbr_l1= 32 node_nbr_l2= 16 node_nbr_l3= 128 batch size= 32 learning rate = 5e-05 dropout prob = 0 \n",
      "1/1 [==============================] - 0s 18ms/step - loss: 0.9341 - accuracy: 0.0000e+00\n",
      " node_nbr_l1= 32 node_nbr_l2= 16 node_nbr_l3= 128 batch size= 32 learning rate = 5e-05 dropout prob = 0.1 \n",
      "1/1 [==============================] - 0s 19ms/step - loss: 2.4389 - accuracy: 0.0000e+00\n",
      " node_nbr_l1= 32 node_nbr_l2= 16 node_nbr_l3= 128 batch size= 32 learning rate = 5e-05 dropout prob = 0.2 \n",
      "1/1 [==============================] - 0s 18ms/step - loss: 2.8643 - accuracy: 0.0000e+00\n",
      " node_nbr_l1= 32 node_nbr_l2= 16 node_nbr_l3= 128 batch size= 32 learning rate = 0.0001 dropout prob = 0 \n",
      "1/1 [==============================] - 0s 20ms/step - loss: 1.2781 - accuracy: 0.0000e+00\n",
      " node_nbr_l1= 32 node_nbr_l2= 16 node_nbr_l3= 128 batch size= 32 learning rate = 0.0001 dropout prob = 0.1 \n",
      "1/1 [==============================] - 0s 19ms/step - loss: 1.8673 - accuracy: 0.0000e+00\n",
      " node_nbr_l1= 32 node_nbr_l2= 16 node_nbr_l3= 128 batch size= 32 learning rate = 0.0001 dropout prob = 0.2 \n",
      "1/1 [==============================] - 0s 18ms/step - loss: 2.4922 - accuracy: 0.0000e+00\n",
      " node_nbr_l1= 32 node_nbr_l2= 16 node_nbr_l3= 128 batch size= 64 learning rate = 0.001 dropout prob = 0 \n",
      "1/1 [==============================] - 0s 20ms/step - loss: 7.5173 - accuracy: 0.0000e+00\n",
      " node_nbr_l1= 32 node_nbr_l2= 16 node_nbr_l3= 128 batch size= 64 learning rate = 0.001 dropout prob = 0.1 \n",
      "1/1 [==============================] - 0s 17ms/step - loss: 1.9637 - accuracy: 0.0000e+00\n",
      " node_nbr_l1= 32 node_nbr_l2= 16 node_nbr_l3= 128 batch size= 64 learning rate = 0.001 dropout prob = 0.2 \n",
      "1/1 [==============================] - 0s 19ms/step - loss: 2.4905 - accuracy: 0.0000e+00\n",
      " node_nbr_l1= 32 node_nbr_l2= 16 node_nbr_l3= 128 batch size= 64 learning rate = 5e-05 dropout prob = 0 \n",
      "1/1 [==============================] - 0s 25ms/step - loss: 7.4664 - accuracy: 0.0000e+00\n",
      " node_nbr_l1= 32 node_nbr_l2= 16 node_nbr_l3= 128 batch size= 64 learning rate = 5e-05 dropout prob = 0.1 \n",
      "1/1 [==============================] - 0s 19ms/step - loss: 1.7426 - accuracy: 0.0000e+00\n",
      " node_nbr_l1= 32 node_nbr_l2= 16 node_nbr_l3= 128 batch size= 64 learning rate = 5e-05 dropout prob = 0.2 \n",
      "1/1 [==============================] - 0s 23ms/step - loss: 2.9700 - accuracy: 0.0000e+00\n",
      " node_nbr_l1= 32 node_nbr_l2= 16 node_nbr_l3= 128 batch size= 64 learning rate = 0.0001 dropout prob = 0 \n",
      "1/1 [==============================] - 0s 20ms/step - loss: 1.3884 - accuracy: 0.0000e+00\n",
      " node_nbr_l1= 32 node_nbr_l2= 16 node_nbr_l3= 128 batch size= 64 learning rate = 0.0001 dropout prob = 0.1 \n",
      "1/1 [==============================] - 0s 19ms/step - loss: 1.7569 - accuracy: 0.0000e+00\n",
      " node_nbr_l1= 32 node_nbr_l2= 16 node_nbr_l3= 128 batch size= 64 learning rate = 0.0001 dropout prob = 0.2 \n",
      "1/1 [==============================] - 0s 21ms/step - loss: 2.3737 - accuracy: 0.0000e+00\n",
      " node_nbr_l1= 32 node_nbr_l2= 16 node_nbr_l3= 128 batch size= 128 learning rate = 0.001 dropout prob = 0 \n",
      "1/1 [==============================] - 0s 19ms/step - loss: 1.7762 - accuracy: 0.0000e+00\n",
      " node_nbr_l1= 32 node_nbr_l2= 16 node_nbr_l3= 128 batch size= 128 learning rate = 0.001 dropout prob = 0.1 \n",
      "1/1 [==============================] - 0s 20ms/step - loss: 1.8042 - accuracy: 0.0000e+00\n",
      " node_nbr_l1= 32 node_nbr_l2= 16 node_nbr_l3= 128 batch size= 128 learning rate = 0.001 dropout prob = 0.2 \n",
      "1/1 [==============================] - 0s 20ms/step - loss: 2.1932 - accuracy: 0.0000e+00\n",
      " node_nbr_l1= 32 node_nbr_l2= 16 node_nbr_l3= 128 batch size= 128 learning rate = 5e-05 dropout prob = 0 \n",
      "1/1 [==============================] - 0s 20ms/step - loss: 7.5173 - accuracy: 0.0000e+00\n",
      " node_nbr_l1= 32 node_nbr_l2= 16 node_nbr_l3= 128 batch size= 128 learning rate = 5e-05 dropout prob = 0.1 \n",
      "1/1 [==============================] - 0s 19ms/step - loss: 1.9055 - accuracy: 0.0000e+00\n",
      " node_nbr_l1= 32 node_nbr_l2= 16 node_nbr_l3= 128 batch size= 128 learning rate = 5e-05 dropout prob = 0.2 \n",
      "1/1 [==============================] - 0s 19ms/step - loss: 3.5624 - accuracy: 0.0000e+00\n",
      " node_nbr_l1= 32 node_nbr_l2= 16 node_nbr_l3= 128 batch size= 128 learning rate = 0.0001 dropout prob = 0 \n",
      "1/1 [==============================] - 0s 19ms/step - loss: 1.0970 - accuracy: 0.0000e+00\n",
      " node_nbr_l1= 32 node_nbr_l2= 16 node_nbr_l3= 128 batch size= 128 learning rate = 0.0001 dropout prob = 0.1 \n",
      "1/1 [==============================] - 0s 20ms/step - loss: 1.9259 - accuracy: 0.0000e+00\n",
      " node_nbr_l1= 32 node_nbr_l2= 16 node_nbr_l3= 128 batch size= 128 learning rate = 0.0001 dropout prob = 0.2 \n",
      "1/1 [==============================] - 0s 18ms/step - loss: 2.8086 - accuracy: 0.0000e+00\n",
      " node_nbr_l1= 32 node_nbr_l2= 32 node_nbr_l3= 16 batch size= 32 learning rate = 0.001 dropout prob = 0 \n",
      "1/1 [==============================] - 0s 19ms/step - loss: 0.8281 - accuracy: 0.0000e+00\n",
      " node_nbr_l1= 32 node_nbr_l2= 32 node_nbr_l3= 16 batch size= 32 learning rate = 0.001 dropout prob = 0.1 \n",
      "1/1 [==============================] - 0s 21ms/step - loss: 1.5845 - accuracy: 0.0000e+00\n",
      " node_nbr_l1= 32 node_nbr_l2= 32 node_nbr_l3= 16 batch size= 32 learning rate = 0.001 dropout prob = 0.2 \n",
      "1/1 [==============================] - 0s 20ms/step - loss: 3.1227 - accuracy: 0.0000e+00\n",
      " node_nbr_l1= 32 node_nbr_l2= 32 node_nbr_l3= 16 batch size= 32 learning rate = 5e-05 dropout prob = 0 \n",
      "1/1 [==============================] - 0s 22ms/step - loss: 1.3919 - accuracy: 0.0000e+00\n",
      " node_nbr_l1= 32 node_nbr_l2= 32 node_nbr_l3= 16 batch size= 32 learning rate = 5e-05 dropout prob = 0.1 \n",
      "1/1 [==============================] - 0s 22ms/step - loss: 2.3584 - accuracy: 0.0000e+00\n",
      " node_nbr_l1= 32 node_nbr_l2= 32 node_nbr_l3= 16 batch size= 32 learning rate = 5e-05 dropout prob = 0.2 \n",
      "1/1 [==============================] - 0s 20ms/step - loss: 7.3077 - accuracy: 0.0000e+00\n",
      " node_nbr_l1= 32 node_nbr_l2= 32 node_nbr_l3= 16 batch size= 32 learning rate = 0.0001 dropout prob = 0 \n",
      "1/1 [==============================] - 0s 20ms/step - loss: 7.5173 - accuracy: 0.0000e+00\n",
      " node_nbr_l1= 32 node_nbr_l2= 32 node_nbr_l3= 16 batch size= 32 learning rate = 0.0001 dropout prob = 0.1 \n",
      "1/1 [==============================] - 0s 21ms/step - loss: 1.8785 - accuracy: 0.0000e+00\n",
      " node_nbr_l1= 32 node_nbr_l2= 32 node_nbr_l3= 16 batch size= 32 learning rate = 0.0001 dropout prob = 0.2 \n",
      "1/1 [==============================] - 0s 19ms/step - loss: 3.1548 - accuracy: 0.0000e+00\n",
      " node_nbr_l1= 32 node_nbr_l2= 32 node_nbr_l3= 16 batch size= 64 learning rate = 0.001 dropout prob = 0 \n",
      "1/1 [==============================] - 0s 20ms/step - loss: 1.3376 - accuracy: 0.0000e+00\n",
      " node_nbr_l1= 32 node_nbr_l2= 32 node_nbr_l3= 16 batch size= 64 learning rate = 0.001 dropout prob = 0.1 \n",
      "1/1 [==============================] - 0s 22ms/step - loss: 2.2668 - accuracy: 0.0000e+00\n",
      " node_nbr_l1= 32 node_nbr_l2= 32 node_nbr_l3= 16 batch size= 64 learning rate = 0.001 dropout prob = 0.2 \n",
      "1/1 [==============================] - 0s 19ms/step - loss: 2.5696 - accuracy: 0.0000e+00\n",
      " node_nbr_l1= 32 node_nbr_l2= 32 node_nbr_l3= 16 batch size= 64 learning rate = 5e-05 dropout prob = 0 \n",
      "1/1 [==============================] - 0s 21ms/step - loss: 2.2571 - accuracy: 0.0000e+00\n",
      " node_nbr_l1= 32 node_nbr_l2= 32 node_nbr_l3= 16 batch size= 64 learning rate = 5e-05 dropout prob = 0.1 \n",
      "1/1 [==============================] - 0s 18ms/step - loss: 1.7969 - accuracy: 0.0000e+00\n",
      " node_nbr_l1= 32 node_nbr_l2= 32 node_nbr_l3= 16 batch size= 64 learning rate = 5e-05 dropout prob = 0.2 \n",
      "1/1 [==============================] - 0s 19ms/step - loss: 4.7924 - accuracy: 0.0000e+00\n",
      " node_nbr_l1= 32 node_nbr_l2= 32 node_nbr_l3= 16 batch size= 64 learning rate = 0.0001 dropout prob = 0 \n",
      "1/1 [==============================] - 0s 18ms/step - loss: 7.5173 - accuracy: 0.0000e+00\n",
      " node_nbr_l1= 32 node_nbr_l2= 32 node_nbr_l3= 16 batch size= 64 learning rate = 0.0001 dropout prob = 0.1 \n",
      "1/1 [==============================] - 0s 20ms/step - loss: 2.5080 - accuracy: 0.0000e+00\n",
      " node_nbr_l1= 32 node_nbr_l2= 32 node_nbr_l3= 16 batch size= 64 learning rate = 0.0001 dropout prob = 0.2 \n",
      "1/1 [==============================] - 0s 19ms/step - loss: 3.2742 - accuracy: 0.0000e+00\n",
      " node_nbr_l1= 32 node_nbr_l2= 32 node_nbr_l3= 16 batch size= 128 learning rate = 0.001 dropout prob = 0 \n",
      "1/1 [==============================] - 0s 18ms/step - loss: 1.1831 - accuracy: 0.0000e+00\n",
      " node_nbr_l1= 32 node_nbr_l2= 32 node_nbr_l3= 16 batch size= 128 learning rate = 0.001 dropout prob = 0.1 \n",
      "1/1 [==============================] - 0s 22ms/step - loss: 1.9045 - accuracy: 0.0000e+00\n",
      " node_nbr_l1= 32 node_nbr_l2= 32 node_nbr_l3= 16 batch size= 128 learning rate = 0.001 dropout prob = 0.2 \n",
      "1/1 [==============================] - 0s 20ms/step - loss: 2.6928 - accuracy: 0.0000e+00\n",
      " node_nbr_l1= 32 node_nbr_l2= 32 node_nbr_l3= 16 batch size= 128 learning rate = 5e-05 dropout prob = 0 \n",
      "1/1 [==============================] - 0s 20ms/step - loss: 1.2203 - accuracy: 0.0000e+00\n",
      " node_nbr_l1= 32 node_nbr_l2= 32 node_nbr_l3= 16 batch size= 128 learning rate = 5e-05 dropout prob = 0.1 \n",
      "1/1 [==============================] - 0s 22ms/step - loss: 1.5578 - accuracy: 0.0000e+00\n",
      " node_nbr_l1= 32 node_nbr_l2= 32 node_nbr_l3= 16 batch size= 128 learning rate = 5e-05 dropout prob = 0.2 \n",
      "1/1 [==============================] - 0s 19ms/step - loss: 3.5370 - accuracy: 0.0000e+00\n",
      " node_nbr_l1= 32 node_nbr_l2= 32 node_nbr_l3= 16 batch size= 128 learning rate = 0.0001 dropout prob = 0 \n",
      "1/1 [==============================] - 0s 21ms/step - loss: 7.4517 - accuracy: 0.0000e+00\n",
      " node_nbr_l1= 32 node_nbr_l2= 32 node_nbr_l3= 16 batch size= 128 learning rate = 0.0001 dropout prob = 0.1 \n",
      "1/1 [==============================] - 0s 21ms/step - loss: 2.5619 - accuracy: 0.0000e+00\n",
      " node_nbr_l1= 32 node_nbr_l2= 32 node_nbr_l3= 16 batch size= 128 learning rate = 0.0001 dropout prob = 0.2 \n",
      "1/1 [==============================] - 0s 18ms/step - loss: 2.9373 - accuracy: 0.0000e+00\n",
      " node_nbr_l1= 32 node_nbr_l2= 32 node_nbr_l3= 32 batch size= 32 learning rate = 0.001 dropout prob = 0 \n",
      "1/1 [==============================] - 0s 25ms/step - loss: 7.5173 - accuracy: 0.0000e+00\n",
      " node_nbr_l1= 32 node_nbr_l2= 32 node_nbr_l3= 32 batch size= 32 learning rate = 0.001 dropout prob = 0.1 \n",
      "1/1 [==============================] - 0s 20ms/step - loss: 1.3775 - accuracy: 0.0000e+00\n",
      " node_nbr_l1= 32 node_nbr_l2= 32 node_nbr_l3= 32 batch size= 32 learning rate = 0.001 dropout prob = 0.2 \n",
      "1/1 [==============================] - 0s 19ms/step - loss: 2.7968 - accuracy: 0.0000e+00\n",
      " node_nbr_l1= 32 node_nbr_l2= 32 node_nbr_l3= 32 batch size= 32 learning rate = 5e-05 dropout prob = 0 \n",
      "1/1 [==============================] - 0s 18ms/step - loss: 1.0795 - accuracy: 0.0000e+00\n",
      " node_nbr_l1= 32 node_nbr_l2= 32 node_nbr_l3= 32 batch size= 32 learning rate = 5e-05 dropout prob = 0.1 \n",
      "1/1 [==============================] - 0s 18ms/step - loss: 2.3223 - accuracy: 0.0000e+00\n",
      " node_nbr_l1= 32 node_nbr_l2= 32 node_nbr_l3= 32 batch size= 32 learning rate = 5e-05 dropout prob = 0.2 \n",
      "1/1 [==============================] - 0s 40ms/step - loss: 4.1614 - accuracy: 0.0000e+00\n",
      " node_nbr_l1= 32 node_nbr_l2= 32 node_nbr_l3= 32 batch size= 32 learning rate = 0.0001 dropout prob = 0 \n",
      "1/1 [==============================] - 0s 19ms/step - loss: 1.1507 - accuracy: 0.0000e+00\n",
      " node_nbr_l1= 32 node_nbr_l2= 32 node_nbr_l3= 32 batch size= 32 learning rate = 0.0001 dropout prob = 0.1 \n",
      "1/1 [==============================] - 0s 18ms/step - loss: 1.3461 - accuracy: 0.0000e+00\n",
      " node_nbr_l1= 32 node_nbr_l2= 32 node_nbr_l3= 32 batch size= 32 learning rate = 0.0001 dropout prob = 0.2 \n",
      "1/1 [==============================] - 0s 28ms/step - loss: 1.6948 - accuracy: 0.0000e+00\n",
      " node_nbr_l1= 32 node_nbr_l2= 32 node_nbr_l3= 32 batch size= 64 learning rate = 0.001 dropout prob = 0 \n",
      "1/1 [==============================] - 0s 21ms/step - loss: 1.3272 - accuracy: 0.0000e+00\n",
      " node_nbr_l1= 32 node_nbr_l2= 32 node_nbr_l3= 32 batch size= 64 learning rate = 0.001 dropout prob = 0.1 \n",
      "1/1 [==============================] - 0s 22ms/step - loss: 1.9746 - accuracy: 0.0000e+00\n",
      " node_nbr_l1= 32 node_nbr_l2= 32 node_nbr_l3= 32 batch size= 64 learning rate = 0.001 dropout prob = 0.2 \n",
      "1/1 [==============================] - 0s 20ms/step - loss: 2.2528 - accuracy: 0.0000e+00\n",
      " node_nbr_l1= 32 node_nbr_l2= 32 node_nbr_l3= 32 batch size= 64 learning rate = 5e-05 dropout prob = 0 \n",
      "1/1 [==============================] - 0s 18ms/step - loss: 2.0650 - accuracy: 0.0000e+00\n",
      " node_nbr_l1= 32 node_nbr_l2= 32 node_nbr_l3= 32 batch size= 64 learning rate = 5e-05 dropout prob = 0.1 \n",
      "1/1 [==============================] - 0s 19ms/step - loss: 2.0173 - accuracy: 0.0000e+00\n",
      " node_nbr_l1= 32 node_nbr_l2= 32 node_nbr_l3= 32 batch size= 64 learning rate = 5e-05 dropout prob = 0.2 \n",
      "1/1 [==============================] - 0s 19ms/step - loss: 3.8425 - accuracy: 0.0000e+00\n",
      " node_nbr_l1= 32 node_nbr_l2= 32 node_nbr_l3= 32 batch size= 64 learning rate = 0.0001 dropout prob = 0 \n",
      "1/1 [==============================] - 0s 18ms/step - loss: 1.6764 - accuracy: 0.0000e+00\n",
      " node_nbr_l1= 32 node_nbr_l2= 32 node_nbr_l3= 32 batch size= 64 learning rate = 0.0001 dropout prob = 0.1 \n",
      "1/1 [==============================] - 0s 18ms/step - loss: 1.6663 - accuracy: 0.0000e+00\n",
      " node_nbr_l1= 32 node_nbr_l2= 32 node_nbr_l3= 32 batch size= 64 learning rate = 0.0001 dropout prob = 0.2 \n",
      "1/1 [==============================] - 0s 18ms/step - loss: 2.8303 - accuracy: 0.0000e+00\n",
      " node_nbr_l1= 32 node_nbr_l2= 32 node_nbr_l3= 32 batch size= 128 learning rate = 0.001 dropout prob = 0 \n",
      "1/1 [==============================] - 0s 18ms/step - loss: 0.6064 - accuracy: 0.0000e+00\n",
      " node_nbr_l1= 32 node_nbr_l2= 32 node_nbr_l3= 32 batch size= 128 learning rate = 0.001 dropout prob = 0.1 \n",
      "1/1 [==============================] - 0s 18ms/step - loss: 1.5888 - accuracy: 0.0000e+00\n",
      " node_nbr_l1= 32 node_nbr_l2= 32 node_nbr_l3= 32 batch size= 128 learning rate = 0.001 dropout prob = 0.2 \n",
      "1/1 [==============================] - 0s 18ms/step - loss: 2.3275 - accuracy: 0.0000e+00\n",
      " node_nbr_l1= 32 node_nbr_l2= 32 node_nbr_l3= 32 batch size= 128 learning rate = 5e-05 dropout prob = 0 \n",
      "1/1 [==============================] - 0s 18ms/step - loss: 1.0148 - accuracy: 0.0000e+00\n",
      " node_nbr_l1= 32 node_nbr_l2= 32 node_nbr_l3= 32 batch size= 128 learning rate = 5e-05 dropout prob = 0.1 \n",
      "1/1 [==============================] - 0s 24ms/step - loss: 2.2663 - accuracy: 0.0000e+00\n",
      " node_nbr_l1= 32 node_nbr_l2= 32 node_nbr_l3= 32 batch size= 128 learning rate = 5e-05 dropout prob = 0.2 \n",
      "1/1 [==============================] - 0s 19ms/step - loss: 2.2939 - accuracy: 0.0000e+00\n",
      " node_nbr_l1= 32 node_nbr_l2= 32 node_nbr_l3= 32 batch size= 128 learning rate = 0.0001 dropout prob = 0 \n",
      "1/1 [==============================] - 0s 44ms/step - loss: 1.6978 - accuracy: 0.0000e+00\n",
      " node_nbr_l1= 32 node_nbr_l2= 32 node_nbr_l3= 32 batch size= 128 learning rate = 0.0001 dropout prob = 0.1 \n",
      "1/1 [==============================] - 0s 20ms/step - loss: 2.2961 - accuracy: 0.0000e+00\n",
      " node_nbr_l1= 32 node_nbr_l2= 32 node_nbr_l3= 32 batch size= 128 learning rate = 0.0001 dropout prob = 0.2 \n",
      "1/1 [==============================] - 0s 20ms/step - loss: 2.4573 - accuracy: 0.0000e+00\n",
      " node_nbr_l1= 32 node_nbr_l2= 32 node_nbr_l3= 64 batch size= 32 learning rate = 0.001 dropout prob = 0 \n",
      "1/1 [==============================] - 0s 21ms/step - loss: 7.5173 - accuracy: 0.0000e+00\n",
      " node_nbr_l1= 32 node_nbr_l2= 32 node_nbr_l3= 64 batch size= 32 learning rate = 0.001 dropout prob = 0.1 \n",
      "1/1 [==============================] - 0s 22ms/step - loss: 1.6067 - accuracy: 0.0000e+00\n",
      " node_nbr_l1= 32 node_nbr_l2= 32 node_nbr_l3= 64 batch size= 32 learning rate = 0.001 dropout prob = 0.2 \n",
      "1/1 [==============================] - 0s 19ms/step - loss: 2.9595 - accuracy: 0.0000e+00\n",
      " node_nbr_l1= 32 node_nbr_l2= 32 node_nbr_l3= 64 batch size= 32 learning rate = 5e-05 dropout prob = 0 \n",
      "1/1 [==============================] - 0s 18ms/step - loss: 7.5173 - accuracy: 0.0000e+00\n",
      " node_nbr_l1= 32 node_nbr_l2= 32 node_nbr_l3= 64 batch size= 32 learning rate = 5e-05 dropout prob = 0.1 \n",
      "1/1 [==============================] - 0s 18ms/step - loss: 1.7108 - accuracy: 0.0000e+00\n",
      " node_nbr_l1= 32 node_nbr_l2= 32 node_nbr_l3= 64 batch size= 32 learning rate = 5e-05 dropout prob = 0.2 \n",
      "1/1 [==============================] - 0s 18ms/step - loss: 2.1631 - accuracy: 0.0000e+00\n",
      " node_nbr_l1= 32 node_nbr_l2= 32 node_nbr_l3= 64 batch size= 32 learning rate = 0.0001 dropout prob = 0 \n",
      "1/1 [==============================] - 0s 20ms/step - loss: 1.1574 - accuracy: 0.0000e+00\n",
      " node_nbr_l1= 32 node_nbr_l2= 32 node_nbr_l3= 64 batch size= 32 learning rate = 0.0001 dropout prob = 0.1 \n",
      "1/1 [==============================] - 0s 20ms/step - loss: 1.5074 - accuracy: 0.0000e+00\n",
      " node_nbr_l1= 32 node_nbr_l2= 32 node_nbr_l3= 64 batch size= 32 learning rate = 0.0001 dropout prob = 0.2 \n",
      "1/1 [==============================] - 0s 20ms/step - loss: 2.7481 - accuracy: 0.0000e+00\n",
      " node_nbr_l1= 32 node_nbr_l2= 32 node_nbr_l3= 64 batch size= 64 learning rate = 0.001 dropout prob = 0 \n",
      "1/1 [==============================] - 0s 17ms/step - loss: 0.9619 - accuracy: 0.0000e+00\n",
      " node_nbr_l1= 32 node_nbr_l2= 32 node_nbr_l3= 64 batch size= 64 learning rate = 0.001 dropout prob = 0.1 \n",
      "1/1 [==============================] - 0s 19ms/step - loss: 1.4396 - accuracy: 0.0000e+00\n",
      " node_nbr_l1= 32 node_nbr_l2= 32 node_nbr_l3= 64 batch size= 64 learning rate = 0.001 dropout prob = 0.2 \n",
      "1/1 [==============================] - 0s 18ms/step - loss: 2.7545 - accuracy: 0.0000e+00\n",
      " node_nbr_l1= 32 node_nbr_l2= 32 node_nbr_l3= 64 batch size= 64 learning rate = 5e-05 dropout prob = 0 \n",
      "1/1 [==============================] - 0s 18ms/step - loss: 0.9566 - accuracy: 0.0000e+00\n",
      " node_nbr_l1= 32 node_nbr_l2= 32 node_nbr_l3= 64 batch size= 64 learning rate = 5e-05 dropout prob = 0.1 \n",
      "1/1 [==============================] - 0s 22ms/step - loss: 1.9933 - accuracy: 0.0000e+00\n",
      " node_nbr_l1= 32 node_nbr_l2= 32 node_nbr_l3= 64 batch size= 64 learning rate = 5e-05 dropout prob = 0.2 \n",
      "1/1 [==============================] - 0s 24ms/step - loss: 2.6701 - accuracy: 0.0000e+00\n",
      " node_nbr_l1= 32 node_nbr_l2= 32 node_nbr_l3= 64 batch size= 64 learning rate = 0.0001 dropout prob = 0 \n",
      "1/1 [==============================] - 0s 22ms/step - loss: 1.0327 - accuracy: 0.0000e+00\n",
      " node_nbr_l1= 32 node_nbr_l2= 32 node_nbr_l3= 64 batch size= 64 learning rate = 0.0001 dropout prob = 0.1 \n",
      "1/1 [==============================] - 0s 20ms/step - loss: 1.3450 - accuracy: 0.0000e+00\n",
      " node_nbr_l1= 32 node_nbr_l2= 32 node_nbr_l3= 64 batch size= 64 learning rate = 0.0001 dropout prob = 0.2 \n",
      "1/1 [==============================] - 0s 20ms/step - loss: 1.8416 - accuracy: 0.0000e+00\n",
      " node_nbr_l1= 32 node_nbr_l2= 32 node_nbr_l3= 64 batch size= 128 learning rate = 0.001 dropout prob = 0 \n",
      "1/1 [==============================] - 0s 19ms/step - loss: 0.8085 - accuracy: 0.0000e+00\n",
      " node_nbr_l1= 32 node_nbr_l2= 32 node_nbr_l3= 64 batch size= 128 learning rate = 0.001 dropout prob = 0.1 \n",
      "1/1 [==============================] - 0s 20ms/step - loss: 1.9983 - accuracy: 0.0000e+00\n",
      " node_nbr_l1= 32 node_nbr_l2= 32 node_nbr_l3= 64 batch size= 128 learning rate = 0.001 dropout prob = 0.2 \n",
      "1/1 [==============================] - 0s 19ms/step - loss: 2.3941 - accuracy: 0.0000e+00\n",
      " node_nbr_l1= 32 node_nbr_l2= 32 node_nbr_l3= 64 batch size= 128 learning rate = 5e-05 dropout prob = 0 \n",
      "1/1 [==============================] - 0s 19ms/step - loss: 1.4429 - accuracy: 0.0000e+00\n",
      " node_nbr_l1= 32 node_nbr_l2= 32 node_nbr_l3= 64 batch size= 128 learning rate = 5e-05 dropout prob = 0.1 \n",
      "1/1 [==============================] - 0s 18ms/step - loss: 1.6499 - accuracy: 0.0000e+00\n",
      " node_nbr_l1= 32 node_nbr_l2= 32 node_nbr_l3= 64 batch size= 128 learning rate = 5e-05 dropout prob = 0.2 \n",
      "1/1 [==============================] - 0s 18ms/step - loss: 2.6946 - accuracy: 0.0000e+00\n",
      " node_nbr_l1= 32 node_nbr_l2= 32 node_nbr_l3= 64 batch size= 128 learning rate = 0.0001 dropout prob = 0 \n",
      "1/1 [==============================] - 0s 18ms/step - loss: 7.5173 - accuracy: 0.0000e+00\n",
      " node_nbr_l1= 32 node_nbr_l2= 32 node_nbr_l3= 64 batch size= 128 learning rate = 0.0001 dropout prob = 0.1 \n"
     ]
    },
    {
     "name": "stderr",
     "output_type": "stream",
     "text": [
      "2023-02-17 23:55:55.130906: W tensorflow/core/data/root_dataset.cc:247] Optimization loop failed: CANCELLED: Operation was cancelled\n"
     ]
    },
    {
     "name": "stdout",
     "output_type": "stream",
     "text": [
      "1/1 [==============================] - 0s 18ms/step - loss: 1.9280 - accuracy: 0.0000e+00\n",
      " node_nbr_l1= 32 node_nbr_l2= 32 node_nbr_l3= 64 batch size= 128 learning rate = 0.0001 dropout prob = 0.2 \n",
      "1/1 [==============================] - 0s 19ms/step - loss: 2.8617 - accuracy: 0.0000e+00\n",
      " node_nbr_l1= 32 node_nbr_l2= 32 node_nbr_l3= 128 batch size= 32 learning rate = 0.001 dropout prob = 0 \n",
      "1/1 [==============================] - 0s 18ms/step - loss: 1.0212 - accuracy: 0.0000e+00\n",
      " node_nbr_l1= 32 node_nbr_l2= 32 node_nbr_l3= 128 batch size= 32 learning rate = 0.001 dropout prob = 0.1 \n",
      "1/1 [==============================] - 0s 19ms/step - loss: 1.8498 - accuracy: 0.0000e+00\n",
      " node_nbr_l1= 32 node_nbr_l2= 32 node_nbr_l3= 128 batch size= 32 learning rate = 0.001 dropout prob = 0.2 \n",
      "1/1 [==============================] - 0s 27ms/step - loss: 2.5854 - accuracy: 0.0000e+00\n",
      " node_nbr_l1= 32 node_nbr_l2= 32 node_nbr_l3= 128 batch size= 32 learning rate = 5e-05 dropout prob = 0 \n",
      "1/1 [==============================] - 0s 24ms/step - loss: 0.8074 - accuracy: 0.0000e+00\n",
      " node_nbr_l1= 32 node_nbr_l2= 32 node_nbr_l3= 128 batch size= 32 learning rate = 5e-05 dropout prob = 0.1 \n",
      "1/1 [==============================] - 0s 21ms/step - loss: 2.0027 - accuracy: 0.0000e+00\n",
      " node_nbr_l1= 32 node_nbr_l2= 32 node_nbr_l3= 128 batch size= 32 learning rate = 5e-05 dropout prob = 0.2 \n",
      "1/1 [==============================] - 0s 21ms/step - loss: 2.2936 - accuracy: 0.0000e+00\n",
      " node_nbr_l1= 32 node_nbr_l2= 32 node_nbr_l3= 128 batch size= 32 learning rate = 0.0001 dropout prob = 0 \n",
      "1/1 [==============================] - 0s 20ms/step - loss: 7.5173 - accuracy: 0.0000e+00\n",
      " node_nbr_l1= 32 node_nbr_l2= 32 node_nbr_l3= 128 batch size= 32 learning rate = 0.0001 dropout prob = 0.1 \n",
      "1/1 [==============================] - 0s 20ms/step - loss: 2.5822 - accuracy: 0.0000e+00\n",
      " node_nbr_l1= 32 node_nbr_l2= 32 node_nbr_l3= 128 batch size= 32 learning rate = 0.0001 dropout prob = 0.2 \n",
      "1/1 [==============================] - 0s 18ms/step - loss: 3.2309 - accuracy: 0.0000e+00\n",
      " node_nbr_l1= 32 node_nbr_l2= 32 node_nbr_l3= 128 batch size= 64 learning rate = 0.001 dropout prob = 0 \n",
      "1/1 [==============================] - 0s 18ms/step - loss: 1.1566 - accuracy: 0.0000e+00\n",
      " node_nbr_l1= 32 node_nbr_l2= 32 node_nbr_l3= 128 batch size= 64 learning rate = 0.001 dropout prob = 0.1 \n",
      "1/1 [==============================] - 0s 18ms/step - loss: 1.8142 - accuracy: 0.0000e+00\n",
      " node_nbr_l1= 32 node_nbr_l2= 32 node_nbr_l3= 128 batch size= 64 learning rate = 0.001 dropout prob = 0.2 \n",
      "1/1 [==============================] - 0s 19ms/step - loss: 2.4110 - accuracy: 0.0000e+00\n",
      " node_nbr_l1= 32 node_nbr_l2= 32 node_nbr_l3= 128 batch size= 64 learning rate = 5e-05 dropout prob = 0 \n",
      "1/1 [==============================] - 0s 25ms/step - loss: 0.9322 - accuracy: 0.0000e+00\n",
      " node_nbr_l1= 32 node_nbr_l2= 32 node_nbr_l3= 128 batch size= 64 learning rate = 5e-05 dropout prob = 0.1 \n",
      "1/1 [==============================] - 0s 17ms/step - loss: 1.5393 - accuracy: 0.0000e+00\n",
      " node_nbr_l1= 32 node_nbr_l2= 32 node_nbr_l3= 128 batch size= 64 learning rate = 5e-05 dropout prob = 0.2 \n",
      "1/1 [==============================] - 0s 19ms/step - loss: 2.4224 - accuracy: 0.0000e+00\n",
      " node_nbr_l1= 32 node_nbr_l2= 32 node_nbr_l3= 128 batch size= 64 learning rate = 0.0001 dropout prob = 0 \n",
      "1/1 [==============================] - 0s 18ms/step - loss: 7.5173 - accuracy: 0.0000e+00\n",
      " node_nbr_l1= 32 node_nbr_l2= 32 node_nbr_l3= 128 batch size= 64 learning rate = 0.0001 dropout prob = 0.1 \n",
      "1/1 [==============================] - 0s 18ms/step - loss: 2.1298 - accuracy: 0.0000e+00\n",
      " node_nbr_l1= 32 node_nbr_l2= 32 node_nbr_l3= 128 batch size= 64 learning rate = 0.0001 dropout prob = 0.2 \n",
      "1/1 [==============================] - 0s 20ms/step - loss: 2.4388 - accuracy: 0.0000e+00\n",
      " node_nbr_l1= 32 node_nbr_l2= 32 node_nbr_l3= 128 batch size= 128 learning rate = 0.001 dropout prob = 0 \n",
      "1/1 [==============================] - 0s 23ms/step - loss: 7.5173 - accuracy: 0.0000e+00\n",
      " node_nbr_l1= 32 node_nbr_l2= 32 node_nbr_l3= 128 batch size= 128 learning rate = 0.001 dropout prob = 0.1 \n",
      "1/1 [==============================] - 0s 24ms/step - loss: 1.9597 - accuracy: 0.0000e+00\n",
      " node_nbr_l1= 32 node_nbr_l2= 32 node_nbr_l3= 128 batch size= 128 learning rate = 0.001 dropout prob = 0.2 \n",
      "1/1 [==============================] - 0s 24ms/step - loss: 2.6797 - accuracy: 0.0000e+00\n",
      " node_nbr_l1= 32 node_nbr_l2= 32 node_nbr_l3= 128 batch size= 128 learning rate = 5e-05 dropout prob = 0 \n",
      "1/1 [==============================] - 0s 21ms/step - loss: 1.0274 - accuracy: 0.0000e+00\n",
      " node_nbr_l1= 32 node_nbr_l2= 32 node_nbr_l3= 128 batch size= 128 learning rate = 5e-05 dropout prob = 0.1 \n",
      "1/1 [==============================] - 0s 20ms/step - loss: 1.9394 - accuracy: 0.0000e+00\n",
      " node_nbr_l1= 32 node_nbr_l2= 32 node_nbr_l3= 128 batch size= 128 learning rate = 5e-05 dropout prob = 0.2 \n",
      "1/1 [==============================] - 0s 20ms/step - loss: 2.5421 - accuracy: 0.0000e+00\n",
      " node_nbr_l1= 32 node_nbr_l2= 32 node_nbr_l3= 128 batch size= 128 learning rate = 0.0001 dropout prob = 0 \n",
      "1/1 [==============================] - 0s 19ms/step - loss: 0.9925 - accuracy: 0.0000e+00\n",
      " node_nbr_l1= 32 node_nbr_l2= 32 node_nbr_l3= 128 batch size= 128 learning rate = 0.0001 dropout prob = 0.1 \n",
      "1/1 [==============================] - 0s 19ms/step - loss: 1.6686 - accuracy: 0.0000e+00\n",
      " node_nbr_l1= 32 node_nbr_l2= 32 node_nbr_l3= 128 batch size= 128 learning rate = 0.0001 dropout prob = 0.2 \n",
      "1/1 [==============================] - 0s 19ms/step - loss: 2.5172 - accuracy: 0.0000e+00\n",
      " node_nbr_l1= 32 node_nbr_l2= 64 node_nbr_l3= 16 batch size= 32 learning rate = 0.001 dropout prob = 0 \n",
      "1/1 [==============================] - 0s 20ms/step - loss: 7.5173 - accuracy: 0.0000e+00\n",
      " node_nbr_l1= 32 node_nbr_l2= 64 node_nbr_l3= 16 batch size= 32 learning rate = 0.001 dropout prob = 0.1 \n",
      "1/1 [==============================] - 0s 18ms/step - loss: 1.9178 - accuracy: 0.0000e+00\n",
      " node_nbr_l1= 32 node_nbr_l2= 64 node_nbr_l3= 16 batch size= 32 learning rate = 0.001 dropout prob = 0.2 \n",
      "1/1 [==============================] - 0s 19ms/step - loss: 2.5077 - accuracy: 0.0000e+00\n",
      " node_nbr_l1= 32 node_nbr_l2= 64 node_nbr_l3= 16 batch size= 32 learning rate = 5e-05 dropout prob = 0 \n",
      "1/1 [==============================] - 0s 17ms/step - loss: 0.9047 - accuracy: 0.0000e+00\n",
      " node_nbr_l1= 32 node_nbr_l2= 64 node_nbr_l3= 16 batch size= 32 learning rate = 5e-05 dropout prob = 0.1 \n",
      "1/1 [==============================] - 0s 19ms/step - loss: 2.1665 - accuracy: 0.0000e+00\n",
      " node_nbr_l1= 32 node_nbr_l2= 64 node_nbr_l3= 16 batch size= 32 learning rate = 5e-05 dropout prob = 0.2 \n",
      "1/1 [==============================] - 0s 19ms/step - loss: 3.3492 - accuracy: 0.0000e+00\n",
      " node_nbr_l1= 32 node_nbr_l2= 64 node_nbr_l3= 16 batch size= 32 learning rate = 0.0001 dropout prob = 0 \n",
      "1/1 [==============================] - 0s 22ms/step - loss: 7.5173 - accuracy: 0.0000e+00\n",
      " node_nbr_l1= 32 node_nbr_l2= 64 node_nbr_l3= 16 batch size= 32 learning rate = 0.0001 dropout prob = 0.1 \n",
      "1/1 [==============================] - 0s 25ms/step - loss: 1.9161 - accuracy: 0.0000e+00\n",
      " node_nbr_l1= 32 node_nbr_l2= 64 node_nbr_l3= 16 batch size= 32 learning rate = 0.0001 dropout prob = 0.2 \n",
      "1/1 [==============================] - 0s 28ms/step - loss: 3.6996 - accuracy: 0.0000e+00\n",
      " node_nbr_l1= 32 node_nbr_l2= 64 node_nbr_l3= 16 batch size= 64 learning rate = 0.001 dropout prob = 0 \n",
      "1/1 [==============================] - 0s 24ms/step - loss: 0.7726 - accuracy: 0.0000e+00\n",
      " node_nbr_l1= 32 node_nbr_l2= 64 node_nbr_l3= 16 batch size= 64 learning rate = 0.001 dropout prob = 0.1 \n"
     ]
    },
    {
     "name": "stderr",
     "output_type": "stream",
     "text": [
      "2023-02-18 00:13:20.369148: W tensorflow/core/data/root_dataset.cc:247] Optimization loop failed: CANCELLED: Operation was cancelled\n"
     ]
    },
    {
     "name": "stdout",
     "output_type": "stream",
     "text": [
      "1/1 [==============================] - 0s 23ms/step - loss: 1.8833 - accuracy: 0.0000e+00\n",
      " node_nbr_l1= 32 node_nbr_l2= 64 node_nbr_l3= 16 batch size= 64 learning rate = 0.001 dropout prob = 0.2 \n",
      "1/1 [==============================] - 0s 23ms/step - loss: 2.1536 - accuracy: 0.0000e+00\n",
      " node_nbr_l1= 32 node_nbr_l2= 64 node_nbr_l3= 16 batch size= 64 learning rate = 5e-05 dropout prob = 0 \n",
      "1/1 [==============================] - 0s 22ms/step - loss: 1.5916 - accuracy: 0.0000e+00\n",
      " node_nbr_l1= 32 node_nbr_l2= 64 node_nbr_l3= 16 batch size= 64 learning rate = 5e-05 dropout prob = 0.1 \n",
      "1/1 [==============================] - 0s 23ms/step - loss: 2.5061 - accuracy: 0.0000e+00\n",
      " node_nbr_l1= 32 node_nbr_l2= 64 node_nbr_l3= 16 batch size= 64 learning rate = 5e-05 dropout prob = 0.2 \n",
      "1/1 [==============================] - 0s 19ms/step - loss: 2.3042 - accuracy: 0.0000e+00\n",
      " node_nbr_l1= 32 node_nbr_l2= 64 node_nbr_l3= 16 batch size= 64 learning rate = 0.0001 dropout prob = 0 \n",
      "1/1 [==============================] - 0s 20ms/step - loss: 7.5173 - accuracy: 0.0000e+00\n",
      " node_nbr_l1= 32 node_nbr_l2= 64 node_nbr_l3= 16 batch size= 64 learning rate = 0.0001 dropout prob = 0.1 \n",
      "1/1 [==============================] - 0s 21ms/step - loss: 2.3094 - accuracy: 0.0000e+00\n",
      " node_nbr_l1= 32 node_nbr_l2= 64 node_nbr_l3= 16 batch size= 64 learning rate = 0.0001 dropout prob = 0.2 \n",
      "1/1 [==============================] - 0s 20ms/step - loss: 3.2841 - accuracy: 0.0000e+00\n",
      " node_nbr_l1= 32 node_nbr_l2= 64 node_nbr_l3= 16 batch size= 128 learning rate = 0.001 dropout prob = 0 \n",
      "1/1 [==============================] - 0s 19ms/step - loss: 1.1338 - accuracy: 0.0000e+00\n",
      " node_nbr_l1= 32 node_nbr_l2= 64 node_nbr_l3= 16 batch size= 128 learning rate = 0.001 dropout prob = 0.1 \n",
      "1/1 [==============================] - 0s 20ms/step - loss: 1.9700 - accuracy: 0.0000e+00\n",
      " node_nbr_l1= 32 node_nbr_l2= 64 node_nbr_l3= 16 batch size= 128 learning rate = 0.001 dropout prob = 0.2 \n",
      "1/1 [==============================] - 0s 20ms/step - loss: 2.4983 - accuracy: 0.0000e+00\n",
      " node_nbr_l1= 32 node_nbr_l2= 64 node_nbr_l3= 16 batch size= 128 learning rate = 5e-05 dropout prob = 0 \n",
      "1/1 [==============================] - 0s 20ms/step - loss: 0.6306 - accuracy: 0.0000e+00\n",
      " node_nbr_l1= 32 node_nbr_l2= 64 node_nbr_l3= 16 batch size= 128 learning rate = 5e-05 dropout prob = 0.1 \n",
      "1/1 [==============================] - 0s 18ms/step - loss: 1.3832 - accuracy: 0.0000e+00\n",
      " node_nbr_l1= 32 node_nbr_l2= 64 node_nbr_l3= 16 batch size= 128 learning rate = 5e-05 dropout prob = 0.2 \n",
      "1/1 [==============================] - 0s 23ms/step - loss: 2.3001 - accuracy: 0.0000e+00\n",
      " node_nbr_l1= 32 node_nbr_l2= 64 node_nbr_l3= 16 batch size= 128 learning rate = 0.0001 dropout prob = 0 \n",
      "1/1 [==============================] - 0s 24ms/step - loss: 7.5173 - accuracy: 0.0000e+00\n",
      " node_nbr_l1= 32 node_nbr_l2= 64 node_nbr_l3= 16 batch size= 128 learning rate = 0.0001 dropout prob = 0.1 \n",
      "1/1 [==============================] - 0s 31ms/step - loss: 2.4241 - accuracy: 0.0000e+00\n",
      " node_nbr_l1= 32 node_nbr_l2= 64 node_nbr_l3= 16 batch size= 128 learning rate = 0.0001 dropout prob = 0.2 \n",
      "1/1 [==============================] - 0s 24ms/step - loss: 2.7884 - accuracy: 0.0000e+00\n",
      " node_nbr_l1= 32 node_nbr_l2= 64 node_nbr_l3= 32 batch size= 32 learning rate = 0.001 dropout prob = 0 \n",
      "1/1 [==============================] - 0s 20ms/step - loss: 7.5173 - accuracy: 0.0000e+00\n",
      " node_nbr_l1= 32 node_nbr_l2= 64 node_nbr_l3= 32 batch size= 32 learning rate = 0.001 dropout prob = 0.1 \n",
      "1/1 [==============================] - 0s 24ms/step - loss: 1.2521 - accuracy: 0.0000e+00\n",
      " node_nbr_l1= 32 node_nbr_l2= 64 node_nbr_l3= 32 batch size= 32 learning rate = 0.001 dropout prob = 0.2 \n",
      "1/1 [==============================] - 0s 22ms/step - loss: 2.0830 - accuracy: 0.0000e+00\n",
      " node_nbr_l1= 32 node_nbr_l2= 64 node_nbr_l3= 32 batch size= 32 learning rate = 5e-05 dropout prob = 0 \n",
      "1/1 [==============================] - 0s 23ms/step - loss: 0.9929 - accuracy: 0.0000e+00\n",
      " node_nbr_l1= 32 node_nbr_l2= 64 node_nbr_l3= 32 batch size= 32 learning rate = 5e-05 dropout prob = 0.1 \n",
      "1/1 [==============================] - 0s 23ms/step - loss: 1.7183 - accuracy: 0.0000e+00\n",
      " node_nbr_l1= 32 node_nbr_l2= 64 node_nbr_l3= 32 batch size= 32 learning rate = 5e-05 dropout prob = 0.2 \n",
      "1/1 [==============================] - 0s 19ms/step - loss: 2.7517 - accuracy: 0.0000e+00\n",
      " node_nbr_l1= 32 node_nbr_l2= 64 node_nbr_l3= 32 batch size= 32 learning rate = 0.0001 dropout prob = 0 \n",
      "1/1 [==============================] - 0s 20ms/step - loss: 7.5173 - accuracy: 0.0000e+00\n",
      " node_nbr_l1= 32 node_nbr_l2= 64 node_nbr_l3= 32 batch size= 32 learning rate = 0.0001 dropout prob = 0.1 \n",
      "1/1 [==============================] - 0s 25ms/step - loss: 2.6353 - accuracy: 0.0000e+00\n",
      " node_nbr_l1= 32 node_nbr_l2= 64 node_nbr_l3= 32 batch size= 32 learning rate = 0.0001 dropout prob = 0.2 \n",
      "1/1 [==============================] - 0s 19ms/step - loss: 3.2362 - accuracy: 0.0000e+00\n",
      " node_nbr_l1= 32 node_nbr_l2= 64 node_nbr_l3= 32 batch size= 64 learning rate = 0.001 dropout prob = 0 \n",
      "1/1 [==============================] - 0s 20ms/step - loss: 7.5173 - accuracy: 0.0000e+00\n",
      " node_nbr_l1= 32 node_nbr_l2= 64 node_nbr_l3= 32 batch size= 64 learning rate = 0.001 dropout prob = 0.1 \n",
      "1/1 [==============================] - 0s 18ms/step - loss: 1.4423 - accuracy: 0.0000e+00\n",
      " node_nbr_l1= 32 node_nbr_l2= 64 node_nbr_l3= 32 batch size= 64 learning rate = 0.001 dropout prob = 0.2 \n",
      "1/1 [==============================] - 0s 20ms/step - loss: 2.6851 - accuracy: 0.0000e+00\n",
      " node_nbr_l1= 32 node_nbr_l2= 64 node_nbr_l3= 32 batch size= 64 learning rate = 5e-05 dropout prob = 0 \n",
      "1/1 [==============================] - 0s 25ms/step - loss: 0.7958 - accuracy: 0.0000e+00\n",
      " node_nbr_l1= 32 node_nbr_l2= 64 node_nbr_l3= 32 batch size= 64 learning rate = 5e-05 dropout prob = 0.1 \n",
      "1/1 [==============================] - 0s 22ms/step - loss: 1.1521 - accuracy: 0.0000e+00\n",
      " node_nbr_l1= 32 node_nbr_l2= 64 node_nbr_l3= 32 batch size= 64 learning rate = 5e-05 dropout prob = 0.2 \n",
      "1/1 [==============================] - 0s 32ms/step - loss: 2.6215 - accuracy: 0.0000e+00\n",
      " node_nbr_l1= 32 node_nbr_l2= 64 node_nbr_l3= 32 batch size= 64 learning rate = 0.0001 dropout prob = 0 \n",
      "1/1 [==============================] - 0s 24ms/step - loss: 1.3091 - accuracy: 0.0000e+00\n",
      " node_nbr_l1= 32 node_nbr_l2= 64 node_nbr_l3= 32 batch size= 64 learning rate = 0.0001 dropout prob = 0.1 \n",
      "1/1 [==============================] - 0s 22ms/step - loss: 1.9411 - accuracy: 0.0000e+00\n",
      " node_nbr_l1= 32 node_nbr_l2= 64 node_nbr_l3= 32 batch size= 64 learning rate = 0.0001 dropout prob = 0.2 \n",
      "1/1 [==============================] - 0s 22ms/step - loss: 2.6185 - accuracy: 0.0000e+00\n",
      " node_nbr_l1= 32 node_nbr_l2= 64 node_nbr_l3= 32 batch size= 128 learning rate = 0.001 dropout prob = 0 \n",
      "1/1 [==============================] - 0s 23ms/step - loss: 7.5173 - accuracy: 0.0000e+00\n",
      " node_nbr_l1= 32 node_nbr_l2= 64 node_nbr_l3= 32 batch size= 128 learning rate = 0.001 dropout prob = 0.1 \n",
      "1/1 [==============================] - 0s 23ms/step - loss: 1.4686 - accuracy: 0.0000e+00\n",
      " node_nbr_l1= 32 node_nbr_l2= 64 node_nbr_l3= 32 batch size= 128 learning rate = 0.001 dropout prob = 0.2 \n",
      "1/1 [==============================] - 0s 20ms/step - loss: 2.4345 - accuracy: 0.0000e+00\n",
      " node_nbr_l1= 32 node_nbr_l2= 64 node_nbr_l3= 32 batch size= 128 learning rate = 5e-05 dropout prob = 0 \n",
      "1/1 [==============================] - 0s 22ms/step - loss: 1.0942 - accuracy: 0.0000e+00\n",
      " node_nbr_l1= 32 node_nbr_l2= 64 node_nbr_l3= 32 batch size= 128 learning rate = 5e-05 dropout prob = 0.1 \n",
      "1/1 [==============================] - 0s 18ms/step - loss: 1.8191 - accuracy: 0.0000e+00\n",
      " node_nbr_l1= 32 node_nbr_l2= 64 node_nbr_l3= 32 batch size= 128 learning rate = 5e-05 dropout prob = 0.2 \n",
      "1/1 [==============================] - 0s 19ms/step - loss: 2.7203 - accuracy: 0.0000e+00\n",
      " node_nbr_l1= 32 node_nbr_l2= 64 node_nbr_l3= 32 batch size= 128 learning rate = 0.0001 dropout prob = 0 \n",
      "1/1 [==============================] - 0s 17ms/step - loss: 1.0854 - accuracy: 0.0000e+00\n",
      " node_nbr_l1= 32 node_nbr_l2= 64 node_nbr_l3= 32 batch size= 128 learning rate = 0.0001 dropout prob = 0.1 \n",
      "1/1 [==============================] - 0s 20ms/step - loss: 1.7772 - accuracy: 0.0000e+00\n",
      " node_nbr_l1= 32 node_nbr_l2= 64 node_nbr_l3= 32 batch size= 128 learning rate = 0.0001 dropout prob = 0.2 \n",
      "1/1 [==============================] - 0s 23ms/step - loss: 2.6258 - accuracy: 0.0000e+00\n",
      " node_nbr_l1= 32 node_nbr_l2= 64 node_nbr_l3= 64 batch size= 32 learning rate = 0.001 dropout prob = 0 \n",
      "1/1 [==============================] - 0s 22ms/step - loss: 7.5173 - accuracy: 0.0000e+00\n",
      " node_nbr_l1= 32 node_nbr_l2= 64 node_nbr_l3= 64 batch size= 32 learning rate = 0.001 dropout prob = 0.1 \n",
      "1/1 [==============================] - 0s 22ms/step - loss: 1.6989 - accuracy: 0.0000e+00\n",
      " node_nbr_l1= 32 node_nbr_l2= 64 node_nbr_l3= 64 batch size= 32 learning rate = 0.001 dropout prob = 0.2 \n",
      "1/1 [==============================] - 0s 24ms/step - loss: 2.5825 - accuracy: 0.0000e+00\n",
      " node_nbr_l1= 32 node_nbr_l2= 64 node_nbr_l3= 64 batch size= 32 learning rate = 5e-05 dropout prob = 0 \n",
      "1/1 [==============================] - 0s 23ms/step - loss: 0.8468 - accuracy: 0.0000e+00\n",
      " node_nbr_l1= 32 node_nbr_l2= 64 node_nbr_l3= 64 batch size= 32 learning rate = 5e-05 dropout prob = 0.1 \n",
      "1/1 [==============================] - 0s 25ms/step - loss: 0.8025 - accuracy: 0.0000e+00\n",
      " node_nbr_l1= 32 node_nbr_l2= 64 node_nbr_l3= 64 batch size= 32 learning rate = 5e-05 dropout prob = 0.2 \n",
      "1/1 [==============================] - 0s 29ms/step - loss: 3.1046 - accuracy: 0.0000e+00\n",
      " node_nbr_l1= 32 node_nbr_l2= 64 node_nbr_l3= 64 batch size= 32 learning rate = 0.0001 dropout prob = 0 \n",
      "1/1 [==============================] - 0s 23ms/step - loss: 1.2660 - accuracy: 0.0000e+00\n",
      " node_nbr_l1= 32 node_nbr_l2= 64 node_nbr_l3= 64 batch size= 32 learning rate = 0.0001 dropout prob = 0.1 \n",
      "1/1 [==============================] - 0s 24ms/step - loss: 1.4311 - accuracy: 0.0000e+00\n",
      " node_nbr_l1= 32 node_nbr_l2= 64 node_nbr_l3= 64 batch size= 32 learning rate = 0.0001 dropout prob = 0.2 \n",
      "1/1 [==============================] - 0s 20ms/step - loss: 3.0361 - accuracy: 0.0000e+00\n",
      " node_nbr_l1= 32 node_nbr_l2= 64 node_nbr_l3= 64 batch size= 64 learning rate = 0.001 dropout prob = 0 \n",
      "1/1 [==============================] - 0s 31ms/step - loss: 1.2314 - accuracy: 0.0000e+00\n",
      " node_nbr_l1= 32 node_nbr_l2= 64 node_nbr_l3= 64 batch size= 64 learning rate = 0.001 dropout prob = 0.1 \n",
      "1/1 [==============================] - 0s 23ms/step - loss: 1.8262 - accuracy: 0.0000e+00\n",
      " node_nbr_l1= 32 node_nbr_l2= 64 node_nbr_l3= 64 batch size= 64 learning rate = 0.001 dropout prob = 0.2 \n",
      "1/1 [==============================] - 0s 37ms/step - loss: 2.3275 - accuracy: 0.0000e+00\n",
      " node_nbr_l1= 32 node_nbr_l2= 64 node_nbr_l3= 64 batch size= 64 learning rate = 5e-05 dropout prob = 0 \n",
      "1/1 [==============================] - 0s 20ms/step - loss: 1.0621 - accuracy: 0.0000e+00\n",
      " node_nbr_l1= 32 node_nbr_l2= 64 node_nbr_l3= 64 batch size= 64 learning rate = 5e-05 dropout prob = 0.1 \n",
      "1/1 [==============================] - 0s 18ms/step - loss: 2.7853 - accuracy: 0.0000e+00\n",
      " node_nbr_l1= 32 node_nbr_l2= 64 node_nbr_l3= 64 batch size= 64 learning rate = 5e-05 dropout prob = 0.2 \n",
      "1/1 [==============================] - 0s 28ms/step - loss: 2.9190 - accuracy: 0.0000e+00\n",
      " node_nbr_l1= 32 node_nbr_l2= 64 node_nbr_l3= 64 batch size= 64 learning rate = 0.0001 dropout prob = 0 \n",
      "1/1 [==============================] - 0s 21ms/step - loss: 7.5173 - accuracy: 0.0000e+00\n",
      " node_nbr_l1= 32 node_nbr_l2= 64 node_nbr_l3= 64 batch size= 64 learning rate = 0.0001 dropout prob = 0.1 \n",
      "1/1 [==============================] - 0s 21ms/step - loss: 1.2053 - accuracy: 0.0000e+00\n",
      " node_nbr_l1= 32 node_nbr_l2= 64 node_nbr_l3= 64 batch size= 64 learning rate = 0.0001 dropout prob = 0.2 \n",
      "1/1 [==============================] - 0s 42ms/step - loss: 1.5629 - accuracy: 0.0000e+00\n",
      " node_nbr_l1= 32 node_nbr_l2= 64 node_nbr_l3= 64 batch size= 128 learning rate = 0.001 dropout prob = 0 \n",
      "1/1 [==============================] - 0s 26ms/step - loss: 1.0157 - accuracy: 0.0000e+00\n",
      " node_nbr_l1= 32 node_nbr_l2= 64 node_nbr_l3= 64 batch size= 128 learning rate = 0.001 dropout prob = 0.1 \n",
      "1/1 [==============================] - 0s 23ms/step - loss: 1.5717 - accuracy: 0.0000e+00\n",
      " node_nbr_l1= 32 node_nbr_l2= 64 node_nbr_l3= 64 batch size= 128 learning rate = 0.001 dropout prob = 0.2 \n",
      "1/1 [==============================] - 0s 28ms/step - loss: 2.5551 - accuracy: 0.0000e+00\n",
      " node_nbr_l1= 32 node_nbr_l2= 64 node_nbr_l3= 64 batch size= 128 learning rate = 5e-05 dropout prob = 0 \n",
      "1/1 [==============================] - 0s 22ms/step - loss: 0.9527 - accuracy: 0.0000e+00\n",
      " node_nbr_l1= 32 node_nbr_l2= 64 node_nbr_l3= 64 batch size= 128 learning rate = 5e-05 dropout prob = 0.1 \n",
      "1/1 [==============================] - 0s 21ms/step - loss: 1.8075 - accuracy: 0.0000e+00\n",
      " node_nbr_l1= 32 node_nbr_l2= 64 node_nbr_l3= 64 batch size= 128 learning rate = 5e-05 dropout prob = 0.2 \n",
      "1/1 [==============================] - 0s 22ms/step - loss: 2.2285 - accuracy: 0.0000e+00\n",
      " node_nbr_l1= 32 node_nbr_l2= 64 node_nbr_l3= 64 batch size= 128 learning rate = 0.0001 dropout prob = 0 \n",
      "1/1 [==============================] - 0s 22ms/step - loss: 0.8282 - accuracy: 0.0000e+00\n",
      " node_nbr_l1= 32 node_nbr_l2= 64 node_nbr_l3= 64 batch size= 128 learning rate = 0.0001 dropout prob = 0.1 \n",
      "1/1 [==============================] - 0s 21ms/step - loss: 1.4227 - accuracy: 0.0000e+00\n",
      " node_nbr_l1= 32 node_nbr_l2= 64 node_nbr_l3= 64 batch size= 128 learning rate = 0.0001 dropout prob = 0.2 \n",
      "1/1 [==============================] - 0s 36ms/step - loss: 2.1559 - accuracy: 0.0000e+00\n",
      " node_nbr_l1= 32 node_nbr_l2= 64 node_nbr_l3= 128 batch size= 32 learning rate = 0.001 dropout prob = 0 \n",
      "1/1 [==============================] - 0s 20ms/step - loss: 0.9869 - accuracy: 0.0000e+00\n",
      " node_nbr_l1= 32 node_nbr_l2= 64 node_nbr_l3= 128 batch size= 32 learning rate = 0.001 dropout prob = 0.1 \n",
      "1/1 [==============================] - 0s 21ms/step - loss: 1.5737 - accuracy: 0.0000e+00\n",
      " node_nbr_l1= 32 node_nbr_l2= 64 node_nbr_l3= 128 batch size= 32 learning rate = 0.001 dropout prob = 0.2 \n",
      "1/1 [==============================] - 0s 21ms/step - loss: 2.5915 - accuracy: 0.0000e+00\n",
      " node_nbr_l1= 32 node_nbr_l2= 64 node_nbr_l3= 128 batch size= 32 learning rate = 5e-05 dropout prob = 0 \n",
      "1/1 [==============================] - 0s 21ms/step - loss: 1.2067 - accuracy: 0.0000e+00\n",
      " node_nbr_l1= 32 node_nbr_l2= 64 node_nbr_l3= 128 batch size= 32 learning rate = 5e-05 dropout prob = 0.1 \n",
      "1/1 [==============================] - 0s 20ms/step - loss: 1.0769 - accuracy: 0.0000e+00\n",
      " node_nbr_l1= 32 node_nbr_l2= 64 node_nbr_l3= 128 batch size= 32 learning rate = 5e-05 dropout prob = 0.2 \n",
      "1/1 [==============================] - 0s 19ms/step - loss: 2.9813 - accuracy: 0.0000e+00\n",
      " node_nbr_l1= 32 node_nbr_l2= 64 node_nbr_l3= 128 batch size= 32 learning rate = 0.0001 dropout prob = 0 \n",
      "1/1 [==============================] - 0s 25ms/step - loss: 1.0734 - accuracy: 0.0000e+00\n",
      " node_nbr_l1= 32 node_nbr_l2= 64 node_nbr_l3= 128 batch size= 32 learning rate = 0.0001 dropout prob = 0.1 \n",
      "1/1 [==============================] - 0s 24ms/step - loss: 1.8656 - accuracy: 0.0000e+00\n",
      " node_nbr_l1= 32 node_nbr_l2= 64 node_nbr_l3= 128 batch size= 32 learning rate = 0.0001 dropout prob = 0.2 \n",
      "1/1 [==============================] - 0s 25ms/step - loss: 2.2143 - accuracy: 0.0000e+00\n",
      " node_nbr_l1= 32 node_nbr_l2= 64 node_nbr_l3= 128 batch size= 64 learning rate = 0.001 dropout prob = 0 \n",
      "1/1 [==============================] - 0s 24ms/step - loss: 1.4468 - accuracy: 0.0000e+00\n",
      " node_nbr_l1= 32 node_nbr_l2= 64 node_nbr_l3= 128 batch size= 64 learning rate = 0.001 dropout prob = 0.1 \n",
      "1/1 [==============================] - 0s 27ms/step - loss: 1.9214 - accuracy: 0.0000e+00\n",
      " node_nbr_l1= 32 node_nbr_l2= 64 node_nbr_l3= 128 batch size= 64 learning rate = 0.001 dropout prob = 0.2 \n",
      "1/1 [==============================] - 0s 22ms/step - loss: 2.5916 - accuracy: 0.0000e+00\n",
      " node_nbr_l1= 32 node_nbr_l2= 64 node_nbr_l3= 128 batch size= 64 learning rate = 5e-05 dropout prob = 0 \n",
      "1/1 [==============================] - 0s 23ms/step - loss: 1.2896 - accuracy: 0.0000e+00\n",
      " node_nbr_l1= 32 node_nbr_l2= 64 node_nbr_l3= 128 batch size= 64 learning rate = 5e-05 dropout prob = 0.1 \n",
      "1/1 [==============================] - 0s 20ms/step - loss: 1.5633 - accuracy: 0.0000e+00\n",
      " node_nbr_l1= 32 node_nbr_l2= 64 node_nbr_l3= 128 batch size= 64 learning rate = 5e-05 dropout prob = 0.2 \n",
      "1/1 [==============================] - 0s 22ms/step - loss: 2.7523 - accuracy: 0.0000e+00\n",
      " node_nbr_l1= 32 node_nbr_l2= 64 node_nbr_l3= 128 batch size= 64 learning rate = 0.0001 dropout prob = 0 \n",
      "1/1 [==============================] - 0s 20ms/step - loss: 1.1839 - accuracy: 0.0000e+00\n",
      " node_nbr_l1= 32 node_nbr_l2= 64 node_nbr_l3= 128 batch size= 64 learning rate = 0.0001 dropout prob = 0.1 \n",
      "1/1 [==============================] - 0s 21ms/step - loss: 1.8016 - accuracy: 0.0000e+00\n",
      " node_nbr_l1= 32 node_nbr_l2= 64 node_nbr_l3= 128 batch size= 64 learning rate = 0.0001 dropout prob = 0.2 \n",
      "1/1 [==============================] - 0s 24ms/step - loss: 2.7935 - accuracy: 0.0000e+00\n",
      " node_nbr_l1= 32 node_nbr_l2= 64 node_nbr_l3= 128 batch size= 128 learning rate = 0.001 dropout prob = 0 \n",
      "1/1 [==============================] - 0s 21ms/step - loss: 1.3589 - accuracy: 0.0000e+00\n",
      " node_nbr_l1= 32 node_nbr_l2= 64 node_nbr_l3= 128 batch size= 128 learning rate = 0.001 dropout prob = 0.1 \n",
      "1/1 [==============================] - 0s 18ms/step - loss: 1.7077 - accuracy: 0.0000e+00\n",
      " node_nbr_l1= 32 node_nbr_l2= 64 node_nbr_l3= 128 batch size= 128 learning rate = 0.001 dropout prob = 0.2 \n",
      "1/1 [==============================] - 0s 20ms/step - loss: 2.7614 - accuracy: 0.0000e+00\n",
      " node_nbr_l1= 32 node_nbr_l2= 64 node_nbr_l3= 128 batch size= 128 learning rate = 5e-05 dropout prob = 0 \n",
      "1/1 [==============================] - 0s 19ms/step - loss: 0.7646 - accuracy: 0.0000e+00\n",
      " node_nbr_l1= 32 node_nbr_l2= 64 node_nbr_l3= 128 batch size= 128 learning rate = 5e-05 dropout prob = 0.1 \n",
      "1/1 [==============================] - 0s 23ms/step - loss: 1.4905 - accuracy: 0.0000e+00\n",
      " node_nbr_l1= 32 node_nbr_l2= 64 node_nbr_l3= 128 batch size= 128 learning rate = 5e-05 dropout prob = 0.2 \n",
      "1/1 [==============================] - 0s 24ms/step - loss: 2.9657 - accuracy: 0.0000e+00\n",
      " node_nbr_l1= 32 node_nbr_l2= 64 node_nbr_l3= 128 batch size= 128 learning rate = 0.0001 dropout prob = 0 \n",
      "1/1 [==============================] - 0s 24ms/step - loss: 7.5173 - accuracy: 0.0000e+00\n",
      " node_nbr_l1= 32 node_nbr_l2= 64 node_nbr_l3= 128 batch size= 128 learning rate = 0.0001 dropout prob = 0.1 \n",
      "1/1 [==============================] - 0s 26ms/step - loss: 1.7828 - accuracy: 0.0000e+00\n",
      " node_nbr_l1= 32 node_nbr_l2= 64 node_nbr_l3= 128 batch size= 128 learning rate = 0.0001 dropout prob = 0.2 \n",
      "1/1 [==============================] - 0s 27ms/step - loss: 2.8872 - accuracy: 0.0000e+00\n",
      " node_nbr_l1= 32 node_nbr_l2= 128 node_nbr_l3= 16 batch size= 32 learning rate = 0.001 dropout prob = 0 \n",
      "1/1 [==============================] - 0s 29ms/step - loss: 1.2314 - accuracy: 0.0000e+00\n",
      " node_nbr_l1= 32 node_nbr_l2= 128 node_nbr_l3= 16 batch size= 32 learning rate = 0.001 dropout prob = 0.1 \n",
      "1/1 [==============================] - 0s 22ms/step - loss: 1.0122 - accuracy: 0.0000e+00\n",
      " node_nbr_l1= 32 node_nbr_l2= 128 node_nbr_l3= 16 batch size= 32 learning rate = 0.001 dropout prob = 0.2 \n",
      "1/1 [==============================] - 0s 20ms/step - loss: 2.5437 - accuracy: 0.0000e+00\n",
      " node_nbr_l1= 32 node_nbr_l2= 128 node_nbr_l3= 16 batch size= 32 learning rate = 5e-05 dropout prob = 0 \n",
      "1/1 [==============================] - 0s 22ms/step - loss: 1.2634 - accuracy: 0.0000e+00\n",
      " node_nbr_l1= 32 node_nbr_l2= 128 node_nbr_l3= 16 batch size= 32 learning rate = 5e-05 dropout prob = 0.1 \n",
      "1/1 [==============================] - 0s 21ms/step - loss: 2.2080 - accuracy: 0.0000e+00\n",
      " node_nbr_l1= 32 node_nbr_l2= 128 node_nbr_l3= 16 batch size= 32 learning rate = 5e-05 dropout prob = 0.2 \n",
      "1/1 [==============================] - 0s 26ms/step - loss: 2.2192 - accuracy: 0.0000e+00\n",
      " node_nbr_l1= 32 node_nbr_l2= 128 node_nbr_l3= 16 batch size= 32 learning rate = 0.0001 dropout prob = 0 \n",
      "1/1 [==============================] - 0s 21ms/step - loss: 0.7198 - accuracy: 0.0000e+00\n",
      " node_nbr_l1= 32 node_nbr_l2= 128 node_nbr_l3= 16 batch size= 32 learning rate = 0.0001 dropout prob = 0.1 \n",
      "1/1 [==============================] - 0s 23ms/step - loss: 1.7825 - accuracy: 0.0000e+00\n",
      " node_nbr_l1= 32 node_nbr_l2= 128 node_nbr_l3= 16 batch size= 32 learning rate = 0.0001 dropout prob = 0.2 \n",
      "1/1 [==============================] - 0s 21ms/step - loss: 2.7164 - accuracy: 0.0000e+00\n",
      " node_nbr_l1= 32 node_nbr_l2= 128 node_nbr_l3= 16 batch size= 64 learning rate = 0.001 dropout prob = 0 \n",
      "1/1 [==============================] - 0s 18ms/step - loss: 0.6868 - accuracy: 0.0000e+00\n",
      " node_nbr_l1= 32 node_nbr_l2= 128 node_nbr_l3= 16 batch size= 64 learning rate = 0.001 dropout prob = 0.1 \n",
      "1/1 [==============================] - 0s 20ms/step - loss: 1.4496 - accuracy: 0.0000e+00\n",
      " node_nbr_l1= 32 node_nbr_l2= 128 node_nbr_l3= 16 batch size= 64 learning rate = 0.001 dropout prob = 0.2 \n",
      "1/1 [==============================] - 0s 23ms/step - loss: 2.3219 - accuracy: 0.0000e+00\n",
      " node_nbr_l1= 32 node_nbr_l2= 128 node_nbr_l3= 16 batch size= 64 learning rate = 5e-05 dropout prob = 0 \n",
      "1/1 [==============================] - 0s 24ms/step - loss: 7.5173 - accuracy: 0.0000e+00\n",
      " node_nbr_l1= 32 node_nbr_l2= 128 node_nbr_l3= 16 batch size= 64 learning rate = 5e-05 dropout prob = 0.1 \n",
      "1/1 [==============================] - 0s 22ms/step - loss: 1.3314 - accuracy: 0.0000e+00\n",
      " node_nbr_l1= 32 node_nbr_l2= 128 node_nbr_l3= 16 batch size= 64 learning rate = 5e-05 dropout prob = 0.2 \n",
      "1/1 [==============================] - 0s 24ms/step - loss: 3.0968 - accuracy: 0.0000e+00\n",
      " node_nbr_l1= 32 node_nbr_l2= 128 node_nbr_l3= 16 batch size= 64 learning rate = 0.0001 dropout prob = 0 \n",
      "1/1 [==============================] - 0s 24ms/step - loss: 1.5612 - accuracy: 0.0000e+00\n",
      " node_nbr_l1= 32 node_nbr_l2= 128 node_nbr_l3= 16 batch size= 64 learning rate = 0.0001 dropout prob = 0.1 \n",
      "1/1 [==============================] - 0s 26ms/step - loss: 1.7850 - accuracy: 0.0000e+00\n",
      " node_nbr_l1= 32 node_nbr_l2= 128 node_nbr_l3= 16 batch size= 64 learning rate = 0.0001 dropout prob = 0.2 \n",
      "1/1 [==============================] - 0s 23ms/step - loss: 2.4038 - accuracy: 0.0000e+00\n",
      " node_nbr_l1= 32 node_nbr_l2= 128 node_nbr_l3= 16 batch size= 128 learning rate = 0.001 dropout prob = 0 \n",
      "1/1 [==============================] - 0s 22ms/step - loss: 1.1340 - accuracy: 0.0000e+00\n",
      " node_nbr_l1= 32 node_nbr_l2= 128 node_nbr_l3= 16 batch size= 128 learning rate = 0.001 dropout prob = 0.1 \n",
      "1/1 [==============================] - 0s 21ms/step - loss: 1.3603 - accuracy: 0.0000e+00\n",
      " node_nbr_l1= 32 node_nbr_l2= 128 node_nbr_l3= 16 batch size= 128 learning rate = 0.001 dropout prob = 0.2 \n",
      "1/1 [==============================] - 0s 21ms/step - loss: 2.2934 - accuracy: 0.0000e+00\n",
      " node_nbr_l1= 32 node_nbr_l2= 128 node_nbr_l3= 16 batch size= 128 learning rate = 5e-05 dropout prob = 0 \n",
      "1/1 [==============================] - 0s 23ms/step - loss: 1.2902 - accuracy: 0.0000e+00\n",
      " node_nbr_l1= 32 node_nbr_l2= 128 node_nbr_l3= 16 batch size= 128 learning rate = 5e-05 dropout prob = 0.1 \n",
      "1/1 [==============================] - 0s 21ms/step - loss: 2.1991 - accuracy: 0.0000e+00\n",
      " node_nbr_l1= 32 node_nbr_l2= 128 node_nbr_l3= 16 batch size= 128 learning rate = 5e-05 dropout prob = 0.2 \n",
      "1/1 [==============================] - 0s 19ms/step - loss: 2.5645 - accuracy: 0.0000e+00\n",
      " node_nbr_l1= 32 node_nbr_l2= 128 node_nbr_l3= 16 batch size= 128 learning rate = 0.0001 dropout prob = 0 \n",
      "1/1 [==============================] - 0s 20ms/step - loss: 1.6060 - accuracy: 0.0000e+00\n",
      " node_nbr_l1= 32 node_nbr_l2= 128 node_nbr_l3= 16 batch size= 128 learning rate = 0.0001 dropout prob = 0.1 \n",
      "1/1 [==============================] - 0s 40ms/step - loss: 2.0074 - accuracy: 0.0000e+00\n",
      " node_nbr_l1= 32 node_nbr_l2= 128 node_nbr_l3= 16 batch size= 128 learning rate = 0.0001 dropout prob = 0.2 \n",
      "1/1 [==============================] - 0s 21ms/step - loss: 3.6530 - accuracy: 0.0000e+00\n",
      " node_nbr_l1= 32 node_nbr_l2= 128 node_nbr_l3= 32 batch size= 32 learning rate = 0.001 dropout prob = 0 \n",
      "1/1 [==============================] - 0s 24ms/step - loss: 7.5173 - accuracy: 0.0000e+00\n",
      " node_nbr_l1= 32 node_nbr_l2= 128 node_nbr_l3= 32 batch size= 32 learning rate = 0.001 dropout prob = 0.1 \n",
      "1/1 [==============================] - 0s 26ms/step - loss: 1.0091 - accuracy: 0.0000e+00\n",
      " node_nbr_l1= 32 node_nbr_l2= 128 node_nbr_l3= 32 batch size= 32 learning rate = 0.001 dropout prob = 0.2 \n",
      "1/1 [==============================] - 0s 25ms/step - loss: 2.8069 - accuracy: 0.0000e+00\n",
      " node_nbr_l1= 32 node_nbr_l2= 128 node_nbr_l3= 32 batch size= 32 learning rate = 5e-05 dropout prob = 0 \n",
      "1/1 [==============================] - 0s 22ms/step - loss: 7.5173 - accuracy: 0.0000e+00\n",
      " node_nbr_l1= 32 node_nbr_l2= 128 node_nbr_l3= 32 batch size= 32 learning rate = 5e-05 dropout prob = 0.1 \n",
      "1/1 [==============================] - 0s 28ms/step - loss: 2.0971 - accuracy: 0.0000e+00\n",
      " node_nbr_l1= 32 node_nbr_l2= 128 node_nbr_l3= 32 batch size= 32 learning rate = 5e-05 dropout prob = 0.2 \n",
      "1/1 [==============================] - 0s 25ms/step - loss: 3.2214 - accuracy: 0.0000e+00\n",
      " node_nbr_l1= 32 node_nbr_l2= 128 node_nbr_l3= 32 batch size= 32 learning rate = 0.0001 dropout prob = 0 \n",
      "1/1 [==============================] - 0s 24ms/step - loss: 1.3673 - accuracy: 0.0000e+00\n",
      " node_nbr_l1= 32 node_nbr_l2= 128 node_nbr_l3= 32 batch size= 32 learning rate = 0.0001 dropout prob = 0.1 \n",
      "1/1 [==============================] - 0s 23ms/step - loss: 2.4465 - accuracy: 0.0000e+00\n",
      " node_nbr_l1= 32 node_nbr_l2= 128 node_nbr_l3= 32 batch size= 32 learning rate = 0.0001 dropout prob = 0.2 \n",
      "1/1 [==============================] - 0s 27ms/step - loss: 2.3644 - accuracy: 0.0000e+00\n",
      " node_nbr_l1= 32 node_nbr_l2= 128 node_nbr_l3= 32 batch size= 64 learning rate = 0.001 dropout prob = 0 \n",
      "1/1 [==============================] - 0s 23ms/step - loss: 7.5024 - accuracy: 0.0000e+00\n",
      " node_nbr_l1= 32 node_nbr_l2= 128 node_nbr_l3= 32 batch size= 64 learning rate = 0.001 dropout prob = 0.1 \n",
      "1/1 [==============================] - 0s 23ms/step - loss: 2.1237 - accuracy: 0.0000e+00\n",
      " node_nbr_l1= 32 node_nbr_l2= 128 node_nbr_l3= 32 batch size= 64 learning rate = 0.001 dropout prob = 0.2 \n",
      "1/1 [==============================] - 0s 20ms/step - loss: 2.0331 - accuracy: 0.0000e+00\n",
      " node_nbr_l1= 32 node_nbr_l2= 128 node_nbr_l3= 32 batch size= 64 learning rate = 5e-05 dropout prob = 0 \n",
      "1/1 [==============================] - 0s 25ms/step - loss: 1.3689 - accuracy: 0.0000e+00\n",
      " node_nbr_l1= 32 node_nbr_l2= 128 node_nbr_l3= 32 batch size= 64 learning rate = 5e-05 dropout prob = 0.1 \n",
      "1/1 [==============================] - 0s 22ms/step - loss: 1.9238 - accuracy: 0.0000e+00\n",
      " node_nbr_l1= 32 node_nbr_l2= 128 node_nbr_l3= 32 batch size= 64 learning rate = 5e-05 dropout prob = 0.2 \n",
      "1/1 [==============================] - 0s 20ms/step - loss: 3.7497 - accuracy: 0.0000e+00\n",
      " node_nbr_l1= 32 node_nbr_l2= 128 node_nbr_l3= 32 batch size= 64 learning rate = 0.0001 dropout prob = 0 \n",
      "1/1 [==============================] - 0s 24ms/step - loss: 0.9415 - accuracy: 0.0000e+00\n",
      " node_nbr_l1= 32 node_nbr_l2= 128 node_nbr_l3= 32 batch size= 64 learning rate = 0.0001 dropout prob = 0.1 \n",
      "1/1 [==============================] - 0s 22ms/step - loss: 1.4591 - accuracy: 0.0000e+00\n",
      " node_nbr_l1= 32 node_nbr_l2= 128 node_nbr_l3= 32 batch size= 64 learning rate = 0.0001 dropout prob = 0.2 \n",
      "1/1 [==============================] - 0s 25ms/step - loss: 1.8509 - accuracy: 0.0000e+00\n",
      " node_nbr_l1= 32 node_nbr_l2= 128 node_nbr_l3= 32 batch size= 128 learning rate = 0.001 dropout prob = 0 \n",
      "1/1 [==============================] - 0s 26ms/step - loss: 0.8844 - accuracy: 0.0000e+00\n",
      " node_nbr_l1= 32 node_nbr_l2= 128 node_nbr_l3= 32 batch size= 128 learning rate = 0.001 dropout prob = 0.1 \n",
      "1/1 [==============================] - 0s 24ms/step - loss: 1.4734 - accuracy: 0.0000e+00\n",
      " node_nbr_l1= 32 node_nbr_l2= 128 node_nbr_l3= 32 batch size= 128 learning rate = 0.001 dropout prob = 0.2 \n",
      "1/1 [==============================] - 0s 24ms/step - loss: 2.1893 - accuracy: 0.0000e+00\n",
      " node_nbr_l1= 32 node_nbr_l2= 128 node_nbr_l3= 32 batch size= 128 learning rate = 5e-05 dropout prob = 0 \n",
      "1/1 [==============================] - 0s 25ms/step - loss: 7.5173 - accuracy: 0.0000e+00\n",
      " node_nbr_l1= 32 node_nbr_l2= 128 node_nbr_l3= 32 batch size= 128 learning rate = 5e-05 dropout prob = 0.1 \n",
      "1/1 [==============================] - 0s 20ms/step - loss: 1.9987 - accuracy: 0.0000e+00\n",
      " node_nbr_l1= 32 node_nbr_l2= 128 node_nbr_l3= 32 batch size= 128 learning rate = 5e-05 dropout prob = 0.2 \n",
      "1/1 [==============================] - 0s 21ms/step - loss: 2.5758 - accuracy: 0.0000e+00\n",
      " node_nbr_l1= 32 node_nbr_l2= 128 node_nbr_l3= 32 batch size= 128 learning rate = 0.0001 dropout prob = 0 \n",
      "1/1 [==============================] - 0s 23ms/step - loss: 1.8102 - accuracy: 0.0000e+00\n",
      " node_nbr_l1= 32 node_nbr_l2= 128 node_nbr_l3= 32 batch size= 128 learning rate = 0.0001 dropout prob = 0.1 \n",
      "1/1 [==============================] - 0s 22ms/step - loss: 1.9275 - accuracy: 0.0000e+00\n",
      " node_nbr_l1= 32 node_nbr_l2= 128 node_nbr_l3= 32 batch size= 128 learning rate = 0.0001 dropout prob = 0.2 \n",
      "1/1 [==============================] - 0s 24ms/step - loss: 1.9814 - accuracy: 0.0000e+00\n",
      " node_nbr_l1= 32 node_nbr_l2= 128 node_nbr_l3= 64 batch size= 32 learning rate = 0.001 dropout prob = 0 \n",
      "1/1 [==============================] - 0s 22ms/step - loss: 0.4394 - accuracy: 0.0000e+00\n",
      " node_nbr_l1= 32 node_nbr_l2= 128 node_nbr_l3= 64 batch size= 32 learning rate = 0.001 dropout prob = 0.1 \n",
      "1/1 [==============================] - 0s 20ms/step - loss: 1.7239 - accuracy: 0.0000e+00\n",
      " node_nbr_l1= 32 node_nbr_l2= 128 node_nbr_l3= 64 batch size= 32 learning rate = 0.001 dropout prob = 0.2 \n",
      "1/1 [==============================] - 0s 21ms/step - loss: 1.8688 - accuracy: 0.0000e+00\n",
      " node_nbr_l1= 32 node_nbr_l2= 128 node_nbr_l3= 64 batch size= 32 learning rate = 5e-05 dropout prob = 0 \n",
      "1/1 [==============================] - 0s 21ms/step - loss: 7.5173 - accuracy: 0.0000e+00\n",
      " node_nbr_l1= 32 node_nbr_l2= 128 node_nbr_l3= 64 batch size= 32 learning rate = 5e-05 dropout prob = 0.1 \n",
      "1/1 [==============================] - 0s 20ms/step - loss: 2.1633 - accuracy: 0.0000e+00\n",
      " node_nbr_l1= 32 node_nbr_l2= 128 node_nbr_l3= 64 batch size= 32 learning rate = 5e-05 dropout prob = 0.2 \n",
      "1/1 [==============================] - 0s 28ms/step - loss: 1.2125 - accuracy: 0.0000e+00\n",
      " node_nbr_l1= 32 node_nbr_l2= 128 node_nbr_l3= 64 batch size= 32 learning rate = 0.0001 dropout prob = 0 \n",
      "1/1 [==============================] - 0s 24ms/step - loss: 7.5173 - accuracy: 0.0000e+00\n",
      " node_nbr_l1= 32 node_nbr_l2= 128 node_nbr_l3= 64 batch size= 32 learning rate = 0.0001 dropout prob = 0.1 \n",
      "1/1 [==============================] - 0s 23ms/step - loss: 1.9803 - accuracy: 0.0000e+00\n",
      " node_nbr_l1= 32 node_nbr_l2= 128 node_nbr_l3= 64 batch size= 32 learning rate = 0.0001 dropout prob = 0.2 \n",
      "1/1 [==============================] - 0s 26ms/step - loss: 3.5406 - accuracy: 0.0000e+00\n",
      " node_nbr_l1= 32 node_nbr_l2= 128 node_nbr_l3= 64 batch size= 64 learning rate = 0.001 dropout prob = 0 \n",
      "1/1 [==============================] - 0s 24ms/step - loss: 7.5173 - accuracy: 0.0000e+00\n",
      " node_nbr_l1= 32 node_nbr_l2= 128 node_nbr_l3= 64 batch size= 64 learning rate = 0.001 dropout prob = 0.1 \n",
      "1/1 [==============================] - 0s 24ms/step - loss: 1.9566 - accuracy: 0.0000e+00\n",
      " node_nbr_l1= 32 node_nbr_l2= 128 node_nbr_l3= 64 batch size= 64 learning rate = 0.001 dropout prob = 0.2 \n",
      "1/1 [==============================] - 0s 24ms/step - loss: 2.6804 - accuracy: 0.0000e+00\n",
      " node_nbr_l1= 32 node_nbr_l2= 128 node_nbr_l3= 64 batch size= 64 learning rate = 5e-05 dropout prob = 0 \n",
      "1/1 [==============================] - 0s 21ms/step - loss: 1.1333 - accuracy: 0.0000e+00\n",
      " node_nbr_l1= 32 node_nbr_l2= 128 node_nbr_l3= 64 batch size= 64 learning rate = 5e-05 dropout prob = 0.1 \n",
      "1/1 [==============================] - 0s 23ms/step - loss: 1.9868 - accuracy: 0.0000e+00\n",
      " node_nbr_l1= 32 node_nbr_l2= 128 node_nbr_l3= 64 batch size= 64 learning rate = 5e-05 dropout prob = 0.2 \n",
      "1/1 [==============================] - 0s 21ms/step - loss: 2.9071 - accuracy: 0.0000e+00\n",
      " node_nbr_l1= 32 node_nbr_l2= 128 node_nbr_l3= 64 batch size= 64 learning rate = 0.0001 dropout prob = 0 \n",
      "1/1 [==============================] - 0s 21ms/step - loss: 1.8927 - accuracy: 0.0000e+00\n",
      " node_nbr_l1= 32 node_nbr_l2= 128 node_nbr_l3= 64 batch size= 64 learning rate = 0.0001 dropout prob = 0.1 \n",
      "1/1 [==============================] - 0s 22ms/step - loss: 2.0430 - accuracy: 0.0000e+00\n",
      " node_nbr_l1= 32 node_nbr_l2= 128 node_nbr_l3= 64 batch size= 64 learning rate = 0.0001 dropout prob = 0.2 \n",
      "1/1 [==============================] - 0s 20ms/step - loss: 3.2072 - accuracy: 0.0000e+00\n",
      " node_nbr_l1= 32 node_nbr_l2= 128 node_nbr_l3= 64 batch size= 128 learning rate = 0.001 dropout prob = 0 \n",
      "1/1 [==============================] - 0s 22ms/step - loss: 1.0909 - accuracy: 0.0000e+00\n",
      " node_nbr_l1= 32 node_nbr_l2= 128 node_nbr_l3= 64 batch size= 128 learning rate = 0.001 dropout prob = 0.1 \n",
      "1/1 [==============================] - 0s 22ms/step - loss: 1.5828 - accuracy: 0.0000e+00\n",
      " node_nbr_l1= 32 node_nbr_l2= 128 node_nbr_l3= 64 batch size= 128 learning rate = 0.001 dropout prob = 0.2 \n",
      "1/1 [==============================] - 0s 20ms/step - loss: 2.5123 - accuracy: 0.0000e+00\n",
      " node_nbr_l1= 32 node_nbr_l2= 128 node_nbr_l3= 64 batch size= 128 learning rate = 5e-05 dropout prob = 0 \n",
      "1/1 [==============================] - 0s 24ms/step - loss: 1.0250 - accuracy: 0.0000e+00\n",
      " node_nbr_l1= 32 node_nbr_l2= 128 node_nbr_l3= 64 batch size= 128 learning rate = 5e-05 dropout prob = 0.1 \n",
      "1/1 [==============================] - 0s 26ms/step - loss: 2.3289 - accuracy: 0.0000e+00\n",
      " node_nbr_l1= 32 node_nbr_l2= 128 node_nbr_l3= 64 batch size= 128 learning rate = 5e-05 dropout prob = 0.2 \n",
      "1/1 [==============================] - 0s 23ms/step - loss: 3.1327 - accuracy: 0.0000e+00\n",
      " node_nbr_l1= 32 node_nbr_l2= 128 node_nbr_l3= 64 batch size= 128 learning rate = 0.0001 dropout prob = 0 \n",
      "1/1 [==============================] - 0s 28ms/step - loss: 1.0161 - accuracy: 0.0000e+00\n",
      " node_nbr_l1= 32 node_nbr_l2= 128 node_nbr_l3= 64 batch size= 128 learning rate = 0.0001 dropout prob = 0.1 \n",
      "1/1 [==============================] - 0s 24ms/step - loss: 2.1565 - accuracy: 0.0000e+00\n",
      " node_nbr_l1= 32 node_nbr_l2= 128 node_nbr_l3= 64 batch size= 128 learning rate = 0.0001 dropout prob = 0.2 \n",
      "1/1 [==============================] - 0s 24ms/step - loss: 3.5363 - accuracy: 0.0000e+00\n",
      " node_nbr_l1= 32 node_nbr_l2= 128 node_nbr_l3= 128 batch size= 32 learning rate = 0.001 dropout prob = 0 \n",
      "1/1 [==============================] - 0s 25ms/step - loss: 1.2219 - accuracy: 0.0000e+00\n",
      " node_nbr_l1= 32 node_nbr_l2= 128 node_nbr_l3= 128 batch size= 32 learning rate = 0.001 dropout prob = 0.1 \n",
      "1/1 [==============================] - 0s 29ms/step - loss: 1.4424 - accuracy: 0.0000e+00\n",
      " node_nbr_l1= 32 node_nbr_l2= 128 node_nbr_l3= 128 batch size= 32 learning rate = 0.001 dropout prob = 0.2 \n",
      "1/1 [==============================] - 0s 23ms/step - loss: 2.1276 - accuracy: 0.0000e+00\n",
      " node_nbr_l1= 32 node_nbr_l2= 128 node_nbr_l3= 128 batch size= 32 learning rate = 5e-05 dropout prob = 0 \n",
      "1/1 [==============================] - 0s 23ms/step - loss: 7.5173 - accuracy: 0.0000e+00\n",
      " node_nbr_l1= 32 node_nbr_l2= 128 node_nbr_l3= 128 batch size= 32 learning rate = 5e-05 dropout prob = 0.1 \n",
      "1/1 [==============================] - 0s 24ms/step - loss: 1.8598 - accuracy: 0.0000e+00\n",
      " node_nbr_l1= 32 node_nbr_l2= 128 node_nbr_l3= 128 batch size= 32 learning rate = 5e-05 dropout prob = 0.2 \n",
      "1/1 [==============================] - 0s 23ms/step - loss: 3.0467 - accuracy: 0.0000e+00\n",
      " node_nbr_l1= 32 node_nbr_l2= 128 node_nbr_l3= 128 batch size= 32 learning rate = 0.0001 dropout prob = 0 \n",
      "1/1 [==============================] - 0s 21ms/step - loss: 1.3847 - accuracy: 0.0000e+00\n",
      " node_nbr_l1= 32 node_nbr_l2= 128 node_nbr_l3= 128 batch size= 32 learning rate = 0.0001 dropout prob = 0.1 \n",
      "1/1 [==============================] - 0s 21ms/step - loss: 1.0098 - accuracy: 0.0000e+00\n",
      " node_nbr_l1= 32 node_nbr_l2= 128 node_nbr_l3= 128 batch size= 32 learning rate = 0.0001 dropout prob = 0.2 \n",
      "1/1 [==============================] - 0s 20ms/step - loss: 3.3880 - accuracy: 0.0000e+00\n",
      " node_nbr_l1= 32 node_nbr_l2= 128 node_nbr_l3= 128 batch size= 64 learning rate = 0.001 dropout prob = 0 \n",
      "1/1 [==============================] - 0s 21ms/step - loss: 7.5173 - accuracy: 0.0000e+00\n",
      " node_nbr_l1= 32 node_nbr_l2= 128 node_nbr_l3= 128 batch size= 64 learning rate = 0.001 dropout prob = 0.1 \n",
      "1/1 [==============================] - 0s 32ms/step - loss: 1.6890 - accuracy: 0.0000e+00\n",
      " node_nbr_l1= 32 node_nbr_l2= 128 node_nbr_l3= 128 batch size= 64 learning rate = 0.001 dropout prob = 0.2 \n",
      "1/1 [==============================] - 0s 25ms/step - loss: 2.9864 - accuracy: 0.0000e+00\n",
      " node_nbr_l1= 32 node_nbr_l2= 128 node_nbr_l3= 128 batch size= 64 learning rate = 5e-05 dropout prob = 0 \n",
      "1/1 [==============================] - 0s 26ms/step - loss: 7.5173 - accuracy: 0.0000e+00\n",
      " node_nbr_l1= 32 node_nbr_l2= 128 node_nbr_l3= 128 batch size= 64 learning rate = 5e-05 dropout prob = 0.1 \n",
      "1/1 [==============================] - 0s 25ms/step - loss: 1.3104 - accuracy: 0.0000e+00\n",
      " node_nbr_l1= 32 node_nbr_l2= 128 node_nbr_l3= 128 batch size= 64 learning rate = 5e-05 dropout prob = 0.2 \n",
      "1/1 [==============================] - 0s 26ms/step - loss: 2.0587 - accuracy: 0.0000e+00\n",
      " node_nbr_l1= 32 node_nbr_l2= 128 node_nbr_l3= 128 batch size= 64 learning rate = 0.0001 dropout prob = 0 \n",
      "1/1 [==============================] - 0s 27ms/step - loss: 0.8711 - accuracy: 0.0000e+00\n",
      " node_nbr_l1= 32 node_nbr_l2= 128 node_nbr_l3= 128 batch size= 64 learning rate = 0.0001 dropout prob = 0.1 \n",
      "1/1 [==============================] - 0s 27ms/step - loss: 1.4537 - accuracy: 0.0000e+00\n",
      " node_nbr_l1= 32 node_nbr_l2= 128 node_nbr_l3= 128 batch size= 64 learning rate = 0.0001 dropout prob = 0.2 \n",
      "1/1 [==============================] - 0s 24ms/step - loss: 2.4138 - accuracy: 0.0000e+00\n",
      " node_nbr_l1= 32 node_nbr_l2= 128 node_nbr_l3= 128 batch size= 128 learning rate = 0.001 dropout prob = 0 \n",
      "1/1 [==============================] - 0s 25ms/step - loss: 0.6542 - accuracy: 0.0000e+00\n",
      " node_nbr_l1= 32 node_nbr_l2= 128 node_nbr_l3= 128 batch size= 128 learning rate = 0.001 dropout prob = 0.1 \n",
      "1/1 [==============================] - 0s 23ms/step - loss: 1.8832 - accuracy: 0.0000e+00\n",
      " node_nbr_l1= 32 node_nbr_l2= 128 node_nbr_l3= 128 batch size= 128 learning rate = 0.001 dropout prob = 0.2 \n",
      "1/1 [==============================] - 0s 23ms/step - loss: 2.1864 - accuracy: 0.0000e+00\n",
      " node_nbr_l1= 32 node_nbr_l2= 128 node_nbr_l3= 128 batch size= 128 learning rate = 5e-05 dropout prob = 0 \n",
      "1/1 [==============================] - 0s 55ms/step - loss: 1.1195 - accuracy: 0.0000e+00\n",
      " node_nbr_l1= 32 node_nbr_l2= 128 node_nbr_l3= 128 batch size= 128 learning rate = 5e-05 dropout prob = 0.1 \n",
      "1/1 [==============================] - 0s 25ms/step - loss: 1.8701 - accuracy: 0.0000e+00\n",
      " node_nbr_l1= 32 node_nbr_l2= 128 node_nbr_l3= 128 batch size= 128 learning rate = 5e-05 dropout prob = 0.2 \n",
      "1/1 [==============================] - 0s 21ms/step - loss: 3.0333 - accuracy: 0.0000e+00\n",
      " node_nbr_l1= 32 node_nbr_l2= 128 node_nbr_l3= 128 batch size= 128 learning rate = 0.0001 dropout prob = 0 \n",
      "1/1 [==============================] - 0s 23ms/step - loss: 7.5173 - accuracy: 0.0000e+00\n",
      " node_nbr_l1= 32 node_nbr_l2= 128 node_nbr_l3= 128 batch size= 128 learning rate = 0.0001 dropout prob = 0.1 \n",
      "1/1 [==============================] - 0s 20ms/step - loss: 1.8422 - accuracy: 0.0000e+00\n",
      " node_nbr_l1= 32 node_nbr_l2= 128 node_nbr_l3= 128 batch size= 128 learning rate = 0.0001 dropout prob = 0.2 \n",
      "1/1 [==============================] - 0s 25ms/step - loss: 2.7007 - accuracy: 0.0000e+00\n"
     ]
    }
   ],
   "source": [
    "epochs = 1000\n",
    "minimal_loss_value = float('inf')\n",
    "efficient_model = None\n",
    "node_nbr_l1 =32 # [16,32,64,128]:\n",
    "for node_nbr_l2 in [16,32,64,128]:\n",
    "    for node_nbr_l3 in [16,32,64,128]:\n",
    "        for batch_size in [32, 64, 128]:\n",
    "            for alpha in [0.001, 0.00005, 0.0001]:\n",
    "                  for dropout_prob in [0, 0.1, 0.2]:\n",
    "                        print(f\" node_nbr_l1= 32 node_nbr_l2= {node_nbr_l2} node_nbr_l3= {node_nbr_l3} batch size= {batch_size} learning rate = {alpha} dropout prob = {dropout_prob} \")\n",
    "                        model, history = train_model(X_train, y_train, node_nbr_l1, node_nbr_l2, node_nbr_l3, batch_size, dropout_prob, alpha, epochs)\n",
    "                        loss_value = model.evaluate(X_validate, y_validate)[0]\n",
    "                        if loss_value < minimal_loss_value:\n",
    "                            minimal_loss_value = loss_value\n",
    "                            efficient_model = model\n",
    "                            #plot_history(history)\n"
   ]
  },
  {
   "cell_type": "code",
   "execution_count": 20,
   "id": "f1d00240",
   "metadata": {
    "execution": {
     "iopub.execute_input": "2023-02-18T01:54:07.676980Z",
     "iopub.status.busy": "2023-02-18T01:54:07.676572Z",
     "iopub.status.idle": "2023-02-18T01:54:07.849960Z",
     "shell.execute_reply": "2023-02-18T01:54:07.848922Z"
    },
    "executionInfo": {
     "elapsed": 1273,
     "status": "ok",
     "timestamp": 1676484492950,
     "user": {
      "displayName": "Nour Bouajina",
      "userId": "06411185987711433657"
     },
     "user_tz": -60
    },
    "id": "9peFXfVAIcpM",
    "outputId": "9ced89b2-7f62-458b-8be3-225371ed0183",
    "papermill": {
     "duration": 0.253777,
     "end_time": "2023-02-18T01:54:07.852078",
     "exception": false,
     "start_time": "2023-02-18T01:54:07.598301",
     "status": "completed"
    },
    "tags": []
   },
   "outputs": [
    {
     "name": "stdout",
     "output_type": "stream",
     "text": [
      "1/1 [==============================] - 0s 101ms/step\n"
     ]
    },
    {
     "data": {
      "text/plain": [
       "0.43944653771140346"
      ]
     },
     "execution_count": 20,
     "metadata": {},
     "output_type": "execute_result"
    }
   ],
   "source": [
    "y_pred = efficient_model.predict(X_validate)\n",
    "loss=np.mean(abs((y_validate-y_pred)))\n",
    "loss"
   ]
  },
  {
   "cell_type": "code",
   "execution_count": 21,
   "id": "4d63e99d",
   "metadata": {
    "execution": {
     "iopub.execute_input": "2023-02-18T01:54:08.009768Z",
     "iopub.status.busy": "2023-02-18T01:54:08.008877Z",
     "iopub.status.idle": "2023-02-18T01:54:08.013778Z",
     "shell.execute_reply": "2023-02-18T01:54:08.012901Z"
    },
    "executionInfo": {
     "elapsed": 14,
     "status": "ok",
     "timestamp": 1676484618767,
     "user": {
      "displayName": "Nour Bouajina",
      "userId": "06411185987711433657"
     },
     "user_tz": -60
    },
    "id": "TTs7kVQGHgTp",
    "outputId": "383e4d79-8f1d-48b5-eac1-e7b496e90eec",
    "papermill": {
     "duration": 0.085204,
     "end_time": "2023-02-18T01:54:08.015864",
     "exception": false,
     "start_time": "2023-02-18T01:54:07.930660",
     "status": "completed"
    },
    "tags": []
   },
   "outputs": [],
   "source": [
    "#loss=np.mean(abs((y_validate-y_pred)))\n",
    "#loss"
   ]
  },
  {
   "cell_type": "code",
   "execution_count": 22,
   "id": "47f3e113",
   "metadata": {
    "execution": {
     "iopub.execute_input": "2023-02-18T01:54:08.173740Z",
     "iopub.status.busy": "2023-02-18T01:54:08.172837Z",
     "iopub.status.idle": "2023-02-18T01:54:08.179875Z",
     "shell.execute_reply": "2023-02-18T01:54:08.178851Z"
    },
    "executionInfo": {
     "elapsed": 356,
     "status": "ok",
     "timestamp": 1676491601075,
     "user": {
      "displayName": "Nour Bouajina",
      "userId": "06411185987711433657"
     },
     "user_tz": -60
    },
    "id": "Mtjem6ZwchXl",
    "papermill": {
     "duration": 0.090023,
     "end_time": "2023-02-18T01:54:08.182589",
     "exception": false,
     "start_time": "2023-02-18T01:54:08.092566",
     "status": "completed"
    },
    "tags": []
   },
   "outputs": [],
   "source": [
    "def calculate_pred (X_data, moy) :\n",
    "    for x in range(len(X_data)):\n",
    "        if (X_data.iloc[x, :]['final_Moy S1'] <= moy): # 'final_Moy S1' == 'final_Moy S1'\n",
    "            col = X_data['final_Moy S1'].values.reshape(-1, 1)\n",
    "            preds = reg_model.predict(col)\n",
    "        else:\n",
    "            preds = efficient_model.predict(X_data)\n",
    "    return preds"
   ]
  },
  {
   "cell_type": "code",
   "execution_count": 23,
   "id": "0fcdf5a4",
   "metadata": {
    "execution": {
     "iopub.execute_input": "2023-02-18T01:54:08.339675Z",
     "iopub.status.busy": "2023-02-18T01:54:08.339331Z",
     "iopub.status.idle": "2023-02-18T01:54:08.343706Z",
     "shell.execute_reply": "2023-02-18T01:54:08.342748Z"
    },
    "id": "vw571IHBZxuH",
    "papermill": {
     "duration": 0.085787,
     "end_time": "2023-02-18T01:54:08.345754",
     "exception": false,
     "start_time": "2023-02-18T01:54:08.259967",
     "status": "completed"
    },
    "tags": []
   },
   "outputs": [],
   "source": [
    "\n",
    "#interval = np.linspace(6, 12, 60)\n",
    "#minimal_loss_value = float('inf')\n",
    "#best_m= 3\n",
    "#for moy in interval:\n",
    "#  y_pred = calculate_pred(X_validate, moy)\n",
    "#  loss= np.mean(abs((y_validate-y_pred)))\n",
    "#  if loss < minimal_loss_value:\n",
    "#    minimal_loss_value = loss\n",
    "#    best_m = moy\n",
    "#print(minimal_loss_value)\n",
    "#print(best_m)\n",
    "# result : min_loss =0.607 & moy = 6.0"
   ]
  },
  {
   "cell_type": "code",
   "execution_count": 24,
   "id": "8a4589b1",
   "metadata": {
    "execution": {
     "iopub.execute_input": "2023-02-18T01:54:08.503658Z",
     "iopub.status.busy": "2023-02-18T01:54:08.503315Z",
     "iopub.status.idle": "2023-02-18T01:54:08.508349Z",
     "shell.execute_reply": "2023-02-18T01:54:08.507365Z"
    },
    "executionInfo": {
     "elapsed": 449,
     "status": "ok",
     "timestamp": 1676491564583,
     "user": {
      "displayName": "Nour Bouajina",
      "userId": "06411185987711433657"
     },
     "user_tz": -60
    },
    "id": "0NlSQaEorP8K",
    "papermill": {
     "duration": 0.08645,
     "end_time": "2023-02-18T01:54:08.510403",
     "exception": false,
     "start_time": "2023-02-18T01:54:08.423953",
     "status": "completed"
    },
    "tags": []
   },
   "outputs": [],
   "source": [
    "#test_cols=['BI DS S2','Adm BD TP S2','Adm BD DS S2','Tech Index TP S2','Tech Index DS S2','Prog web TP S2','Prog web DS S2', 'Test log TP S2', 'Test log TP S2','Test DS S2','Compilation TP S2','Compilation DS S2','IA TP S2','IA DS S2','Droit Inf DS S2','Proj federe DS S2', 'Anglais DS S2','Vision Ord TP S2', 'Vision Ord DS S2','ERP TP S2','ERP DS S2','Proba TP S1','Proba DS S1','Proba EX S1','Proba M S1','Proba C S1','TLA DS S1','TLA EX S1','TLA M S1','TLA C S1','Graphe DS S1','Graphe EX S1','Graphe M S1', 'Graphe C S1','sem1_M_module_Automates et optimisation','sem1_C_module_Automates et optimisation','Ing BD TP S1','Ing BD DS S1','Ing BD EX S1','Ing BD M S1','Ing BD Cr S1','Réseaux TP S1','Réseaux DS S1','Réseaux EX S1','Réseaux M S1','Réseaux Cr S1','sem1_M_module_Bases de données et réseaux','sem1_C_module_Bases de données et réseaux','Gestion entreprise DS S1','Gestion entreprise EX S1','Gestion entreprise M S1','Gestion entreprise Cr S1','Anglais DS S1','Anglais EX S1','Anglais M S1','Anglais Cr S1','sem1_M_module_Langue et culture','sem1_C_module_Langue et culture','UML DS S1','UML EX S1','UML M S1','UML Cr S1','Java TP S1','Java DS S1','Java EX S1','Java M S1','Java Cr S1', 'sem1_M_module_CPOO', 'sem1_C_module_CPOO','SIRS TP S1','SIRS DS S1','SIRS EX S1','SIRS M S','SIRS Cr S1','OTC TP S2','OTC DS S2','OTC EX S2','OTC M S2','OTC Cr S2', 'final_Moy S1','final_credit S1']"
   ]
  },
  {
   "cell_type": "code",
   "execution_count": 25,
   "id": "b02eed42",
   "metadata": {
    "execution": {
     "iopub.execute_input": "2023-02-18T01:54:08.667383Z",
     "iopub.status.busy": "2023-02-18T01:54:08.667041Z",
     "iopub.status.idle": "2023-02-18T01:54:13.132057Z",
     "shell.execute_reply": "2023-02-18T01:54:13.131057Z"
    },
    "id": "s51plCZBjOd1",
    "papermill": {
     "duration": 4.547325,
     "end_time": "2023-02-18T01:54:13.134585",
     "exception": false,
     "start_time": "2023-02-18T01:54:08.587260",
     "status": "completed"
    },
    "tags": []
   },
   "outputs": [
    {
     "name": "stdout",
     "output_type": "stream",
     "text": [
      "3/3 [==============================] - 0s 3ms/step\n",
      "3/3 [==============================] - 0s 3ms/step\n",
      "3/3 [==============================] - 0s 3ms/step\n",
      "3/3 [==============================] - 0s 3ms/step\n",
      "3/3 [==============================] - 0s 3ms/step\n",
      "3/3 [==============================] - 0s 3ms/step\n",
      "3/3 [==============================] - 0s 3ms/step\n",
      "3/3 [==============================] - 0s 3ms/step\n",
      "3/3 [==============================] - 0s 7ms/step\n",
      "3/3 [==============================] - 0s 3ms/step\n",
      "3/3 [==============================] - 0s 3ms/step\n",
      "3/3 [==============================] - 0s 3ms/step\n",
      "3/3 [==============================] - 0s 3ms/step\n",
      "3/3 [==============================] - 0s 2ms/step\n",
      "3/3 [==============================] - 0s 3ms/step\n",
      "3/3 [==============================] - 0s 3ms/step\n",
      "3/3 [==============================] - 0s 4ms/step\n",
      "3/3 [==============================] - 0s 4ms/step\n",
      "3/3 [==============================] - 0s 4ms/step\n",
      "3/3 [==============================] - 0s 3ms/step\n",
      "3/3 [==============================] - 0s 3ms/step\n",
      "3/3 [==============================] - 0s 3ms/step\n",
      "3/3 [==============================] - 0s 3ms/step\n",
      "3/3 [==============================] - 0s 2ms/step\n",
      "3/3 [==============================] - 0s 3ms/step\n",
      "3/3 [==============================] - 0s 3ms/step\n",
      "3/3 [==============================] - 0s 2ms/step\n",
      "3/3 [==============================] - 0s 2ms/step\n",
      "3/3 [==============================] - 0s 2ms/step\n",
      "3/3 [==============================] - 0s 3ms/step\n",
      "3/3 [==============================] - 0s 3ms/step\n",
      "3/3 [==============================] - 0s 3ms/step\n",
      "3/3 [==============================] - 0s 3ms/step\n",
      "3/3 [==============================] - 0s 3ms/step\n",
      "3/3 [==============================] - 0s 3ms/step\n",
      "3/3 [==============================] - 0s 2ms/step\n",
      "3/3 [==============================] - 0s 3ms/step\n",
      "3/3 [==============================] - 0s 3ms/step\n",
      "3/3 [==============================] - 0s 2ms/step\n",
      "3/3 [==============================] - 0s 2ms/step\n",
      "3/3 [==============================] - 0s 3ms/step\n",
      "3/3 [==============================] - 0s 2ms/step\n",
      "3/3 [==============================] - 0s 2ms/step\n",
      "3/3 [==============================] - 0s 3ms/step\n",
      "3/3 [==============================] - 0s 3ms/step\n",
      "3/3 [==============================] - 0s 2ms/step\n",
      "3/3 [==============================] - 0s 3ms/step\n",
      "3/3 [==============================] - 0s 2ms/step\n",
      "3/3 [==============================] - 0s 2ms/step\n",
      "3/3 [==============================] - 0s 2ms/step\n",
      "3/3 [==============================] - 0s 3ms/step\n",
      "3/3 [==============================] - 0s 3ms/step\n",
      "3/3 [==============================] - 0s 3ms/step\n",
      "3/3 [==============================] - 0s 3ms/step\n",
      "3/3 [==============================] - 0s 2ms/step\n"
     ]
    }
   ],
   "source": [
    "test_cols=['BI DS S2','Adm BD TP S2','Adm BD DS S2','Tech Index TP S2','Tech Index DS S2','Prog web TP S2','Prog web DS S2', 'Test log TP S2', 'Test log TP S2','Test DS S2','Compilation TP S2','Compilation DS S2','IA TP S2','IA DS S2','Droit Inf DS S2','Proj federe DS S2', 'Anglais DS S2','Vision Ord TP S2', 'Vision Ord DS S2','ERP TP S2','ERP DS S2','Proba TP S1','Proba DS S1','Proba EX S1','Proba M S1','Proba C S1','TLA DS S1','TLA EX S1','TLA M S1','TLA C S1','Graphe DS S1','Graphe EX S1','Graphe M S1', 'Graphe C S1','sem1_M_module_Automates et optimisation','sem1_C_module_Automates et optimisation','Ing BD TP S1','Ing BD DS S1','Ing BD EX S1','Ing BD M S1','Ing BD Cr S1','Réseaux TP S1','Réseaux DS S1','Réseaux EX S1','Réseaux M S1','Réseaux Cr S1','sem1_M_module_Bases de données et réseaux','sem1_C_module_Bases de données et réseaux','Gestion entreprise DS S1','Gestion entreprise EX S1','Gestion entreprise M S1','Gestion entreprise Cr S1','Anglais DS S1','Anglais EX S1','Anglais M S1','Anglais Cr S1','sem1_M_module_Langue et culture','sem1_C_module_Langue et culture','UML DS S1','UML EX S1','UML M S1','UML Cr S1','Java TP S1','Java DS S1','Java EX S1','Java M S1','Java Cr S1', 'sem1_M_module_CPOO', 'sem1_C_module_CPOO','SIRS TP S1','SIRS DS S1','SIRS EX S1','SIRS M S','SIRS Cr S1','OTC TP S2','OTC DS S2','OTC EX S2','OTC M S2','OTC Cr S2', 'final_Moy S1','final_credit S1']\n",
    "test_data = pd.read_csv('/kaggle/input/lou-comp-dataset/test.csv')\n",
    "test_data.columns = test_cols\n",
    "test_data=test_data.drop(['Gestion entreprise DS S1','Gestion entreprise M S1','Anglais DS S1','Anglais EX S1','Adm BD TP S2','Tech Index TP S2','Prog web TP S2','Test log TP S2','Compilation TP S2','IA TP S2','Droit Inf DS S2','Anglais DS S2','Vision Ord TP S2','ERP TP S2','Proba TP S1','Proba C S1','TLA C S1','Graphe C S1','sem1_C_module_Automates et optimisation','Ing BD TP S1','Réseaux TP S1','Réseaux Cr S1','sem1_C_module_Bases de données et réseaux','Gestion entreprise Cr S1','Anglais Cr S1','sem1_C_module_Langue et culture','UML Cr S1','Java TP S1','Java Cr S1','sem1_C_module_CPOO','SIRS TP S1','SIRS Cr S1','OTC TP S2','OTC Cr S2'], axis=1)\n",
    "preds = calculate_pred (test_data, 10)\n",
    "sub = pd.read_csv('/kaggle/input/lou-comp-dataset/Sample Submission.csv')\n",
    "sub[\"final_Moyenne générale\"] = preds\n",
    "sub.to_csv(\"submission.csv\", index= False)"
   ]
  }
 ],
 "metadata": {
  "kernelspec": {
   "display_name": "Python 3",
   "language": "python",
   "name": "python3"
  },
  "language_info": {
   "codemirror_mode": {
    "name": "ipython",
    "version": 3
   },
   "file_extension": ".py",
   "mimetype": "text/x-python",
   "name": "python",
   "nbconvert_exporter": "python",
   "pygments_lexer": "ipython3",
   "version": "3.7.12"
  },
  "papermill": {
   "default_parameters": {},
   "duration": 12014.65392,
   "end_time": "2023-02-18T01:54:16.504410",
   "environment_variables": {},
   "exception": null,
   "input_path": "__notebook__.ipynb",
   "output_path": "__notebook__.ipynb",
   "parameters": {},
   "start_time": "2023-02-17T22:34:01.850490",
   "version": "2.3.4"
  }
 },
 "nbformat": 4,
 "nbformat_minor": 5
}
